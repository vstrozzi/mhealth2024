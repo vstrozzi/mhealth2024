{
 "cells": [
  {
   "cell_type": "code",
   "execution_count": 1,
   "id": "3d7fe6fb",
   "metadata": {
    "collapsed": false,
    "execution": {
     "iopub.execute_input": "2023-05-08T15:52:21.940433Z",
     "iopub.status.busy": "2023-05-08T15:52:21.939864Z",
     "iopub.status.idle": "2023-05-08T15:56:22.919747Z",
     "shell.execute_reply": "2023-05-08T15:56:22.918424Z"
    },
    "papermill": {
     "duration": 240.991144,
     "end_time": "2023-05-08T15:56:22.922862",
     "exception": false,
     "start_time": "2023-05-08T15:52:21.931718",
     "status": "completed"
    },
    "pycharm": {
     "name": "#%%\n"
    },
    "tags": []
   },
   "outputs": [],
   "source": [
    "# INTERACTIVE PLOTS (only if you code locally, unfortunately)\n",
    "# This cell can take some minutes to run\n",
    "# You should only need to run this cell once and not everytime you open the script\n",
    "# In case the plotting of the data below does not work because of the error \"Error displaying widget: model not found\"\n",
    "# you'll probably have to restart your kernel once more.\n",
    "\n",
    "# IMPORTANT: After running this cell, restart your kernel\n",
    "# uncomment the next two lines for interactive plots\n",
    "# !jupyter labextension install @jupyter-widgets/jupyterlab-manager jupyter-leaflet\n",
    "# !pip install install nodejs"
   ]
  },
  {
   "cell_type": "code",
   "execution_count": 2,
   "id": "25e85ead",
   "metadata": {
    "collapsed": false,
    "execution": {
     "iopub.execute_input": "2023-05-08T15:56:23.192715Z",
     "iopub.status.busy": "2023-05-08T15:56:23.191778Z",
     "iopub.status.idle": "2023-05-08T15:56:23.573394Z",
     "shell.execute_reply": "2023-05-08T15:56:23.572234Z"
    },
    "papermill": {
     "duration": 0.518619,
     "end_time": "2023-05-08T15:56:23.576184",
     "exception": false,
     "start_time": "2023-05-08T15:56:23.057565",
     "status": "completed"
    },
    "pycharm": {
     "name": "#%%\n"
    },
    "tags": []
   },
   "outputs": [],
   "source": [
    "import matplotlib.pyplot as plt\n",
    "import matplotlib.dates as mdates\n",
    "import os\n",
    "import re\n",
    "import numpy as np\n",
    "import pandas as pd\n",
    "from scipy.signal import stft\n",
    "from sklearn.model_selection import train_test_split\n",
    "from sklearn.metrics import mean_squared_error, mean_absolute_error, mean_absolute_percentage_error, multilabel_confusion_matrix\n",
    "from sklearn.datasets import make_multilabel_classification\n",
    "import xgboost as xgb \n",
    "import pickle\n",
    "from scipy.signal import find_peaks, stft, istft\n",
    "from scipy.signal import butter, lfilter\n",
    "# You may change the mhealth_activity module but your algorithm must support the original version\n",
    "from mhealth_activity import Recording, Trace, Activity, WatchLocation, Path\n",
    "\n",
    "\n",
    "\n",
    "# For interactive plots, uncomment the following line\n",
    "# %matplotlib widget"
   ]
  },
  {
   "cell_type": "markdown",
   "id": "98feea1c",
   "metadata": {},
   "source": [
    "# TASK\n",
    "### Goal:\n",
    "\n",
    "* nr_steps (N)\n",
    "* sensor_pos (0: left_writs, 1: belt, 2: right_angle)\n",
    "* activities for >= 60 secs (standing: bool, walking: bool, running: bool, cycling: bool)\n",
    "* path (0, 1, 2, 3, 4)\n",
    "\n",
    "### Algo:\n",
    "\n",
    "* nr_steps: accelerometer data use STFT\n",
    "* sensor_pos (0: left_writs, 1: belt, 2: right_angle): different parts of body move in different ways. Need to identify walking first (small window 1 sec, then 10 sec and keep the ones with more than 70 walking). Then majority train on features\n",
    "* activities recognition (classification): accelerometer data, 50% overlap window, on windows of around 5 seconds, mean, std, energy, correlation x 3 (X, Y, Z). Last 2 from FFT. Classification with XGBOOST per window, then aggregate the results and check if we have at least 11-12 consecutive windows of some activity. GT: phone\n",
    "* path (0, 1, 2, 3, 4): not clear yet by I would say divide whole period in features over window of 5 sec. Then pass all to XGBOOST with padding and do classification. \n",
    "\n",
    "### INFOS\n",
    "\n",
    "* phone_steps sometimes available but low confidence (*weak label*)\n",
    "* no data where someone is draggin feet (false steps)\n",
    "* activities either for < 30 seconds or >= 60 seconds\n",
    "* standing: in 1 minute less than 7 steps\n",
    "* walking: standing still < 8 seconds in between 2 steps is considered walking\n",
    "* running: both feet above ground when running, still < 8 seconds in between 2 steps is considered running\n",
    "* smartphone could be placed everywhere and varying -> data can vary a lot \n",
    "* weak label for activities in data, since only tell activity was performed, not for how long (*weak label*)\n",
    "\n",
    "### CONSTRAINTS\n",
    "* On KAGGLE CPU <= 10 seconds pred for each individual .pkl file (inference)\n",
    "\n",
    "\n",
    "## TO DO\n",
    "* One model for walking prediction"
   ]
  },
  {
   "cell_type": "markdown",
   "id": "5c3f8de8",
   "metadata": {},
   "source": [
    "# Steps"
   ]
  },
  {
   "cell_type": "code",
   "execution_count": 3,
   "id": "1e637a3f",
   "metadata": {},
   "outputs": [],
   "source": [
    "SAMPLING_RATE = 200"
   ]
  },
  {
   "cell_type": "code",
   "execution_count": 4,
   "id": "cdb6cc99",
   "metadata": {},
   "outputs": [],
   "source": [
    "def plot_signal(signal, title, ylabel, sampling_rate=SAMPLING_RATE, peaks=[]):\n",
    "    x = np.linspace(0, len(signal) / sampling_rate, len(signal))\n",
    "    t = pd.to_datetime(x, unit='s')\n",
    "\n",
    "    fig, ax = plt.subplots()\n",
    "    ax.plot(t if len(peaks) == 0 else np.linspace(0, len(signal), len(signal)) , signal)\n",
    "    ax.set_title(title)\n",
    "    ax.set_xlabel('Time [min:sec]' if len(peaks) == 0 else \"Indexes\")\n",
    "    ax.set_ylabel(ylabel)\n",
    "    ax.xaxis.set_major_formatter(mdates.DateFormatter('%M:%S'))\n",
    "    \n",
    "    # Plot peaks if given\n",
    "    if len(peaks) != 0:\n",
    "        plt.plot(peaks, signal[peaks], \"x\", color=\"green\")\n",
    "    plt.show()"
   ]
  },
  {
   "cell_type": "code",
   "execution_count": 5,
   "id": "48c41a27",
   "metadata": {},
   "outputs": [],
   "source": [
    "def get_signal_mag(ax, ay, az):\n",
    "\n",
    "    return (ax**2 + ay**2 + az**2)**0.5"
   ]
  },
  {
   "cell_type": "code",
   "execution_count": 6,
   "id": "16e94818",
   "metadata": {},
   "outputs": [],
   "source": [
    "# Get magnitude walk\n",
    "def get_signal_walk(path):\n",
    "    recording = Recording(path)\n",
    "\n",
    "    # Magnitude\n",
    "    magn = get_signal_mag(recording.data['ax'].values, recording.data['ay'].values,  recording.data['az'].values)\n",
    "    \n",
    "    step_count = recording.labels[\"step_count\"]\n",
    "    \n",
    "    return magn, step_count if step_count != None else 0\n"
   ]
  },
  {
   "cell_type": "code",
   "execution_count": 7,
   "id": "68fe3af5",
   "metadata": {},
   "outputs": [],
   "source": [
    "# Clean low frequencies, RFFT since signals contain only real values (+faster)\n",
    "def algo_walk(acc_phase, label = 0, wind_length = 3.4, mov_avg_wind_s = 0.15, std_thr = 0.146, std_wind = 0.35, freq_max_hz = 2.1, prom = 2.85, sampling_rate = SAMPLING_RATE, show=False):\n",
    "    # Number samples\n",
    "    N = len(acc_phase)\n",
    "    \n",
    "    \n",
    "    # Eval moving average over window\n",
    "    mov_avg_wind = int(mov_avg_wind_s*sampling_rate)\n",
    "    numbers_series = pd.Series(acc_phase)\n",
    "\n",
    "    windows = numbers_series.rolling(mov_avg_wind, center=True)\n",
    "    moving_averages = windows.mean()\n",
    "\n",
    "    # Set first null entries from the list to zero\n",
    "    moving_averages = moving_averages.fillna(0)\n",
    "    acc_filt = moving_averages.to_numpy()\n",
    "\n",
    "    # Plot filered signal\n",
    "    if show:\n",
    "        plot_signal(acc_phase[40*sampling_rate:45*sampling_rate], 'Magnitude Acc Original', 'Amplitude')\n",
    "        plot_signal(acc_filt[40*sampling_rate:45*sampling_rate], 'Magnitude Acc Cleaned', 'Amplitude')\n",
    "\n",
    "    # Get peaks every windows sec\n",
    "    pred = 0\n",
    "\n",
    "    # Walking or movement detection first\n",
    "    step = int(std_wind*sampling_rate)\n",
    "    moving = np.empty(N)\n",
    "    for i in range(step, N - step):\n",
    "        std_l = lambda val: np.std(val[int(i - step):int(i + step)]) > std_thr\n",
    "        moving[i + step]  = std_l(acc_phase)\n",
    "            \n",
    "    # Copy for first and last\n",
    "    moving[0:step] = moving[step:2*step]\n",
    "    moving[-step:]= moving[-2*step:-step]\n",
    "    if show:\n",
    "        plot_signal(moving, \"Accel Signal\", \"Moving\")\n",
    "        plot_signal(acc_phase, \"Accel Signal original\", \"Moving\")\n",
    "    \n",
    "    \n",
    "    wind_step = int(wind_length*sampling_rate)\n",
    "    for i in range(0, N, wind_step):\n",
    "        acc_wind_filt = acc_filt[i:(i+ wind_step)]\n",
    "        acc_wind_orig = acc_phase[i:(i+ wind_step)]\n",
    "        moving_wind = moving[i:(i+ wind_step)]\n",
    "\n",
    "        # Normalize\n",
    "        # Here you can modify freely the parameters of find peak\n",
    "        # Minimum distance for our peaks is len_signal_per_minute/max_acc_beat (30 seconds)\n",
    "        distance = 1/freq_max_hz*sampling_rate\n",
    "        prominence = (np.max(acc_wind_filt) - np.min(acc_wind_filt))/prom\n",
    "        peaks, _ = find_peaks(acc_wind_filt, height = np.mean(acc_wind_filt), distance=distance, prominence=prominence)\n",
    "        \n",
    "        # Keeps peaks only where energy is not too low\n",
    "        peaks = [peak for peak in peaks if moving_wind[peak]]\n",
    "        # Find peaks with double heel, remove half\n",
    "        pred += len(peaks)\n",
    "        \n",
    "\n",
    "        # Plot example in range\n",
    "        if i == 8*wind_step and show:\n",
    "            plot_signal(acc_wind_orig, 'Acc Orig from {} to {} s'.format(i*sampling_rate, (i+ 10)*sampling_rate), 'Amplitude', peaks=peaks)\n",
    "            plot_signal(acc_wind_filt, 'Acc Filt from {} to {} s'.format(i*sampling_rate, (i+ 10)*sampling_rate), 'Amplitude', peaks=peaks)\n",
    "            plot_signal(moving_wind, 'Acc wrist Filt from {} to {} s'.format(i*sampling_rate, (i+ 10)*sampling_rate), 'Amplitude', peaks=peaks)\n",
    "\n",
    "    # Print prediction of score if given heart rate ground truth\n",
    "    if label != 0:   \n",
    "        print(\"We have found {} compared to the gt of {} steps\".format(pred, label))\n",
    "    return pred\n"
   ]
  },
  {
   "cell_type": "code",
   "execution_count": 8,
   "id": "aa78329f",
   "metadata": {},
   "outputs": [
    {
     "name": "stderr",
     "output_type": "stream",
     "text": [
      "[I 2024-05-01 20:49:07,380] Trial 60 finished with value: 285823.0 and parameters: {'wind_length': 2.4, 'mov_avg_wind_s': 1.05, 'std_thr': 0.041, 'std_wind': 0.9500000000000001, 'freq_max_hz': 1.8, 'prom': 2.95}. Best is trial 34 with value: 57245.0.\n",
      "[I 2024-05-01 20:49:22,294] Trial 61 finished with value: 74351.0 and parameters: {'wind_length': 3.1, 'mov_avg_wind_s': 1.35, 'std_thr': 0.116, 'std_wind': 0.75, 'freq_max_hz': 2.0, 'prom': 2.5}. Best is trial 34 with value: 57245.0.\n",
      "[I 2024-05-01 20:49:37,709] Trial 62 finished with value: 79292.0 and parameters: {'wind_length': 2.9, 'mov_avg_wind_s': 1.3000000000000003, 'std_thr': 0.116, 'std_wind': 0.7000000000000001, 'freq_max_hz': 2.0, 'prom': 2.55}. Best is trial 34 with value: 57245.0.\n",
      "[I 2024-05-01 20:49:51,312] Trial 63 finished with value: 137776.0 and parameters: {'wind_length': 3.5, 'mov_avg_wind_s': 1.4500000000000002, 'std_thr': 0.191, 'std_wind': 0.8, 'freq_max_hz': 2.2, 'prom': 2.75}. Best is trial 34 with value: 57245.0.\n",
      "[I 2024-05-01 20:50:04,752] Trial 64 finished with value: 110237.0 and parameters: {'wind_length': 3.1, 'mov_avg_wind_s': 1.2000000000000002, 'std_thr': 0.091, 'std_wind': 0.75, 'freq_max_hz': 2.1, 'prom': 2.35}. Best is trial 34 with value: 57245.0.\n",
      "[I 2024-05-01 20:50:18,450] Trial 65 finished with value: 68646.0 and parameters: {'wind_length': 4.6, 'mov_avg_wind_s': 1.35, 'std_thr': 0.171, 'std_wind': 0.6, 'freq_max_hz': 2.3000000000000003, 'prom': 2.85}. Best is trial 34 with value: 57245.0.\n",
      "[I 2024-05-01 20:50:31,744] Trial 66 finished with value: 81511.0 and parameters: {'wind_length': 4.8, 'mov_avg_wind_s': 1.2500000000000002, 'std_thr': 0.146, 'std_wind': 0.55, 'freq_max_hz': 2.3000000000000003, 'prom': 2.45}. Best is trial 34 with value: 57245.0.\n",
      "[I 2024-05-01 20:50:45,509] Trial 67 finished with value: 117126.0 and parameters: {'wind_length': 2.7, 'mov_avg_wind_s': 1.0, 'std_thr': 0.171, 'std_wind': 0.6, 'freq_max_hz': 2.1, 'prom': 2.6}. Best is trial 34 with value: 57245.0.\n",
      "[I 2024-05-01 20:50:58,976] Trial 68 finished with value: 191815.0 and parameters: {'wind_length': 2.2, 'mov_avg_wind_s': 1.5000000000000002, 'std_thr': 0.121, 'std_wind': 0.5, 'freq_max_hz': 1.9000000000000001, 'prom': 2.8}. Best is trial 34 with value: 57245.0.\n",
      "[I 2024-05-01 20:51:12,740] Trial 69 finished with value: 272211.0 and parameters: {'wind_length': 4.6, 'mov_avg_wind_s': 1.1, 'std_thr': 0.136, 'std_wind': 0.65, 'freq_max_hz': 2.3000000000000003, 'prom': 2.95}. Best is trial 34 with value: 57245.0.\n",
      "[I 2024-05-01 20:51:26,670] Trial 70 finished with value: 112760.0 and parameters: {'wind_length': 3.7, 'mov_avg_wind_s': 1.4000000000000001, 'std_thr': 0.156, 'std_wind': 0.7000000000000001, 'freq_max_hz': 2.5, 'prom': 2.25}. Best is trial 34 with value: 57245.0.\n",
      "[I 2024-05-01 20:51:40,867] Trial 71 finished with value: 81291.0 and parameters: {'wind_length': 4.3, 'mov_avg_wind_s': 1.35, 'std_thr': 0.191, 'std_wind': 0.85, 'freq_max_hz': 2.4000000000000004, 'prom': 2.85}. Best is trial 34 with value: 57245.0.\n",
      "[I 2024-05-01 20:51:55,332] Trial 72 finished with value: 115231.0 and parameters: {'wind_length': 4.5, 'mov_avg_wind_s': 1.2000000000000002, 'std_thr': 0.211, 'std_wind': 0.9, 'freq_max_hz': 2.4000000000000004, 'prom': 2.7}. Best is trial 34 with value: 57245.0.\n",
      "[I 2024-05-01 20:52:09,695] Trial 73 finished with value: 97830.0 and parameters: {'wind_length': 4.8, 'mov_avg_wind_s': 1.3000000000000003, 'std_thr': 0.17600000000000002, 'std_wind': 0.75, 'freq_max_hz': 2.0, 'prom': 2.85}. Best is trial 34 with value: 57245.0.\n",
      "[I 2024-05-01 20:52:24,098] Trial 74 finished with value: 58982.0 and parameters: {'wind_length': 4.2, 'mov_avg_wind_s': 0.25, 'std_thr': 0.166, 'std_wind': 0.55, 'freq_max_hz': 2.2, 'prom': 2.6500000000000004}. Best is trial 34 with value: 57245.0.\n",
      "[I 2024-05-01 20:52:38,754] Trial 75 finished with value: 58067.0 and parameters: {'wind_length': 4.2, 'mov_avg_wind_s': 0.25, 'std_thr': 0.166, 'std_wind': 0.5, 'freq_max_hz': 2.2, 'prom': 2.45}. Best is trial 34 with value: 57245.0.\n",
      "[I 2024-05-01 20:52:53,316] Trial 76 finished with value: 52496.0 and parameters: {'wind_length': 4.1000000000000005, 'mov_avg_wind_s': 0.2, 'std_thr': 0.166, 'std_wind': 0.45000000000000007, 'freq_max_hz': 2.2, 'prom': 2.6500000000000004}. Best is trial 76 with value: 52496.0.\n",
      "[I 2024-05-01 20:53:07,592] Trial 77 finished with value: 55932.0 and parameters: {'wind_length': 4.0, 'mov_avg_wind_s': 0.2, 'std_thr': 0.156, 'std_wind': 0.4, 'freq_max_hz': 2.2, 'prom': 2.6}. Best is trial 76 with value: 52496.0.\n",
      "[I 2024-05-01 20:53:22,033] Trial 78 finished with value: 70815.0 and parameters: {'wind_length': 3.9, 'mov_avg_wind_s': 0.35, 'std_thr': 0.166, 'std_wind': 0.4, 'freq_max_hz': 2.2, 'prom': 2.6500000000000004}. Best is trial 76 with value: 52496.0.\n",
      "[I 2024-05-01 20:53:35,782] Trial 79 finished with value: 59813.0 and parameters: {'wind_length': 4.0, 'mov_avg_wind_s': 0.25, 'std_thr': 0.171, 'std_wind': 0.4, 'freq_max_hz': 2.2, 'prom': 2.6500000000000004}. Best is trial 76 with value: 52496.0.\n",
      "[I 2024-05-01 20:53:49,915] Trial 80 finished with value: 67787.0 and parameters: {'wind_length': 4.0, 'mov_avg_wind_s': 0.25, 'std_thr': 0.161, 'std_wind': 0.45000000000000007, 'freq_max_hz': 2.3000000000000003, 'prom': 3.0}. Best is trial 76 with value: 52496.0.\n",
      "[I 2024-05-01 20:54:04,980] Trial 81 finished with value: 60684.0 and parameters: {'wind_length': 4.1000000000000005, 'mov_avg_wind_s': 0.2, 'std_thr': 0.166, 'std_wind': 0.45000000000000007, 'freq_max_hz': 2.3000000000000003, 'prom': 3.0}. Best is trial 76 with value: 52496.0.\n",
      "[I 2024-05-01 20:54:19,567] Trial 82 finished with value: 65395.0 and parameters: {'wind_length': 4.0, 'mov_avg_wind_s': 0.2, 'std_thr': 0.166, 'std_wind': 0.45000000000000007, 'freq_max_hz': 2.3000000000000003, 'prom': 3.0}. Best is trial 76 with value: 52496.0.\n",
      "[I 2024-05-01 20:54:33,699] Trial 83 finished with value: 60684.0 and parameters: {'wind_length': 4.1000000000000005, 'mov_avg_wind_s': 0.2, 'std_thr': 0.166, 'std_wind': 0.45000000000000007, 'freq_max_hz': 2.3000000000000003, 'prom': 3.0}. Best is trial 76 with value: 52496.0.\n",
      "[I 2024-05-01 20:54:47,765] Trial 84 finished with value: 53971.0 and parameters: {'wind_length': 4.1000000000000005, 'mov_avg_wind_s': 0.2, 'std_thr': 0.14100000000000001, 'std_wind': 0.35, 'freq_max_hz': 2.2, 'prom': 2.95}. Best is trial 76 with value: 52496.0.\n",
      "[I 2024-05-01 20:55:01,834] Trial 85 finished with value: 51619.0 and parameters: {'wind_length': 4.2, 'mov_avg_wind_s': 0.1, 'std_thr': 0.14100000000000001, 'std_wind': 0.30000000000000004, 'freq_max_hz': 2.2, 'prom': 2.95}. Best is trial 85 with value: 51619.0.\n",
      "[I 2024-05-01 20:55:15,923] Trial 86 finished with value: 53644.0 and parameters: {'wind_length': 3.8, 'mov_avg_wind_s': 0.1, 'std_thr': 0.14100000000000001, 'std_wind': 0.35, 'freq_max_hz': 2.2, 'prom': 2.9000000000000004}. Best is trial 85 with value: 51619.0.\n",
      "[I 2024-05-01 20:55:30,975] Trial 87 finished with value: 53866.0 and parameters: {'wind_length': 3.7, 'mov_avg_wind_s': 0.1, 'std_thr': 0.14100000000000001, 'std_wind': 0.30000000000000004, 'freq_max_hz': 2.2, 'prom': 2.9000000000000004}. Best is trial 85 with value: 51619.0.\n",
      "[I 2024-05-01 20:55:44,890] Trial 88 finished with value: 53866.0 and parameters: {'wind_length': 3.7, 'mov_avg_wind_s': 0.1, 'std_thr': 0.14100000000000001, 'std_wind': 0.30000000000000004, 'freq_max_hz': 2.2, 'prom': 2.9000000000000004}. Best is trial 85 with value: 51619.0.\n",
      "[I 2024-05-01 20:55:59,051] Trial 89 finished with value: 53866.0 and parameters: {'wind_length': 3.7, 'mov_avg_wind_s': 0.1, 'std_thr': 0.14100000000000001, 'std_wind': 0.30000000000000004, 'freq_max_hz': 2.2, 'prom': 2.9000000000000004}. Best is trial 85 with value: 51619.0.\n",
      "[I 2024-05-01 20:56:13,295] Trial 90 finished with value: 51772.0 and parameters: {'wind_length': 3.7, 'mov_avg_wind_s': 0.1, 'std_thr': 0.136, 'std_wind': 0.30000000000000004, 'freq_max_hz': 2.1, 'prom': 2.9000000000000004}. Best is trial 85 with value: 51619.0.\n",
      "[I 2024-05-01 20:56:27,505] Trial 91 finished with value: 51819.0 and parameters: {'wind_length': 3.7, 'mov_avg_wind_s': 0.1, 'std_thr': 0.14100000000000001, 'std_wind': 0.30000000000000004, 'freq_max_hz': 2.1, 'prom': 2.9000000000000004}. Best is trial 85 with value: 51619.0.\n",
      "[I 2024-05-01 20:56:41,919] Trial 92 finished with value: 51819.0 and parameters: {'wind_length': 3.7, 'mov_avg_wind_s': 0.1, 'std_thr': 0.14100000000000001, 'std_wind': 0.30000000000000004, 'freq_max_hz': 2.1, 'prom': 2.9000000000000004}. Best is trial 85 with value: 51619.0.\n",
      "[I 2024-05-01 20:56:56,008] Trial 93 finished with value: 51819.0 and parameters: {'wind_length': 3.7, 'mov_avg_wind_s': 0.1, 'std_thr': 0.14100000000000001, 'std_wind': 0.30000000000000004, 'freq_max_hz': 2.1, 'prom': 2.9000000000000004}. Best is trial 85 with value: 51619.0.\n",
      "[I 2024-05-01 20:57:10,094] Trial 94 finished with value: 54625.0 and parameters: {'wind_length': 3.5, 'mov_avg_wind_s': 0.1, 'std_thr': 0.14100000000000001, 'std_wind': 0.25, 'freq_max_hz': 2.1, 'prom': 2.9000000000000004}. Best is trial 85 with value: 51619.0.\n",
      "[I 2024-05-01 20:57:24,496] Trial 95 finished with value: 51160.0 and parameters: {'wind_length': 3.8, 'mov_avg_wind_s': 0.1, 'std_thr': 0.136, 'std_wind': 0.30000000000000004, 'freq_max_hz': 2.1, 'prom': 2.8}. Best is trial 95 with value: 51160.0.\n",
      "[I 2024-05-01 20:57:37,993] Trial 96 finished with value: 57431.0 and parameters: {'wind_length': 3.8, 'mov_avg_wind_s': 0.15000000000000002, 'std_thr': 0.131, 'std_wind': 0.2, 'freq_max_hz': 2.1, 'prom': 2.8}. Best is trial 95 with value: 51160.0.\n",
      "[I 2024-05-01 20:57:52,602] Trial 97 finished with value: 141723.0 and parameters: {'wind_length': 3.3, 'mov_avg_wind_s': 0.45000000000000007, 'std_thr': 0.151, 'std_wind': 0.30000000000000004, 'freq_max_hz': 2.1, 'prom': 2.95}. Best is trial 95 with value: 51160.0.\n",
      "[I 2024-05-01 20:58:07,598] Trial 98 finished with value: 56186.0 and parameters: {'wind_length': 3.6, 'mov_avg_wind_s': 0.1, 'std_thr': 0.106, 'std_wind': 0.2, 'freq_max_hz': 2.0, 'prom': 2.8}. Best is trial 95 with value: 51160.0.\n",
      "[I 2024-05-01 20:58:21,742] Trial 99 finished with value: 62059.0 and parameters: {'wind_length': 3.4, 'mov_avg_wind_s': 0.35, 'std_thr': 0.121, 'std_wind': 0.35, 'freq_max_hz': 2.1, 'prom': 2.75}. Best is trial 95 with value: 51160.0.\n",
      "[I 2024-05-01 20:58:35,893] Trial 100 finished with value: 64247.0 and parameters: {'wind_length': 3.8, 'mov_avg_wind_s': 0.15000000000000002, 'std_thr': 0.136, 'std_wind': 0.25, 'freq_max_hz': 2.0, 'prom': 2.9000000000000004}. Best is trial 95 with value: 51160.0.\n",
      "[I 2024-05-01 20:58:50,396] Trial 101 finished with value: 51703.0 and parameters: {'wind_length': 3.7, 'mov_avg_wind_s': 0.1, 'std_thr': 0.146, 'std_wind': 0.30000000000000004, 'freq_max_hz': 2.1, 'prom': 2.9000000000000004}. Best is trial 95 with value: 51160.0.\n",
      "[I 2024-05-01 20:59:04,778] Trial 102 finished with value: 53370.0 and parameters: {'wind_length': 3.6, 'mov_avg_wind_s': 0.15000000000000002, 'std_thr': 0.146, 'std_wind': 0.35, 'freq_max_hz': 2.1, 'prom': 2.9000000000000004}. Best is trial 95 with value: 51160.0.\n",
      "[I 2024-05-01 20:59:19,519] Trial 103 finished with value: 51112.0 and parameters: {'wind_length': 3.4, 'mov_avg_wind_s': 0.15000000000000002, 'std_thr': 0.146, 'std_wind': 0.35, 'freq_max_hz': 2.1, 'prom': 2.85}. Best is trial 103 with value: 51112.0.\n",
      "[I 2024-05-01 20:59:33,339] Trial 104 finished with value: 60668.0 and parameters: {'wind_length': 3.5, 'mov_avg_wind_s': 0.30000000000000004, 'std_thr': 0.151, 'std_wind': 0.35, 'freq_max_hz': 2.1, 'prom': 2.95}. Best is trial 103 with value: 51112.0.\n",
      "[I 2024-05-01 20:59:46,999] Trial 105 finished with value: 59229.0 and parameters: {'wind_length': 3.6, 'mov_avg_wind_s': 0.15000000000000002, 'std_thr': 0.126, 'std_wind': 0.25, 'freq_max_hz': 2.0, 'prom': 2.85}. Best is trial 103 with value: 51112.0.\n",
      "[I 2024-05-01 21:00:00,797] Trial 106 finished with value: 51892.0 and parameters: {'wind_length': 3.4, 'mov_avg_wind_s': 0.15000000000000002, 'std_thr': 0.146, 'std_wind': 0.30000000000000004, 'freq_max_hz': 2.1, 'prom': 2.8}. Best is trial 103 with value: 51112.0.\n",
      "[I 2024-05-01 21:00:15,410] Trial 107 finished with value: 68028.0 and parameters: {'wind_length': 3.4, 'mov_avg_wind_s': 0.30000000000000004, 'std_thr': 0.151, 'std_wind': 0.2, 'freq_max_hz': 2.0, 'prom': 2.75}. Best is trial 103 with value: 51112.0.\n",
      "[I 2024-05-01 21:00:29,606] Trial 108 finished with value: 55639.0 and parameters: {'wind_length': 3.3, 'mov_avg_wind_s': 0.15000000000000002, 'std_thr': 0.131, 'std_wind': 0.30000000000000004, 'freq_max_hz': 2.1, 'prom': 2.8}. Best is trial 103 with value: 51112.0.\n",
      "[I 2024-05-01 21:00:44,511] Trial 109 finished with value: 52565.0 and parameters: {'wind_length': 3.9, 'mov_avg_wind_s': 0.15000000000000002, 'std_thr': 0.146, 'std_wind': 0.35, 'freq_max_hz': 2.1, 'prom': 2.75}. Best is trial 103 with value: 51112.0.\n",
      "[I 2024-05-01 21:00:58,072] Trial 110 finished with value: 60078.0 and parameters: {'wind_length': 3.9, 'mov_avg_wind_s': 0.30000000000000004, 'std_thr': 0.121, 'std_wind': 0.25, 'freq_max_hz': 2.1, 'prom': 2.75}. Best is trial 103 with value: 51112.0.\n",
      "[I 2024-05-01 21:01:11,696] Trial 111 finished with value: 53498.0 and parameters: {'wind_length': 3.6, 'mov_avg_wind_s': 0.15000000000000002, 'std_thr': 0.146, 'std_wind': 0.35, 'freq_max_hz': 2.1, 'prom': 2.8}. Best is trial 103 with value: 51112.0.\n",
      "[I 2024-05-01 21:01:25,467] Trial 112 finished with value: 1254162.0 and parameters: {'wind_length': 3.9, 'mov_avg_wind_s': 0.15000000000000002, 'std_thr': 0.156, 'std_wind': 0.30000000000000004, 'freq_max_hz': 2.0, 'prom': 1.0}. Best is trial 103 with value: 51112.0.\n",
      "[I 2024-05-01 21:01:38,875] Trial 113 finished with value: 114930.0 and parameters: {'wind_length': 3.2, 'mov_avg_wind_s': 0.2, 'std_thr': 0.136, 'std_wind': 0.35, 'freq_max_hz': 1.9000000000000001, 'prom': 2.85}. Best is trial 103 with value: 51112.0.\n",
      "[I 2024-05-01 21:01:52,407] Trial 114 finished with value: 61844.0 and parameters: {'wind_length': 3.6, 'mov_avg_wind_s': 0.35, 'std_thr': 0.111, 'std_wind': 0.25, 'freq_max_hz': 2.1, 'prom': 2.95}. Best is trial 103 with value: 51112.0.\n",
      "[I 2024-05-01 21:02:05,733] Trial 115 finished with value: 515132.0 and parameters: {'wind_length': 3.5, 'mov_avg_wind_s': 0.25, 'std_thr': 0.146, 'std_wind': 0.4, 'freq_max_hz': 2.0, 'prom': 1.2}. Best is trial 103 with value: 51112.0.\n",
      "[I 2024-05-01 21:02:19,007] Trial 116 finished with value: 73741.0 and parameters: {'wind_length': 3.4, 'mov_avg_wind_s': 0.1, 'std_thr': 0.131, 'std_wind': 0.30000000000000004, 'freq_max_hz': 2.1, 'prom': 1.75}. Best is trial 103 with value: 51112.0.\n",
      "[I 2024-05-01 21:02:32,287] Trial 117 finished with value: 168894.0 and parameters: {'wind_length': 3.8, 'mov_avg_wind_s': 0.45000000000000007, 'std_thr': 0.151, 'std_wind': 0.15000000000000002, 'freq_max_hz': 2.1, 'prom': 2.85}. Best is trial 103 with value: 51112.0.\n",
      "[I 2024-05-01 21:02:45,638] Trial 118 finished with value: 64866.0 and parameters: {'wind_length': 3.7, 'mov_avg_wind_s': 0.15000000000000002, 'std_thr': 0.156, 'std_wind': 0.35, 'freq_max_hz': 2.0, 'prom': 2.8}. Best is trial 103 with value: 51112.0.\n",
      "[I 2024-05-01 21:02:58,888] Trial 119 finished with value: 60458.0 and parameters: {'wind_length': 3.9, 'mov_avg_wind_s': 0.30000000000000004, 'std_thr': 0.126, 'std_wind': 0.25, 'freq_max_hz': 2.1, 'prom': 2.7}. Best is trial 103 with value: 51112.0.\n"
     ]
    },
    {
     "name": "stdout",
     "output_type": "stream",
     "text": [
      "Best hyperparameters: {'wind_length': 3.4, 'mov_avg_wind_s': 0.15000000000000002, 'std_thr': 0.146, 'std_wind': 0.35, 'freq_max_hz': 2.1, 'prom': 2.85}\n",
      "Best Acc score: 51112.0\n"
     ]
    }
   ],
   "source": [
    "import optuna\n",
    "\n",
    "def objective(trial):\n",
    "\n",
    "    wind_length = trial.suggest_float(\"wind_length\", 0.3, 5, step=0.1)\n",
    "    mov_avg_wind_s = trial.suggest_float(\"mov_avg_wind_s\", 0.1, 2, step=0.05)\n",
    "    std_thr = trial.suggest_float(\"std_thr\", 0.001, 0.3, step=0.005)\n",
    "    std_wind = trial.suggest_float(\"std_wind\", 0.1, 1, step=0.05)\n",
    "    freq_max_hz = trial.suggest_float(\"freq_max_hz\", 1.6, 3, step=0.1)\n",
    "    prom = trial.suggest_float(\"prom\", 1, 3, step=0.05)\n",
    "    path = \"data/train/train_trace_0\"\n",
    "    suffix = \".pkl\"\n",
    "\n",
    "    loss = 0\n",
    "    for i in range(10, 45, 1):\n",
    "        path_act = path + str(i) + suffix\n",
    "        sign, label = get_signal_walk(path_act)\n",
    "        if label == 0:\n",
    "            continue\n",
    "        nr_step = algo_walk(sign, 0, wind_length, mov_avg_wind_s, std_thr, std_wind, freq_max_hz, prom, show=False)\n",
    "        loss += (nr_step - label)**2\n",
    "\n",
    "    return loss\n",
    "\n",
    "study = optuna.create_study(direction='minimize')\n",
    "study.optimize(objective, n_trials=60)\n",
    "print('Best hyperparameters:', study.best_params)\n",
    "print('Best Acc score:', study.best_value)"
   ]
  },
  {
   "cell_type": "code",
   "execution_count": 62,
   "id": "5e689655",
   "metadata": {},
   "outputs": [
    {
     "name": "stdout",
     "output_type": "stream",
     "text": [
      "Best Acc score: {'wind_length': 1.0, 'mov_avg_wind_s': 1.3000000000000003, 'std_thr': 0.006, 'std_wind': 0.55, 'prom': 2.8}\n"
     ]
    }
   ],
   "source": [
    "print('Best Acc score:', study.best_params)"
   ]
  },
  {
   "cell_type": "code",
   "execution_count": 15,
   "id": "84e28842",
   "metadata": {},
   "outputs": [
    {
     "data": {
      "image/png": "[encoded data removed]",
      "text/plain": [
       "<Figure size 640x480 with 1 Axes>"
      ]
     },
     "metadata": {},
     "output_type": "display_data"
    },
    {
     "data": {
      "image/png": "[encoded data removed]",
      "text/plain": [
       "<Figure size 640x480 with 1 Axes>"
      ]
     },
     "metadata": {},
     "output_type": "display_data"
    },
    {
     "data": {
      "image/png": "[encoded data removed]",
      "text/plain": [
       "<Figure size 640x480 with 1 Axes>"
      ]
     },
     "metadata": {},
     "output_type": "display_data"
    },
    {
     "data": {
      "image/png": "[encoded data removed]",
      "text/plain": [
       "<Figure size 640x480 with 1 Axes>"
      ]
     },
     "metadata": {},
     "output_type": "display_data"
    },
    {
     "data": {
      "image/png": "[encoded data removed]",
      "text/plain": [
       "<Figure size 640x480 with 1 Axes>"
      ]
     },
     "metadata": {},
     "output_type": "display_data"
    },
    {
     "data": {
      "image/png": "[encoded data removed]",
      "text/plain": [
       "<Figure size 640x480 with 1 Axes>"
      ]
     },
     "metadata": {},
     "output_type": "display_data"
    },
    {
     "data": {
      "image/png": "[encoded data removed]",
      "text/plain": [
       "<Figure size 640x480 with 1 Axes>"
      ]
     },
     "metadata": {},
     "output_type": "display_data"
    },
    {
     "name": "stdout",
     "output_type": "stream",
     "text": [
      "We have found 352 compared to the gt of 288 steps\n"
     ]
    },
    {
     "data": {
      "text/plain": [
       "352"
      ]
     },
     "execution_count": 15,
     "metadata": {},
     "output_type": "execute_result"
    }
   ],
   "source": [
    "path = \"data/train/train_trace_014.pkl\"\n",
    "\n",
    "\n",
    "sign, label = get_signal_walk(path)\n",
    "plot_window_start = 200*SAMPLING_RATE  # in seconds\n",
    "plot_window_end = 205*SAMPLING_RATE  # in seconds\n",
    "\n",
    "algo_walk(sign, label, show=True)"
   ]
  },
  {
   "cell_type": "markdown",
   "id": "613565bd",
   "metadata": {},
   "source": [
    "# Other Tasks"
   ]
  },
  {
   "cell_type": "code",
   "execution_count": 16,
   "id": "d40446d5",
   "metadata": {},
   "outputs": [],
   "source": [
    "# Extend length of a sensor with lower sample rate to a higher by copying values\n",
    "def extend_length_sensor(recording, sensor):\n",
    "    sensor_ext = np.empty(recording.data[\"ax\"].timestamps.shape)\n",
    "    c = 0\n",
    "    for id, time in enumerate(recording.data[\"ax\"].timestamps):\n",
    "        if recording.data[sensor].timestamps[c] < time:\n",
    "            c += 1\n",
    "        sensor_ext[id] = recording.data[sensor].values[c]\n",
    "    return sensor_ext"
   ]
  },
  {
   "cell_type": "code",
   "execution_count": 17,
   "id": "d944debc",
   "metadata": {},
   "outputs": [],
   "source": [
    "# Main processing functions"
   ]
  },
  {
   "cell_type": "code",
   "execution_count": 18,
   "id": "57724a01",
   "metadata": {},
   "outputs": [],
   "source": [
    "SENSOR_DIFF_SAMPLE_RATE = [\"mx\", \"my\", \"mz\", \"altitude\"]\n",
    "MEASURES = [\"mean\", \"std\", \"energy\", \"max_freq\"]"
   ]
  },
  {
   "cell_type": "code",
   "execution_count": 19,
   "id": "e08e0739",
   "metadata": {},
   "outputs": [],
   "source": [
    "def get_data_sample(path, wind_length_s, wind_overlap_per, sensors_corr = [\"ax\", \"ay\", \"az\", \"gx\", \"gy\", \"gz\", \"mx\", \"my\", \"mz\", \"altitude\"], sensors_no_corr = [], labels=True, extend_ffill=True):\n",
    "    # checking if it is a file\n",
    "    assert os.path.isfile(path), \"path not valid\"\n",
    "\n",
    "    # Read file\n",
    "    recording = Recording(path)\n",
    "\n",
    "    # Define variables\n",
    "    sensors = sensors_corr + sensors_no_corr \n",
    "    corr = [x + \"_\" + y +\"_\" + \"corr\" for i, x in enumerate(sensors_corr) for y in sensors_corr[(i+1):]]\n",
    "    features = [sens + \"_\" + meas for sens in sensors for meas in MEASURES] \n",
    "    columns = ([\"Sample\"] + [\"Steps\", \"Frequency\", \"Length\", \"Timestamps\", \"StepsWindow\"] + features + corr)\n",
    "\n",
    "    # Get frequency of sampling\n",
    "    frequency = recording.data[sensors[0]].samplerate\n",
    "    wind_nr_sample = int(frequency*wind_length_s)\n",
    "    wind_step = int(wind_nr_sample*wind_overlap_per)\n",
    "    # Get all the sensor data we want in windows\n",
    "    data_rec = pd.DataFrame(columns=columns)\n",
    "\n",
    "    # Add all sensors measures\n",
    "    for sensor in sensors:\n",
    "        # Extend sensors with diff sample rate\n",
    "        if sensor in SENSOR_DIFF_SAMPLE_RATE:\n",
    "            recording.data[sensor].values = extend_length_sensor(recording, sensor)\n",
    "\n",
    "        # Read data as pd\n",
    "        data_val = pd.DataFrame(recording.data[sensor].values)\n",
    "        # Fill last values up to divisible size\n",
    "        nr_miss = wind_step - len(data_val)%wind_step\n",
    "\n",
    "        # Extend with given idea to divisible length\n",
    "        if extend_ffill:\n",
    "            row_pad = data_val.iloc[[-1]*nr_miss]\n",
    "        else:\n",
    "            row_pad = pd.DataFrame(0, index=np.arange(nr_miss), columns=data_val.columns) \n",
    "        \n",
    "        data_val = pd.concat([data_val, row_pad], ignore_index=True)\n",
    "        \n",
    "        # Evaluate mean and std\n",
    "        data_rec[sensor + \"_mean\"] =  data_val.rolling(window = wind_nr_sample,\n",
    "        min_periods = wind_nr_sample, step = wind_step, center=True).mean()[1:]\n",
    "        data_rec[sensor + \"_std\"] = data_val.rolling(window = wind_nr_sample,\n",
    "        min_periods = wind_nr_sample, step=wind_step, center=True).std()[1:]\n",
    "        # Evaluate stfft and skip first and last index since window is placed centered on first and last value\n",
    "        f, t, Zxx = stft(data_val.to_numpy().squeeze(axis=1), fs=frequency, nperseg = wind_nr_sample, noverlap= wind_nr_sample - wind_step)\n",
    "        Zxx = np.transpose(Zxx)[1:-1]\n",
    "        energy = np.sum(np.abs(Zxx)**2, axis = 1)/wind_length_s\n",
    "        data_rec[sensor + \"_energy\"]  = energy\n",
    "\n",
    "        get_freq = lambda x: f[x]\n",
    "        data_rec[sensor + \"_max_freq\"] = get_freq(np.argmax(Zxx, axis = 1))\n",
    "    \n",
    "    # Add nr_steps per window\n",
    "    sign_mag = get_signal_mag(recording.data[\"ax\"].values, recording.data[\"ay\"].values, recording.data[\"az\"].values)\n",
    "    steps_per_window = np.empty(len(data_rec))\n",
    "    for id, i in enumerate(range(wind_step, len(sign_mag) - wind_step, wind_step)):\n",
    "        steps_per_window[id] = algo_walk(sign_mag[i-wind_step:i+wind_step])\n",
    "\n",
    "    data_rec[\"StepsWindow\"] = steps_per_window\n",
    "\n",
    "    # Put constant values\n",
    "    data_rec[\"Steps\"] = algo_walk(sign_mag)\n",
    "\n",
    "    data_rec[\"Sample\"] = path \n",
    "    data_rec[\"Frequency\"] = recording.data[sensors[0]].samplerate\n",
    "    data_rec[\"Length\"] = recording.data[sensors[0]].total_time\n",
    "    data_rec[\"Timestamps\"] = np.arange(0, len(data_rec), 1)/200\n",
    "    \n",
    "    if labels:\n",
    "        # Add activity\n",
    "        for activity in Activity:\n",
    "            data_rec[activity.name] = 1*(activity.value in recording.labels[\"activities\"])\n",
    "\n",
    "        # Add path loc\n",
    "        data_rec[\"path_idx\"] = recording.labels[\"path_idx\"]\n",
    "        \n",
    "        # Add watch loc\n",
    "        data_rec[\"watch_loc\"] = recording.labels[\"watch_loc\"]\n",
    "\n",
    "\n",
    "    # Reset indexes\n",
    "    data_rec.reset_index(drop=True, inplace=True)\n",
    "\n",
    "    # Add correlations between requested sensors\n",
    "    for i, sens_x in enumerate(sensors_corr):\n",
    "        sens_x_val = recording.data[sens_x].values\n",
    "        for sens_y in sensors_corr[(i+1):]:\n",
    "            pd_corr = pd.DataFrame(np.transpose(np.vstack((sens_x_val, recording.data[sens_y].values))))\n",
    "            nr_miss = wind_step - len(pd_corr)%wind_step\n",
    "            # Get perfect length divisiblity by wind_length\n",
    "            if extend_ffill:\n",
    "                row_pad = pd_corr.iloc[[-1]*nr_miss]\n",
    "            else:\n",
    "                row_pad = pd.DataFrame(0, index=np.arange(nr_miss), columns=pd_corr.columns)\n",
    "            pd_corr = pd.concat([pd_corr, row_pad], ignore_index=True)\n",
    "            \n",
    "            # Need optimize but rolling no support for corr yet\n",
    "            for id, i in enumerate(range(0, len(pd_corr) - wind_step, wind_step)):\n",
    "                corr_matrix = pd_corr[i:i + wind_nr_sample].corr()  \n",
    "                data_rec.at[id, sens_x + \"_\" + sens_y +\"_\" + \"corr\" ] = corr_matrix.iloc[0, 1]\n",
    "    \n",
    "    # Fill Na values of last row per sample\n",
    "    data_rec = data_rec.fillna(method='ffill')\n",
    "    data_rec = data_rec.fillna(method='bfill')\n",
    "    \n",
    "    return data_rec\n",
    "                "
   ]
  },
  {
   "cell_type": "code",
   "execution_count": 20,
   "id": "505f2226",
   "metadata": {},
   "outputs": [],
   "source": [
    "# Get data accel with corresponding label from all the path as df\n",
    "def get_data(path, wind_length_s = 200, wind_overlap_per = 1, sensors_corr = [\"ax\", \"ay\", \"az\", \"gx\", \"gy\", \"gz\", \"mx\", \"my\", \"mz\", \"altitude\"], sensors_no_corr = [], labels=True, extend_ffill = True):\n",
    "    \n",
    "    data = pd.DataFrame()\n",
    "    for idx, filename in enumerate(os.listdir(path)):\n",
    "        f = os.path.join(path, filename)\n",
    "        \n",
    "        # Get data per sample\n",
    "        data_rec = get_data_sample(f, wind_length_s, wind_overlap_per, sensors_corr, sensors_no_corr, labels, extend_ffill)\n",
    "        \n",
    "        # Init data if first file\n",
    "        if idx == 0:\n",
    "            data = data_rec\n",
    "            continue\n",
    "        # Concatenate two dataframes\n",
    "        data = pd.concat([data, data_rec], ignore_index=True)\n",
    "        if idx % 10 == 9:\n",
    "            print(\"Processed {} examples\".format(idx))\n",
    "    \n",
    "    return data    \n"
   ]
  },
  {
   "cell_type": "code",
   "execution_count": 21,
   "id": "822d859d",
   "metadata": {},
   "outputs": [],
   "source": [
    "# Get features per sample across windows\n",
    "def features_per_sample(df):\n",
    "    mean = df.groupby('Sample').mean()\n",
    "    mean = mean.add_prefix(\"mean_\")\n",
    "    std = df.groupby('Sample').std()\n",
    "    std = std.add_prefix(\"std_\")\n",
    "\n",
    "    max = df.groupby('Sample').max()\n",
    "    max = max.add_prefix(\"max_\")\n",
    "\n",
    "    min = df.groupby('Sample').min()\n",
    "    min = min.add_prefix(\"min_\")\n",
    "\n",
    "    median = df.groupby('Sample').median()\n",
    "    median = median.add_prefix(\"median_\")\n",
    "\n",
    "    quantile25 = df.groupby('Sample').quantile(q=0.25)\n",
    "    quantile25 = quantile25.add_prefix(\"q25_\")\n",
    "\n",
    "    quantile75 = df.groupby('Sample').quantile(q=0.75)\n",
    "    quantile75 = quantile75.add_prefix(\"q75_\")\n",
    "    \n",
    "    df_final =  pd.concat([mean, std, max, min, median, quantile25, quantile75], axis = 1)\n",
    "    return df_final"
   ]
  },
  {
   "cell_type": "code",
   "execution_count": 22,
   "id": "3af7fdb9",
   "metadata": {},
   "outputs": [],
   "source": [
    "def F1_score_conf_matrix(conf_matrix):\n",
    "    F1_per_class = np.empty(len(conf_matrix))\n",
    "    for i, matrix in enumerate(conf_matrix):\n",
    "        F1_per_class[i] = (2*matrix[1][1])/(2*matrix[1][1] + matrix[0][1] + matrix[1][0])\n",
    "    return F1_per_class\n",
    "\n",
    "def bal_acc_score_conf_matrix(conf_matrix):\n",
    "    bal_ac_per_class = np.empty(len(conf_matrix))\n",
    "    for i, matrix in enumerate(conf_matrix):\n",
    "        bal_ac_per_class[i] = ((matrix[1][1])/(matrix[1][1] + matrix[1][0]) + (matrix[0][0])/(matrix[0][0] + matrix[0][1]))/2\n",
    "    return bal_ac_per_class"
   ]
  },
  {
   "cell_type": "markdown",
   "id": "c73d9895",
   "metadata": {},
   "source": [
    "# Watch Loc"
   ]
  },
  {
   "cell_type": "code",
   "execution_count": 23,
   "id": "278d4bb5",
   "metadata": {},
   "outputs": [
    {
     "name": "stdout",
     "output_type": "stream",
     "text": [
      "Processed 9 examples\n",
      "Processed 19 examples\n",
      "Processed 29 examples\n",
      "Processed 39 examples\n",
      "Processed 49 examples\n"
     ]
    }
   ],
   "source": [
    "path = \"data/train/\"\n",
    "df = get_data(path, wind_length_s = 60, wind_overlap_per = 0.5)"
   ]
  },
  {
   "cell_type": "code",
   "execution_count": null,
   "id": "711434ed",
   "metadata": {},
   "outputs": [],
   "source": [
    "df.to_csv(\"final_steps.csv\", index=False)"
   ]
  },
  {
   "cell_type": "code",
   "execution_count": 16,
   "id": "8e438504",
   "metadata": {},
   "outputs": [],
   "source": [
    "# Get labels\n",
    "labels = df.groupby('Sample').max()[[\"watch_loc\"]]\n",
    "steps = df.groupby('Sample').max()[[\"Steps\"]]"
   ]
  },
  {
   "cell_type": "code",
   "execution_count": 17,
   "id": "cc66364d",
   "metadata": {},
   "outputs": [],
   "source": [
    "df_filt = df.drop([\"Frequency\", \"path_idx\", \"Steps\", \"watch_loc\", \"Length\", \"STANDING\", \"Timestamps\", \"WALKING\",\t\"RUNNING\",\t\"CYCLING\"], axis=1)"
   ]
  },
  {
   "cell_type": "code",
   "execution_count": 18,
   "id": "f31e8d67",
   "metadata": {},
   "outputs": [],
   "source": [
    "df_features_samples = features_per_sample(df_filt)\n",
    "df_final =  pd.concat([df_features_samples, labels[['watch_loc']], steps[[\"Steps\"]]], axis=1)"
   ]
  },
  {
   "cell_type": "code",
   "execution_count": 19,
   "id": "712ccf57",
   "metadata": {},
   "outputs": [],
   "source": [
    "train, test = train_test_split(df_final, test_size=0.2, shuffle=False)\n",
    "train = train.reset_index(drop=True)\n",
    "test = test.reset_index(drop=True)\n",
    "\n",
    "X_train = train.drop(['watch_loc'], axis =1)\n",
    "y_train = train[['watch_loc']]\n",
    "X_test = test.drop(['watch_loc'], axis =1)\n",
    "y_test = test[['watch_loc']]"
   ]
  },
  {
   "cell_type": "code",
   "execution_count": 20,
   "id": "5a805189",
   "metadata": {},
   "outputs": [
    {
     "name": "stderr",
     "output_type": "stream",
     "text": [
      "[I 2024-05-01 16:07:32,861] A new study created in memory with name: no-name-319afdd6-0878-4e11-8916-9e970c7726a7\n"
     ]
    },
    {
     "name": "stderr",
     "output_type": "stream",
     "text": [
      "[I 2024-05-01 16:07:40,718] Trial 0 finished with value: 0.9803030303030303 and parameters: {'learning_rate': 0.0024973217741475354, 'max_depth': 6, 'subsample': 0.8355598443095398, 'colsample_bytree': 0.4978690006346865, 'min_child_weight': 19}. Best is trial 0 with value: 0.9803030303030303.\n",
      "[I 2024-05-01 16:07:49,432] Trial 1 finished with value: 0.9803030303030303 and parameters: {'learning_rate': 0.007244732367055432, 'max_depth': 4, 'subsample': 0.9091865685372678, 'colsample_bytree': 0.7973919766185044, 'min_child_weight': 9}. Best is trial 0 with value: 0.9803030303030303.\n",
      "[I 2024-05-01 16:07:52,806] Trial 2 finished with value: 0.9803030303030303 and parameters: {'learning_rate': 0.06545002005635475, 'max_depth': 4, 'subsample': 0.6625362817791655, 'colsample_bytree': 0.8112794446767367, 'min_child_weight': 8}. Best is trial 0 with value: 0.9803030303030303.\n",
      "[I 2024-05-01 16:07:56,779] Trial 3 finished with value: 0.9897222222222223 and parameters: {'learning_rate': 0.010573027126498732, 'max_depth': 7, 'subsample': 0.631782776849384, 'colsample_bytree': 0.8331493477162181, 'min_child_weight': 20}. Best is trial 3 with value: 0.9897222222222223.\n",
      "[I 2024-05-01 16:08:00,370] Trial 4 finished with value: 0.9706340427909055 and parameters: {'learning_rate': 0.009902519763303372, 'max_depth': 10, 'subsample': 0.44568578478327686, 'colsample_bytree': 0.9401463094869664, 'min_child_weight': 19}. Best is trial 3 with value: 0.9897222222222223.\n",
      "[I 2024-05-01 16:08:03,279] Trial 5 finished with value: 0.9632033788174139 and parameters: {'learning_rate': 0.016217787400459767, 'max_depth': 8, 'subsample': 0.28565663699510274, 'colsample_bytree': 0.46655949932170526, 'min_child_weight': 19}. Best is trial 3 with value: 0.9897222222222223.\n",
      "[I 2024-05-01 16:08:09,188] Trial 6 finished with value: 0.9703049111382445 and parameters: {'learning_rate': 0.02624454924620337, 'max_depth': 7, 'subsample': 0.8914969424073638, 'colsample_bytree': 0.12439494857453358, 'min_child_weight': 2}. Best is trial 3 with value: 0.9897222222222223.\n",
      "[I 2024-05-01 16:08:14,211] Trial 7 finished with value: 0.9706340427909055 and parameters: {'learning_rate': 0.002429722383848546, 'max_depth': 9, 'subsample': 0.6984030689172194, 'colsample_bytree': 0.17641736134418157, 'min_child_weight': 20}. Best is trial 3 with value: 0.9897222222222223.\n",
      "[I 2024-05-01 16:08:18,276] Trial 8 finished with value: 0.9803030303030303 and parameters: {'learning_rate': 0.06436927280826354, 'max_depth': 3, 'subsample': 0.8836064203916421, 'colsample_bytree': 0.24549836201178415, 'min_child_weight': 1}. Best is trial 3 with value: 0.9897222222222223.\n",
      "[I 2024-05-01 16:08:21,135] Trial 9 finished with value: 0.9897222222222223 and parameters: {'learning_rate': 0.029602269771392638, 'max_depth': 1, 'subsample': 0.5396205624267792, 'colsample_bytree': 0.5492793204504074, 'min_child_weight': 9}. Best is trial 3 with value: 0.9897222222222223.\n",
      "/tmp/ipykernel_162006/1634723069.py:10: RuntimeWarning: invalid value encountered in scalar divide\n",
      "  bal_ac_per_class[i] = ((matrix[1][1])/(matrix[1][1] + matrix[1][0]) + (matrix[0][0])/(matrix[0][0] + matrix[0][1]))/2\n",
      "[W 2024-05-01 16:08:23,995] Trial 10 failed with parameters: {'learning_rate': 0.004741353693728421, 'max_depth': 6, 'subsample': 0.058679906561738604, 'colsample_bytree': 0.7010433181945498, 'min_child_weight': 14} because of the following error: The value nan is not acceptable.\n",
      "[W 2024-05-01 16:08:23,996] Trial 10 failed with value nan.\n",
      "/tmp/ipykernel_162006/1634723069.py:10: RuntimeWarning: invalid value encountered in scalar divide\n",
      "  bal_ac_per_class[i] = ((matrix[1][1])/(matrix[1][1] + matrix[1][0]) + (matrix[0][0])/(matrix[0][0] + matrix[0][1]))/2\n",
      "[W 2024-05-01 16:08:27,368] Trial 11 failed with parameters: {'learning_rate': 0.004623485088617102, 'max_depth': 6, 'subsample': 0.11628048496446258, 'colsample_bytree': 0.996796028823691, 'min_child_weight': 14} because of the following error: The value nan is not acceptable.\n",
      "[W 2024-05-01 16:08:27,369] Trial 11 failed with value nan.\n",
      "/tmp/ipykernel_162006/1634723069.py:10: RuntimeWarning: invalid value encountered in scalar divide\n",
      "  bal_ac_per_class[i] = ((matrix[1][1])/(matrix[1][1] + matrix[1][0]) + (matrix[0][0])/(matrix[0][0] + matrix[0][1]))/2\n",
      "[W 2024-05-01 16:08:30,154] Trial 12 failed with parameters: {'learning_rate': 0.004861530428142035, 'max_depth': 6, 'subsample': 0.13062994064519962, 'colsample_bytree': 0.6812300830792786, 'min_child_weight': 14} because of the following error: The value nan is not acceptable.\n",
      "[W 2024-05-01 16:08:30,154] Trial 12 failed with value nan.\n",
      "[I 2024-05-01 16:08:33,423] Trial 13 finished with value: 0.9628997889646977 and parameters: {'learning_rate': 0.004403279381427895, 'max_depth': 6, 'subsample': 0.1809464422902824, 'colsample_bytree': 0.6890828234172047, 'min_child_weight': 15}. Best is trial 3 with value: 0.9897222222222223.\n",
      "[I 2024-05-01 16:08:36,275] Trial 14 finished with value: 0.9897222222222223 and parameters: {'learning_rate': 0.023680173313235884, 'max_depth': 1, 'subsample': 0.4701347222162265, 'colsample_bytree': 0.6358296681491014, 'min_child_weight': 13}. Best is trial 3 with value: 0.9897222222222223.\n",
      "[I 2024-05-01 16:08:38,992] Trial 15 finished with value: 0.9803030303030303 and parameters: {'learning_rate': 0.03742918239351428, 'max_depth': 1, 'subsample': 0.5943496560519272, 'colsample_bytree': 0.3581898076000789, 'min_child_weight': 5}. Best is trial 3 with value: 0.9897222222222223.\n",
      "[I 2024-05-01 16:08:42,921] Trial 16 finished with value: 0.9897222222222223 and parameters: {'learning_rate': 0.011801496264439111, 'max_depth': 3, 'subsample': 0.38875820322233784, 'colsample_bytree': 0.9792756293890507, 'min_child_weight': 13}. Best is trial 3 with value: 0.9897222222222223.\n",
      "/tmp/ipykernel_162006/1634723069.py:10: RuntimeWarning: invalid value encountered in scalar divide\n",
      "  bal_ac_per_class[i] = ((matrix[1][1])/(matrix[1][1] + matrix[1][0]) + (matrix[0][0])/(matrix[0][0] + matrix[0][1]))/2\n",
      "[W 2024-05-01 16:08:45,802] Trial 17 failed with parameters: {'learning_rate': 0.001158046345394867, 'max_depth': 8, 'subsample': 0.057803273595412485, 'colsample_bytree': 0.642542911030225, 'min_child_weight': 6} because of the following error: The value nan is not acceptable.\n",
      "[W 2024-05-01 16:08:45,802] Trial 17 failed with value nan.\n",
      "[I 2024-05-01 16:08:49,060] Trial 18 finished with value: 0.8604009856630824 and parameters: {'learning_rate': 0.005512105403413654, 'max_depth': 8, 'subsample': 0.056107468409624495, 'colsample_bytree': 0.6255617387058865, 'min_child_weight': 6}. Best is trial 3 with value: 0.9897222222222223.\n",
      "[I 2024-05-01 16:09:01,143] Trial 19 finished with value: 0.9706340427909055 and parameters: {'learning_rate': 0.0012463027010749602, 'max_depth': 5, 'subsample': 0.7738020368731162, 'colsample_bytree': 0.8130978707359858, 'min_child_weight': 15}. Best is trial 3 with value: 0.9897222222222223.\n",
      "[I 2024-05-01 16:09:04,536] Trial 20 finished with value: 0.9703049111382445 and parameters: {'learning_rate': 0.038306472900013974, 'max_depth': 2, 'subsample': 0.5484360691550016, 'colsample_bytree': 0.36745039799497664, 'min_child_weight': 11}. Best is trial 3 with value: 0.9897222222222223.\n",
      "[I 2024-05-01 16:09:07,610] Trial 21 finished with value: 0.9714835164835165 and parameters: {'learning_rate': 0.09561266122680591, 'max_depth': 7, 'subsample': 0.993979781476507, 'colsample_bytree': 0.7386125330267785, 'min_child_weight': 16}. Best is trial 3 with value: 0.9897222222222223.\n",
      "[I 2024-05-01 16:09:13,159] Trial 22 finished with value: 0.9803030303030303 and parameters: {'learning_rate': 0.016867428459806683, 'max_depth': 5, 'subsample': 0.35245593087901894, 'colsample_bytree': 0.8976478036562918, 'min_child_weight': 4}. Best is trial 3 with value: 0.9897222222222223.\n",
      "[I 2024-05-01 16:09:22,563] Trial 23 finished with value: 0.9803030303030303 and parameters: {'learning_rate': 0.0034486993230980144, 'max_depth': 10, 'subsample': 0.6321748390232037, 'colsample_bytree': 0.5636492757749337, 'min_child_weight': 10}. Best is trial 3 with value: 0.9897222222222223.\n",
      "[I 2024-05-01 16:09:29,407] Trial 24 finished with value: 0.9803030303030303 and parameters: {'learning_rate': 0.009129243167862901, 'max_depth': 7, 'subsample': 0.73981864782226, 'colsample_bytree': 0.4030334149409185, 'min_child_weight': 7}. Best is trial 3 with value: 0.9897222222222223.\n",
      "[I 2024-05-01 16:09:32,633] Trial 25 finished with value: 0.9897222222222223 and parameters: {'learning_rate': 0.02300642378499499, 'max_depth': 1, 'subsample': 0.4851298029052239, 'colsample_bytree': 0.6176100795716285, 'min_child_weight': 12}. Best is trial 3 with value: 0.9897222222222223.\n",
      "[I 2024-05-01 16:09:35,691] Trial 26 finished with value: 0.9897222222222223 and parameters: {'learning_rate': 0.03260916167297584, 'max_depth': 2, 'subsample': 0.5375336212354814, 'colsample_bytree': 0.6840434809027914, 'min_child_weight': 17}. Best is trial 3 with value: 0.9897222222222223.\n",
      "[I 2024-05-01 16:09:38,459] Trial 27 finished with value: 0.9897222222222223 and parameters: {'learning_rate': 0.017343151760593905, 'max_depth': 1, 'subsample': 0.4293486394162549, 'colsample_bytree': 0.5687344556591692, 'min_child_weight': 13}. Best is trial 3 with value: 0.9897222222222223.\n",
      "[I 2024-05-01 16:09:41,870] Trial 28 finished with value: 0.9897222222222223 and parameters: {'learning_rate': 0.05817117072421024, 'max_depth': 2, 'subsample': 0.26011187990672635, 'colsample_bytree': 0.8519757186260157, 'min_child_weight': 10}. Best is trial 3 with value: 0.9897222222222223.\n",
      "[I 2024-05-01 16:09:46,023] Trial 29 finished with value: 0.9803030303030303 and parameters: {'learning_rate': 0.013050325331310725, 'max_depth': 3, 'subsample': 0.5819943220858356, 'colsample_bytree': 0.732025315720309, 'min_child_weight': 13}. Best is trial 3 with value: 0.9897222222222223.\n"
     ]
    },
    {
     "name": "stdout",
     "output_type": "stream",
     "text": [
      "Best hyperparameters: {'learning_rate': 0.010573027126498732, 'max_depth': 7, 'subsample': 0.631782776849384, 'colsample_bytree': 0.8331493477162181, 'min_child_weight': 20}\n",
      "Best Acc score: 0.9897222222222223\n"
     ]
    }
   ],
   "source": [
    "import optuna\n",
    "\n",
    "def objective(trial):\n",
    "    params = {\n",
    "        \"n_estimators\": 1000,\n",
    "        \"verbosity\": 0,\n",
    "        \"learning_rate\": trial.suggest_float(\"learning_rate\", 1e-3, 0.1, log=True),\n",
    "        \"max_depth\": trial.suggest_int(\"max_depth\", 1, 10),\n",
    "        \"subsample\": trial.suggest_float(\"subsample\", 0.05, 1.0),\n",
    "        \"colsample_bytree\": trial.suggest_float(\"colsample_bytree\", 0.05, 1.0),\n",
    "        \"min_child_weight\": trial.suggest_int(\"min_child_weight\", 1, 20),\n",
    "    }\n",
    "\n",
    "    model = xgb.XGBClassifier(**params)\n",
    "    model.fit(X_train, y_train, verbose=False)\n",
    "    predictions = model.predict(X_test)\n",
    "    conf_matrix = multilabel_confusion_matrix(predictions, y_test)\n",
    "\n",
    "    acc_score = np.mean(bal_acc_score_conf_matrix(conf_matrix))\n",
    "    return acc_score\n",
    "\n",
    "study = optuna.create_study(direction='maximize')\n",
    "study.optimize(objective, n_trials=30)\n",
    "print('Best hyperparameters:', study.best_params)\n",
    "print('Best Acc score:', study.best_value)"
   ]
  },
  {
   "cell_type": "code",
   "execution_count": 58,
   "id": "61a54bb9",
   "metadata": {},
   "outputs": [
    {
     "data": {
      "text/html": [
       "<style>#sk-container-id-6 {color: black;}#sk-container-id-6 pre{padding: 0;}#sk-container-id-6 div.sk-toggleable {background-color: white;}#sk-container-id-6 label.sk-toggleable__label {cursor: pointer;display: block;width: 100%;margin-bottom: 0;padding: 0.3em;box-sizing: border-box;text-align: center;}#sk-container-id-6 label.sk-toggleable__label-arrow:before {content: \"▸\";float: left;margin-right: 0.25em;color: #696969;}#sk-container-id-6 label.sk-toggleable__label-arrow:hover:before {color: black;}#sk-container-id-6 div.sk-estimator:hover label.sk-toggleable__label-arrow:before {color: black;}#sk-container-id-6 div.sk-toggleable__content {max-height: 0;max-width: 0;overflow: hidden;text-align: left;background-color: #f0f8ff;}#sk-container-id-6 div.sk-toggleable__content pre {margin: 0.2em;color: black;border-radius: 0.25em;background-color: #f0f8ff;}#sk-container-id-6 input.sk-toggleable__control:checked~div.sk-toggleable__content {max-height: 200px;max-width: 100%;overflow: auto;}#sk-container-id-6 input.sk-toggleable__control:checked~label.sk-toggleable__label-arrow:before {content: \"▾\";}#sk-container-id-6 div.sk-estimator input.sk-toggleable__control:checked~label.sk-toggleable__label {background-color: #d4ebff;}#sk-container-id-6 div.sk-label input.sk-toggleable__control:checked~label.sk-toggleable__label {background-color: #d4ebff;}#sk-container-id-6 input.sk-hidden--visually {border: 0;clip: rect(1px 1px 1px 1px);clip: rect(1px, 1px, 1px, 1px);height: 1px;margin: -1px;overflow: hidden;padding: 0;position: absolute;width: 1px;}#sk-container-id-6 div.sk-estimator {font-family: monospace;background-color: #f0f8ff;border: 1px dotted black;border-radius: 0.25em;box-sizing: border-box;margin-bottom: 0.5em;}#sk-container-id-6 div.sk-estimator:hover {background-color: #d4ebff;}#sk-container-id-6 div.sk-parallel-item::after {content: \"\";width: 100%;border-bottom: 1px solid gray;flex-grow: 1;}#sk-container-id-6 div.sk-label:hover label.sk-toggleable__label {background-color: #d4ebff;}#sk-container-id-6 div.sk-serial::before {content: \"\";position: absolute;border-left: 1px solid gray;box-sizing: border-box;top: 0;bottom: 0;left: 50%;z-index: 0;}#sk-container-id-6 div.sk-serial {display: flex;flex-direction: column;align-items: center;background-color: white;padding-right: 0.2em;padding-left: 0.2em;position: relative;}#sk-container-id-6 div.sk-item {position: relative;z-index: 1;}#sk-container-id-6 div.sk-parallel {display: flex;align-items: stretch;justify-content: center;background-color: white;position: relative;}#sk-container-id-6 div.sk-item::before, #sk-container-id-6 div.sk-parallel-item::before {content: \"\";position: absolute;border-left: 1px solid gray;box-sizing: border-box;top: 0;bottom: 0;left: 50%;z-index: -1;}#sk-container-id-6 div.sk-parallel-item {display: flex;flex-direction: column;z-index: 1;position: relative;background-color: white;}#sk-container-id-6 div.sk-parallel-item:first-child::after {align-self: flex-end;width: 50%;}#sk-container-id-6 div.sk-parallel-item:last-child::after {align-self: flex-start;width: 50%;}#sk-container-id-6 div.sk-parallel-item:only-child::after {width: 0;}#sk-container-id-6 div.sk-dashed-wrapped {border: 1px dashed gray;margin: 0 0.4em 0.5em 0.4em;box-sizing: border-box;padding-bottom: 0.4em;background-color: white;}#sk-container-id-6 div.sk-label label {font-family: monospace;font-weight: bold;display: inline-block;line-height: 1.2em;}#sk-container-id-6 div.sk-label-container {text-align: center;}#sk-container-id-6 div.sk-container {/* jupyter's `normalize.less` sets `[hidden] { display: none; }` but bootstrap.min.css set `[hidden] { display: none !important; }` so we also need the `!important` here to be able to override the default hidden behavior on the sphinx rendered scikit-learn.org. See: https://github.com/scikit-learn/scikit-learn/issues/21755 */display: inline-block !important;position: relative;}#sk-container-id-6 div.sk-text-repr-fallback {display: none;}</style><div id=\"sk-container-id-6\" class=\"sk-top-container\"><div class=\"sk-text-repr-fallback\"><pre>XGBClassifier(base_score=None, booster=None, callbacks=None,\n",
       "              colsample_bylevel=None, colsample_bynode=None,\n",
       "              colsample_bytree=None, device=None, early_stopping_rounds=None,\n",
       "              enable_categorical=False, eval_metric=None, feature_types=None,\n",
       "              gamma=None, grow_policy=None, importance_type=None,\n",
       "              interaction_constraints=None, learning_rate=None, max_bin=None,\n",
       "              max_cat_threshold=None, max_cat_to_onehot=None,\n",
       "              max_delta_step=None, max_depth=None, max_leaves=None,\n",
       "              min_child_weight=None, missing=nan, monotone_constraints=None,\n",
       "              multi_strategy=None, n_estimators=1000, n_jobs=None,\n",
       "              num_parallel_tree=None, objective=&#x27;multi:softprob&#x27;, ...)</pre><b>In a Jupyter environment, please rerun this cell to show the HTML representation or trust the notebook. <br />On GitHub, the HTML representation is unable to render, please try loading this page with nbviewer.org.</b></div><div class=\"sk-container\" hidden><div class=\"sk-item\"><div class=\"sk-estimator sk-toggleable\"><input class=\"sk-toggleable__control sk-hidden--visually\" id=\"sk-estimator-id-6\" type=\"checkbox\" checked><label for=\"sk-estimator-id-6\" class=\"sk-toggleable__label sk-toggleable__label-arrow\">XGBClassifier</label><div class=\"sk-toggleable__content\"><pre>XGBClassifier(base_score=None, booster=None, callbacks=None,\n",
       "              colsample_bylevel=None, colsample_bynode=None,\n",
       "              colsample_bytree=None, device=None, early_stopping_rounds=None,\n",
       "              enable_categorical=False, eval_metric=None, feature_types=None,\n",
       "              gamma=None, grow_policy=None, importance_type=None,\n",
       "              interaction_constraints=None, learning_rate=None, max_bin=None,\n",
       "              max_cat_threshold=None, max_cat_to_onehot=None,\n",
       "              max_delta_step=None, max_depth=None, max_leaves=None,\n",
       "              min_child_weight=None, missing=nan, monotone_constraints=None,\n",
       "              multi_strategy=None, n_estimators=1000, n_jobs=None,\n",
       "              num_parallel_tree=None, objective=&#x27;multi:softprob&#x27;, ...)</pre></div></div></div></div></div>"
      ],
      "text/plain": [
       "XGBClassifier(base_score=None, booster=None, callbacks=None,\n",
       "              colsample_bylevel=None, colsample_bynode=None,\n",
       "              colsample_bytree=None, device=None, early_stopping_rounds=None,\n",
       "              enable_categorical=False, eval_metric=None, feature_types=None,\n",
       "              gamma=None, grow_policy=None, importance_type=None,\n",
       "              interaction_constraints=None, learning_rate=None, max_bin=None,\n",
       "              max_cat_threshold=None, max_cat_to_onehot=None,\n",
       "              max_delta_step=None, max_depth=None, max_leaves=None,\n",
       "              min_child_weight=None, missing=nan, monotone_constraints=None,\n",
       "              multi_strategy=None, n_estimators=1000, n_jobs=None,\n",
       "              num_parallel_tree=None, objective='multi:softprob', ...)"
      ]
     },
     "execution_count": 58,
     "metadata": {},
     "output_type": "execute_result"
    }
   ],
   "source": [
    "clf_watch = xgb.XGBClassifier(n_estimators=1000)\n",
    "clf_watch.fit(X_train, y_train)"
   ]
  },
  {
   "cell_type": "code",
   "execution_count": 59,
   "id": "24da0e8b",
   "metadata": {},
   "outputs": [
    {
     "data": {
      "text/plain": [
       "<Axes: title={'center': 'Feature importance'}, xlabel='F score', ylabel='Features'>"
      ]
     },
     "execution_count": 59,
     "metadata": {},
     "output_type": "execute_result"
    },
    {
     "data": {
      "image/png": "[encoded data removed]",
      "text/plain": [
       "<Figure size 640x480 with 1 Axes>"
      ]
     },
     "metadata": {},
     "output_type": "display_data"
    }
   ],
   "source": [
    "import xgboost as xgb \n",
    "xgb.plot_importance(clf_watch, max_num_features=10)"
   ]
  },
  {
   "cell_type": "code",
   "execution_count": 61,
   "id": "dfc9116d",
   "metadata": {},
   "outputs": [
    {
     "name": "stdout",
     "output_type": "stream",
     "text": [
      "[0.96153846 0.93617021 0.98360656]\n",
      "[0.97150997 0.94940476 0.99      ]\n"
     ]
    }
   ],
   "source": [
    "pred = clf_watch.predict(X_test)\n",
    "\n",
    "conf_matrix = multilabel_confusion_matrix(pred, y_test)\n",
    "\n",
    "print(F1_score_conf_matrix(conf_matrix))\n",
    "print(bal_acc_score_conf_matrix(conf_matrix))\n"
   ]
  },
  {
   "cell_type": "code",
   "execution_count": 27,
   "id": "e809987c",
   "metadata": {},
   "outputs": [
    {
     "data": {
      "text/plain": [
       "array([0, 0, 0, 2, 2, 0, 0, 1, 1, 2, 1, 0, 1, 1, 1, 1, 2, 0, 2, 0, 1, 1,\n",
       "       0, 2, 1, 2, 0, 1, 0, 2, 2, 2, 1, 0, 1, 2, 0, 2, 0, 2, 0, 1, 1, 0,\n",
       "       1, 0, 2, 1, 0, 2, 2, 2, 1, 2, 1, 2, 2, 0, 0, 2, 2, 1, 1, 2, 2, 0,\n",
       "       2, 2, 1, 1, 2, 2, 1, 0, 2, 2, 0, 1, 0, 1])"
      ]
     },
     "execution_count": 27,
     "metadata": {},
     "output_type": "execute_result"
    }
   ],
   "source": [
    "pred"
   ]
  },
  {
   "cell_type": "code",
   "execution_count": 132,
   "id": "7215c583",
   "metadata": {},
   "outputs": [],
   "source": [
    "file_name = \"clf_watch.pkl\"\n",
    "\n",
    "# save\n",
    "pickle.dump(\"clf_watch.pkl\", open(file_name, \"wb\"))"
   ]
  },
  {
   "cell_type": "markdown",
   "id": "c1952575",
   "metadata": {},
   "source": [
    "# Path Finding"
   ]
  },
  {
   "cell_type": "code",
   "execution_count": 35,
   "id": "58e1d2d5",
   "metadata": {},
   "outputs": [
    {
     "name": "stdout",
     "output_type": "stream",
     "text": [
      "Processed 9 examples\n",
      "Processed 19 examples\n",
      "Processed 29 examples\n",
      "Processed 39 examples\n",
      "Processed 49 examples\n",
      "Processed 59 examples\n",
      "Processed 69 examples\n",
      "Processed 79 examples\n",
      "Processed 89 examples\n",
      "Processed 99 examples\n",
      "Processed 109 examples\n",
      "Processed 119 examples\n",
      "Processed 129 examples\n",
      "Processed 139 examples\n",
      "Processed 149 examples\n",
      "Processed 159 examples\n",
      "Processed 169 examples\n",
      "Processed 179 examples\n",
      "Processed 189 examples\n",
      "Processed 199 examples\n",
      "Processed 209 examples\n",
      "Processed 219 examples\n",
      "Processed 229 examples\n",
      "Processed 239 examples\n",
      "Processed 249 examples\n",
      "Processed 259 examples\n",
      "Processed 269 examples\n",
      "Processed 279 examples\n",
      "Processed 289 examples\n",
      "Processed 299 examples\n",
      "Processed 309 examples\n",
      "Processed 319 examples\n",
      "Processed 329 examples\n",
      "Processed 339 examples\n",
      "Processed 349 examples\n",
      "Processed 359 examples\n",
      "Processed 369 examples\n",
      "Processed 379 examples\n",
      "Processed 389 examples\n"
     ]
    }
   ],
   "source": [
    "path = \"data/train/\"\n",
    "df = get_data(path, wind_length_s = 60, sensors_corr = [\"gx\", \"gy\", \"gz\", \"mx\", \"my\", \"mz\", \"altitude\"], sensors_no_corr = [\"ax\", \"ay\", \"az\"], wind_overlap_per = 0.5)"
   ]
  },
  {
   "cell_type": "code",
   "execution_count": 33,
   "id": "f1634a7e",
   "metadata": {},
   "outputs": [],
   "source": [
    "# Get labels\n",
    "labels = df.groupby('Sample').max()[[\"path_idx\"]]\n",
    "steps = df.groupby('Sample').max()[[\"Steps\"]]"
   ]
  },
  {
   "cell_type": "code",
   "execution_count": 34,
   "id": "84ff5459",
   "metadata": {},
   "outputs": [],
   "source": [
    "df_filt = df.drop([\"Frequency\", \"path_idx\", \"watch_loc\", \"Steps\", \"Length\", \"STANDING\", \"Timestamps\", \"WALKING\",\t\"RUNNING\",\t\"CYCLING\"], axis=1)"
   ]
  },
  {
   "cell_type": "code",
   "execution_count": 35,
   "id": "16a2076e",
   "metadata": {},
   "outputs": [],
   "source": [
    "df_features_samples = features_per_sample(df_filt)\n",
    "df_final =  pd.concat([df_features_samples, labels[['path_idx']], steps[[\"Steps\"]]], axis=1)"
   ]
  },
  {
   "cell_type": "code",
   "execution_count": 36,
   "id": "a661be42",
   "metadata": {},
   "outputs": [],
   "source": [
    "train, test = train_test_split(df_final, test_size=0.2, shuffle=False)\n",
    "train = train.reset_index(drop=True)\n",
    "test = test.reset_index(drop=True)\n",
    "\n",
    "X_train = train.drop(['path_idx'], axis =1)\n",
    "y_train = train[['path_idx']]\n",
    "X_test = test.drop(['path_idx'], axis =1)\n",
    "y_test = test[['path_idx']]"
   ]
  },
  {
   "cell_type": "code",
   "execution_count": 38,
   "id": "aca98f81",
   "metadata": {},
   "outputs": [
    {
     "name": "stderr",
     "output_type": "stream",
     "text": [
      "[I 2024-05-01 18:56:31,807] Trial 30 finished with value: 0.7078545464184839 and parameters: {'learning_rate': 0.024375752078082367, 'max_depth': 3, 'subsample': 0.8877770979744075, 'colsample_bytree': 0.1373420317292668, 'min_child_weight': 16}. Best is trial 9 with value: 0.7445589443490708.\n",
      "[I 2024-05-01 18:56:41,356] Trial 31 finished with value: 0.6995622669061744 and parameters: {'learning_rate': 0.011513638213901743, 'max_depth': 6, 'subsample': 0.7303275262442787, 'colsample_bytree': 0.21956707040349666, 'min_child_weight': 16}. Best is trial 9 with value: 0.7445589443490708.\n",
      "[I 2024-05-01 18:56:51,331] Trial 32 finished with value: 0.7004415584415584 and parameters: {'learning_rate': 0.012488109333454895, 'max_depth': 7, 'subsample': 0.31805884947817464, 'colsample_bytree': 0.5644765222659758, 'min_child_weight': 7}. Best is trial 9 with value: 0.7445589443490708.\n",
      "[I 2024-05-01 18:56:56,058] Trial 33 finished with value: 0.7561803462865383 and parameters: {'learning_rate': 0.08511184574334577, 'max_depth': 2, 'subsample': 0.35055732211102236, 'colsample_bytree': 0.15698467391489773, 'min_child_weight': 2}. Best is trial 33 with value: 0.7561803462865383.\n",
      "[I 2024-05-01 18:56:59,628] Trial 34 finished with value: 0.7540105909946208 and parameters: {'learning_rate': 0.040185476641290956, 'max_depth': 1, 'subsample': 0.4287413764278485, 'colsample_bytree': 0.15953117768846314, 'min_child_weight': 4}. Best is trial 33 with value: 0.7561803462865383.\n",
      "[I 2024-05-01 18:57:05,740] Trial 35 finished with value: 0.7100124941558382 and parameters: {'learning_rate': 0.04082280777980361, 'max_depth': 2, 'subsample': 0.5689398347427302, 'colsample_bytree': 0.26454027276085507, 'min_child_weight': 4}. Best is trial 33 with value: 0.7561803462865383.\n",
      "[I 2024-05-01 18:57:14,800] Trial 36 finished with value: 0.7460475792349224 and parameters: {'learning_rate': 0.03368791272795715, 'max_depth': 5, 'subsample': 0.42627651377027603, 'colsample_bytree': 0.16745084854435546, 'min_child_weight': 5}. Best is trial 33 with value: 0.7561803462865383.\n",
      "[I 2024-05-01 18:57:27,269] Trial 37 finished with value: 0.7113414448047607 and parameters: {'learning_rate': 0.02253191707784793, 'max_depth': 5, 'subsample': 0.41397751461866605, 'colsample_bytree': 0.16089415374753094, 'min_child_weight': 4}. Best is trial 33 with value: 0.7561803462865383.\n",
      "[I 2024-05-01 18:57:34,829] Trial 38 finished with value: 0.7467645946001628 and parameters: {'learning_rate': 0.031246270851150747, 'max_depth': 3, 'subsample': 0.6379282355431487, 'colsample_bytree': 0.18610842596997013, 'min_child_weight': 6}. Best is trial 33 with value: 0.7561803462865383.\n",
      "[I 2024-05-01 18:57:49,174] Trial 39 finished with value: 0.6647244952336859 and parameters: {'learning_rate': 0.00801434302287684, 'max_depth': 3, 'subsample': 0.5912370601743394, 'colsample_bytree': 0.3134048576760436, 'min_child_weight': 3}. Best is trial 33 with value: 0.7561803462865383.\n",
      "[I 2024-05-01 18:57:54,588] Trial 40 finished with value: 0.6896618390334404 and parameters: {'learning_rate': 0.03354283569527089, 'max_depth': 2, 'subsample': 0.631525951993888, 'colsample_bytree': 0.11813306587502176, 'min_child_weight': 20}. Best is trial 33 with value: 0.7561803462865383.\n",
      "[I 2024-05-01 18:58:07,254] Trial 41 finished with value: 0.7237654041229555 and parameters: {'learning_rate': 0.03010336929489245, 'max_depth': 5, 'subsample': 0.6984179337922051, 'colsample_bytree': 0.49052033158902153, 'min_child_weight': 5}. Best is trial 33 with value: 0.7561803462865383.\n",
      "[I 2024-05-01 18:58:11,318] Trial 42 finished with value: 0.6992758077391236 and parameters: {'learning_rate': 0.03620256523810727, 'max_depth': 1, 'subsample': 0.5342654953333191, 'colsample_bytree': 0.18264018824614792, 'min_child_weight': 2}. Best is trial 33 with value: 0.7561803462865383.\n",
      "[I 2024-05-01 18:58:19,058] Trial 43 finished with value: 0.7286979582412731 and parameters: {'learning_rate': 0.04828046201278198, 'max_depth': 5, 'subsample': 0.42687122545806244, 'colsample_bytree': 0.1887868500825569, 'min_child_weight': 6}. Best is trial 33 with value: 0.7561803462865383.\n",
      "[I 2024-05-01 18:58:30,972] Trial 44 finished with value: 0.726108697442729 and parameters: {'learning_rate': 0.0154694694329044, 'max_depth': 4, 'subsample': 0.7939406208784076, 'colsample_bytree': 0.10355474090761993, 'min_child_weight': 8}. Best is trial 33 with value: 0.7561803462865383.\n",
      "[I 2024-05-01 18:58:42,975] Trial 45 finished with value: 0.7117052187182589 and parameters: {'learning_rate': 0.021529590733705816, 'max_depth': 3, 'subsample': 0.35994500479577174, 'colsample_bytree': 0.7737312374329048, 'min_child_weight': 5}. Best is trial 33 with value: 0.7561803462865383.\n",
      "[I 2024-05-01 18:58:49,681] Trial 46 finished with value: 0.7287478224332338 and parameters: {'learning_rate': 0.030091284988003366, 'max_depth': 2, 'subsample': 0.9292234658659393, 'colsample_bytree': 0.2888937505005318, 'min_child_weight': 6}. Best is trial 33 with value: 0.7561803462865383.\n",
      "[I 2024-05-01 18:58:57,659] Trial 47 finished with value: 0.7169327649549186 and parameters: {'learning_rate': 0.0770454763865624, 'max_depth': 3, 'subsample': 0.2386797557200015, 'colsample_bytree': 0.3665634336139743, 'min_child_weight': 2}. Best is trial 33 with value: 0.7561803462865383.\n",
      "[I 2024-05-01 18:59:02,977] Trial 48 finished with value: 0.711357257847271 and parameters: {'learning_rate': 0.03934694022117355, 'max_depth': 1, 'subsample': 0.3938063501360848, 'colsample_bytree': 0.9775948069274223, 'min_child_weight': 8}. Best is trial 33 with value: 0.7561803462865383.\n",
      "[I 2024-05-01 18:59:10,978] Trial 49 finished with value: 0.7270145964995733 and parameters: {'learning_rate': 0.05909420974106515, 'max_depth': 4, 'subsample': 0.44098197371545944, 'colsample_bytree': 0.22941898576725145, 'min_child_weight': 4}. Best is trial 33 with value: 0.7561803462865383.\n",
      "[I 2024-05-01 18:59:16,670] Trial 50 finished with value: 0.6569171190460545 and parameters: {'learning_rate': 0.004302403365983633, 'max_depth': 2, 'subsample': 0.5084204236740371, 'colsample_bytree': 0.10281042402537141, 'min_child_weight': 10}. Best is trial 33 with value: 0.7561803462865383.\n",
      "[I 2024-05-01 18:59:25,070] Trial 51 finished with value: 0.7441584062697286 and parameters: {'learning_rate': 0.0548037341549732, 'max_depth': 5, 'subsample': 0.9905842760989961, 'colsample_bytree': 0.1769192603044558, 'min_child_weight': 6}. Best is trial 33 with value: 0.7561803462865383.\n",
      "[I 2024-05-01 18:59:29,509] Trial 52 finished with value: 0.709317796391337 and parameters: {'learning_rate': 0.08081209971862863, 'max_depth': 1, 'subsample': 0.6839565587912244, 'colsample_bytree': 0.3060441020964908, 'min_child_weight': 2}. Best is trial 33 with value: 0.7561803462865383.\n",
      "[I 2024-05-01 18:59:35,834] Trial 53 finished with value: 0.6805779742413108 and parameters: {'learning_rate': 0.06933816859923358, 'max_depth': 4, 'subsample': 0.4669864212045569, 'colsample_bytree': 0.23791761490960966, 'min_child_weight': 6}. Best is trial 33 with value: 0.7561803462865383.\n",
      "[I 2024-05-01 18:59:43,632] Trial 54 finished with value: 0.7621381547861897 and parameters: {'learning_rate': 0.043324977602835844, 'max_depth': 3, 'subsample': 0.3665819162883402, 'colsample_bytree': 0.2402241203882784, 'min_child_weight': 5}. Best is trial 54 with value: 0.7621381547861897.\n",
      "[I 2024-05-01 18:59:52,245] Trial 55 finished with value: 0.7076545928097938 and parameters: {'learning_rate': 0.02598516943282384, 'max_depth': 3, 'subsample': 0.35752025286983236, 'colsample_bytree': 0.1494633363750973, 'min_child_weight': 4}. Best is trial 54 with value: 0.7621381547861897.\n",
      "[I 2024-05-01 18:59:57,396] Trial 56 finished with value: 0.7428574944297115 and parameters: {'learning_rate': 0.04295350603715734, 'max_depth': 2, 'subsample': 0.30884691105873935, 'colsample_bytree': 0.09247107791348053, 'min_child_weight': 3}. Best is trial 54 with value: 0.7621381547861897.\n",
      "[I 2024-05-01 19:00:03,905] Trial 57 finished with value: 0.7245914553011641 and parameters: {'learning_rate': 0.051293625897760445, 'max_depth': 3, 'subsample': 0.5918170937363421, 'colsample_bytree': 0.3422336414534775, 'min_child_weight': 5}. Best is trial 54 with value: 0.7621381547861897.\n",
      "[I 2024-05-01 19:00:09,470] Trial 58 finished with value: 0.729301166831002 and parameters: {'learning_rate': 0.018215154229716538, 'max_depth': 2, 'subsample': 0.38901513099016416, 'colsample_bytree': 0.2044494914424528, 'min_child_weight': 7}. Best is trial 54 with value: 0.7621381547861897.\n",
      "[I 2024-05-01 19:00:12,850] Trial 59 finished with value: 0.5995964665249248 and parameters: {'learning_rate': 0.031384993971682235, 'max_depth': 1, 'subsample': 0.18609098493934806, 'colsample_bytree': 0.13464508556856675, 'min_child_weight': 9}. Best is trial 54 with value: 0.7621381547861897.\n",
      "[I 2024-05-01 19:00:22,122] Trial 60 finished with value: 0.7218410700851491 and parameters: {'learning_rate': 0.03634625732244331, 'max_depth': 4, 'subsample': 0.27386663105390774, 'colsample_bytree': 0.1758060104273702, 'min_child_weight': 3}. Best is trial 54 with value: 0.7621381547861897.\n",
      "[I 2024-05-01 19:00:30,496] Trial 61 finished with value: 0.7187959069045613 and parameters: {'learning_rate': 0.014443193011725149, 'max_depth': 9, 'subsample': 0.8433319862210589, 'colsample_bytree': 0.2518420619563784, 'min_child_weight': 18}. Best is trial 54 with value: 0.7621381547861897.\n",
      "[I 2024-05-01 19:00:35,681] Trial 62 finished with value: 0.6998702555813043 and parameters: {'learning_rate': 0.08510903362058832, 'max_depth': 3, 'subsample': 0.3527793338395643, 'colsample_bytree': 0.39298086559593315, 'min_child_weight': 8}. Best is trial 54 with value: 0.7621381547861897.\n",
      "[I 2024-05-01 19:00:41,775] Trial 63 finished with value: 0.7231762212532968 and parameters: {'learning_rate': 0.06746788902551522, 'max_depth': 4, 'subsample': 0.4961965342792263, 'colsample_bytree': 0.2597894499070075, 'min_child_weight': 7}. Best is trial 54 with value: 0.7621381547861897.\n",
      "[I 2024-05-01 19:00:48,233] Trial 64 finished with value: 0.734823524398263 and parameters: {'learning_rate': 0.054920490162589625, 'max_depth': 4, 'subsample': 0.4578892563022127, 'colsample_bytree': 0.227418481514302, 'min_child_weight': 6}. Best is trial 54 with value: 0.7621381547861897.\n",
      "[I 2024-05-01 19:00:57,155] Trial 65 finished with value: 0.7229373267695522 and parameters: {'learning_rate': 0.04495421170613609, 'max_depth': 5, 'subsample': 0.5217184619727416, 'colsample_bytree': 0.33834094370813556, 'min_child_weight': 5}. Best is trial 54 with value: 0.7621381547861897.\n",
      "[I 2024-05-01 19:01:06,215] Trial 66 finished with value: 0.7517579738547481 and parameters: {'learning_rate': 0.08992630452441487, 'max_depth': 6, 'subsample': 0.3822580492402547, 'colsample_bytree': 0.12469666738918192, 'min_child_weight': 4}. Best is trial 54 with value: 0.7621381547861897.\n",
      "[I 2024-05-01 19:01:15,645] Trial 67 finished with value: 0.7453550690771072 and parameters: {'learning_rate': 0.09175620627414798, 'max_depth': 6, 'subsample': 0.4040825231469371, 'colsample_bytree': 0.07604092106079612, 'min_child_weight': 4}. Best is trial 54 with value: 0.7621381547861897.\n",
      "[I 2024-05-01 19:01:22,384] Trial 68 finished with value: 0.6994797653297387 and parameters: {'learning_rate': 0.0898634290226925, 'max_depth': 7, 'subsample': 0.3971885545974855, 'colsample_bytree': 0.05937128184939606, 'min_child_weight': 4}. Best is trial 54 with value: 0.7621381547861897.\n",
      "[I 2024-05-01 19:01:29,854] Trial 69 finished with value: 0.7303229076041331 and parameters: {'learning_rate': 0.09601903550389737, 'max_depth': 6, 'subsample': 0.23717518363698703, 'colsample_bytree': 0.12363083470820856, 'min_child_weight': 2}. Best is trial 54 with value: 0.7621381547861897.\n",
      "[I 2024-05-01 19:01:41,055] Trial 70 finished with value: 0.7315891055016965 and parameters: {'learning_rate': 0.07392709774529911, 'max_depth': 6, 'subsample': 0.32640155933801235, 'colsample_bytree': 0.08377904923838887, 'min_child_weight': 1}. Best is trial 54 with value: 0.7621381547861897.\n",
      "[I 2024-05-01 19:01:49,637] Trial 71 finished with value: 0.7168001534664133 and parameters: {'learning_rate': 0.06001363299737399, 'max_depth': 7, 'subsample': 0.29038103755313477, 'colsample_bytree': 0.5644361400405414, 'min_child_weight': 4}. Best is trial 54 with value: 0.7621381547861897.\n",
      "[I 2024-05-01 19:01:57,508] Trial 72 finished with value: 0.7174388674388674 and parameters: {'learning_rate': 0.08573153812621909, 'max_depth': 8, 'subsample': 0.4484543118587883, 'colsample_bytree': 0.14869269035711952, 'min_child_weight': 3}. Best is trial 54 with value: 0.7621381547861897.\n",
      "[I 2024-05-01 19:02:06,612] Trial 73 finished with value: 0.7209311892920841 and parameters: {'learning_rate': 0.048845335252977365, 'max_depth': 6, 'subsample': 0.41208907796456284, 'colsample_bytree': 0.19953390523378653, 'min_child_weight': 5}. Best is trial 54 with value: 0.7621381547861897.\n",
      "[I 2024-05-01 19:02:29,183] Trial 74 finished with value: 0.7056047784050499 and parameters: {'learning_rate': 0.0023087409932052213, 'max_depth': 5, 'subsample': 0.36818881688068233, 'colsample_bytree': 0.051080918050942725, 'min_child_weight': 3}. Best is trial 54 with value: 0.7621381547861897.\n",
      "[I 2024-05-01 19:02:39,365] Trial 75 finished with value: 0.743338999932355 and parameters: {'learning_rate': 0.034835592236008274, 'max_depth': 5, 'subsample': 0.3742265208995056, 'colsample_bytree': 0.16432887826561882, 'min_child_weight': 4}. Best is trial 54 with value: 0.7621381547861897.\n",
      "[I 2024-05-01 19:02:48,585] Trial 76 finished with value: 0.7477288410138722 and parameters: {'learning_rate': 0.04140746021755017, 'max_depth': 6, 'subsample': 0.3306659927238793, 'colsample_bytree': 0.1258152123299554, 'min_child_weight': 5}. Best is trial 54 with value: 0.7621381547861897.\n",
      "[I 2024-05-01 19:03:01,004] Trial 77 finished with value: 0.7320514722072416 and parameters: {'learning_rate': 0.021786509971519326, 'max_depth': 7, 'subsample': 0.32035753233080155, 'colsample_bytree': 0.10407831356032657, 'min_child_weight': 5}. Best is trial 54 with value: 0.7621381547861897.\n",
      "[I 2024-05-01 19:03:12,953] Trial 78 finished with value: 0.7540826775695739 and parameters: {'learning_rate': 0.04047136262665375, 'max_depth': 6, 'subsample': 0.33414656828481176, 'colsample_bytree': 0.12367927380476512, 'min_child_weight': 2}. Best is trial 54 with value: 0.7621381547861897.\n",
      "[I 2024-05-01 19:03:32,179] Trial 79 finished with value: 0.7193422307709774 and parameters: {'learning_rate': 0.027838051617880544, 'max_depth': 6, 'subsample': 0.34460273031011324, 'colsample_bytree': 0.14203516540657182, 'min_child_weight': 1}. Best is trial 54 with value: 0.7621381547861897.\n",
      "[I 2024-05-01 19:03:56,988] Trial 80 finished with value: 0.7471420246420247 and parameters: {'learning_rate': 0.0017542859932047471, 'max_depth': 7, 'subsample': 0.25115945547876933, 'colsample_bytree': 0.11924965640712944, 'min_child_weight': 2}. Best is trial 54 with value: 0.7621381547861897.\n",
      "[I 2024-05-01 19:04:20,249] Trial 81 finished with value: 0.7162125414131454 and parameters: {'learning_rate': 0.0011703606601448828, 'max_depth': 7, 'subsample': 0.2730609105373226, 'colsample_bytree': 0.11869636370665589, 'min_child_weight': 2}. Best is trial 54 with value: 0.7621381547861897.\n",
      "[I 2024-05-01 19:04:31,441] Trial 82 finished with value: 0.6792736594726498 and parameters: {'learning_rate': 0.0065344296393920545, 'max_depth': 7, 'subsample': 0.13651583676067458, 'colsample_bytree': 0.18925168761576872, 'min_child_weight': 2}. Best is trial 54 with value: 0.7621381547861897.\n",
      "[I 2024-05-01 19:04:40,027] Trial 83 finished with value: 0.7080585795650763 and parameters: {'learning_rate': 0.039687656206953574, 'max_depth': 6, 'subsample': 0.21808634395762733, 'colsample_bytree': 0.12018207265068934, 'min_child_weight': 3}. Best is trial 54 with value: 0.7621381547861897.\n",
      "[I 2024-05-01 19:05:05,100] Trial 84 finished with value: 0.7040207831199846 and parameters: {'learning_rate': 0.003197532423068387, 'max_depth': 7, 'subsample': 0.2498890341018919, 'colsample_bytree': 0.16790594647899681, 'min_child_weight': 1}. Best is trial 54 with value: 0.7621381547861897.\n",
      "[I 2024-05-01 19:05:20,579] Trial 85 finished with value: 0.7575704231552128 and parameters: {'learning_rate': 0.024623540499179124, 'max_depth': 8, 'subsample': 0.4369870971274295, 'colsample_bytree': 0.20884110453805815, 'min_child_weight': 2}. Best is trial 54 with value: 0.7621381547861897.\n",
      "[I 2024-05-01 19:05:46,845] Trial 86 finished with value: 0.7411526687003742 and parameters: {'learning_rate': 0.010140061798179688, 'max_depth': 9, 'subsample': 0.2988783871424391, 'colsample_bytree': 0.21041653034607843, 'min_child_weight': 1}. Best is trial 54 with value: 0.7621381547861897.\n",
      "[I 2024-05-01 19:06:19,205] Trial 87 finished with value: 0.7108370057409996 and parameters: {'learning_rate': 0.002690284078855124, 'max_depth': 8, 'subsample': 0.4826346798186838, 'colsample_bytree': 0.09079839316731639, 'min_child_weight': 2}. Best is trial 54 with value: 0.7621381547861897.\n",
      "[I 2024-05-01 19:06:41,181] Trial 88 finished with value: 0.6942482781491479 and parameters: {'learning_rate': 0.0016466399308339341, 'max_depth': 8, 'subsample': 0.33224818589515953, 'colsample_bytree': 0.2747240014840037, 'min_child_weight': 3}. Best is trial 54 with value: 0.7621381547861897.\n",
      "[I 2024-05-01 19:06:53,294] Trial 89 finished with value: 0.6845546980078807 and parameters: {'learning_rate': 0.023277005117593872, 'max_depth': 8, 'subsample': 0.2083701241244124, 'colsample_bytree': 0.15313770425442874, 'min_child_weight': 2}. Best is trial 54 with value: 0.7621381547861897.\n",
      "[I 2024-05-01 19:07:12,688] Trial 90 finished with value: 0.7012831502999278 and parameters: {'learning_rate': 0.019868726915197494, 'max_depth': 9, 'subsample': 0.43252857737342804, 'colsample_bytree': 0.7098509274834122, 'min_child_weight': 3}. Best is trial 54 with value: 0.7621381547861897.\n",
      "[I 2024-05-01 19:07:24,592] Trial 91 finished with value: 0.6962472655923687 and parameters: {'learning_rate': 0.03988693608309392, 'max_depth': 7, 'subsample': 0.3779493081318116, 'colsample_bytree': 0.2420767114978499, 'min_child_weight': 2}. Best is trial 54 with value: 0.7621381547861897.\n",
      "[I 2024-05-01 19:07:28,587] Trial 92 finished with value: 0.681386093594847 and parameters: {'learning_rate': 0.02619319675150871, 'max_depth': 1, 'subsample': 0.6108818807297212, 'colsample_bytree': 0.20800740708538656, 'min_child_weight': 12}. Best is trial 54 with value: 0.7621381547861897.\n",
      "[I 2024-05-01 19:07:40,311] Trial 93 finished with value: 0.6987099697228114 and parameters: {'learning_rate': 0.029125415732183458, 'max_depth': 6, 'subsample': 0.4212386904486234, 'colsample_bytree': 0.11164151546700496, 'min_child_weight': 5}. Best is trial 54 with value: 0.7621381547861897.\n",
      "[I 2024-05-01 19:07:46,499] Trial 94 finished with value: 0.7490855586147876 and parameters: {'learning_rate': 0.031125649240756677, 'max_depth': 2, 'subsample': 0.661115970648207, 'colsample_bytree': 0.17534573337487147, 'min_child_weight': 4}. Best is trial 54 with value: 0.7621381547861897.\n",
      "[I 2024-05-01 19:07:56,637] Trial 95 finished with value: 0.7244908898552872 and parameters: {'learning_rate': 0.03134553560104638, 'max_depth': 2, 'subsample': 0.702903140366192, 'colsample_bytree': 0.8697791482252104, 'min_child_weight': 4}. Best is trial 54 with value: 0.7621381547861897.\n",
      "[I 2024-05-01 19:08:02,458] Trial 96 finished with value: 0.736719310113555 and parameters: {'learning_rate': 0.054746052459859265, 'max_depth': 2, 'subsample': 0.6653879326141959, 'colsample_bytree': 0.18636948382793433, 'min_child_weight': 3}. Best is trial 54 with value: 0.7621381547861897.\n",
      "[I 2024-05-01 19:08:06,496] Trial 97 finished with value: 0.7117089642029708 and parameters: {'learning_rate': 0.043723462400715236, 'max_depth': 1, 'subsample': 0.7233393171042009, 'colsample_bytree': 0.13784538769564916, 'min_child_weight': 4}. Best is trial 54 with value: 0.7621381547861897.\n",
      "[I 2024-05-01 19:08:12,227] Trial 98 finished with value: 0.7333915718597631 and parameters: {'learning_rate': 0.03499784023632227, 'max_depth': 2, 'subsample': 0.5671078128630709, 'colsample_bytree': 0.07056876704534532, 'min_child_weight': 1}. Best is trial 54 with value: 0.7621381547861897.\n",
      "[I 2024-05-01 19:08:16,847] Trial 99 finished with value: 0.7264688841821275 and parameters: {'learning_rate': 0.04819507114156764, 'max_depth': 1, 'subsample': 0.776697550512781, 'colsample_bytree': 0.219903692786049, 'min_child_weight': 3}. Best is trial 54 with value: 0.7621381547861897.\n",
      "[I 2024-05-01 19:08:24,149] Trial 100 finished with value: 0.6982148142215973 and parameters: {'learning_rate': 0.024639925201385714, 'max_depth': 3, 'subsample': 0.2556320282096482, 'colsample_bytree': 0.17235621552122043, 'min_child_weight': 6}. Best is trial 54 with value: 0.7621381547861897.\n",
      "[I 2024-05-01 19:08:30,102] Trial 101 finished with value: 0.6563912111730226 and parameters: {'learning_rate': 0.0019253832088165718, 'max_depth': 2, 'subsample': 0.34599435735452316, 'colsample_bytree': 0.12932657055827512, 'min_child_weight': 5}. Best is trial 54 with value: 0.7621381547861897.\n",
      "[I 2024-05-01 19:08:38,029] Trial 102 finished with value: 0.6925460187312742 and parameters: {'learning_rate': 0.06379817253544202, 'max_depth': 6, 'subsample': 0.6570477629849251, 'colsample_bytree': 0.29503731534295086, 'min_child_weight': 4}. Best is trial 54 with value: 0.7621381547861897.\n",
      "[I 2024-05-01 19:08:44,938] Trial 103 finished with value: 0.7176522995033642 and parameters: {'learning_rate': 0.03819882969953117, 'max_depth': 6, 'subsample': 0.30410444277484927, 'colsample_bytree': 0.16500687118273152, 'min_child_weight': 6}. Best is trial 54 with value: 0.7621381547861897.\n",
      "[I 2024-05-01 19:08:51,960] Trial 104 finished with value: 0.7267624352285637 and parameters: {'learning_rate': 0.032181773085720976, 'max_depth': 3, 'subsample': 0.5351174473376361, 'colsample_bytree': 0.09862038872513451, 'min_child_weight': 7}. Best is trial 54 with value: 0.7621381547861897.\n",
      "[I 2024-05-01 19:08:59,847] Trial 105 finished with value: 0.7829152542372882 and parameters: {'learning_rate': 0.042504200621122076, 'max_depth': 5, 'subsample': 0.3981140665749457, 'colsample_bytree': 0.19323995485714823, 'min_child_weight': 5}. Best is trial 105 with value: 0.7829152542372882.\n",
      "[I 2024-05-01 19:09:08,042] Trial 106 finished with value: 0.7135934528589891 and parameters: {'learning_rate': 0.04151148760061772, 'max_depth': 8, 'subsample': 0.3867172794746175, 'colsample_bytree': 0.2389435378815319, 'min_child_weight': 5}. Best is trial 105 with value: 0.7829152542372882.\n",
      "[I 2024-05-01 19:09:12,761] Trial 107 finished with value: 0.671006504310145 and parameters: {'learning_rate': 0.013771035657414641, 'max_depth': 1, 'subsample': 0.4562860253576777, 'colsample_bytree': 0.19176731805791736, 'min_child_weight': 2}. Best is trial 105 with value: 0.7829152542372882.\n",
      "[I 2024-05-01 19:09:21,066] Trial 108 finished with value: 0.7128197688406328 and parameters: {'learning_rate': 0.05852192196274757, 'max_depth': 5, 'subsample': 0.6179365285865654, 'colsample_bytree': 0.14969437663668117, 'min_child_weight': 4}. Best is trial 105 with value: 0.7829152542372882.\n",
      "[I 2024-05-01 19:09:54,584] Trial 109 finished with value: 0.7288550237590176 and parameters: {'learning_rate': 0.0039997854524132905, 'max_depth': 7, 'subsample': 0.4039242349454012, 'colsample_bytree': 0.07968521454887811, 'min_child_weight': 1}. Best is trial 105 with value: 0.7829152542372882.\n",
      "[I 2024-05-01 19:10:01,349] Trial 110 finished with value: 0.7534564468327762 and parameters: {'learning_rate': 0.052553794337003516, 'max_depth': 3, 'subsample': 0.33681073921383986, 'colsample_bytree': 0.2681823046223715, 'min_child_weight': 5}. Best is trial 105 with value: 0.7829152542372882.\n",
      "[I 2024-05-01 19:10:07,506] Trial 111 finished with value: 0.7504454173181105 and parameters: {'learning_rate': 0.050631841372760035, 'max_depth': 2, 'subsample': 0.325977723996914, 'colsample_bytree': 0.3260669458309546, 'min_child_weight': 3}. Best is trial 105 with value: 0.7829152542372882.\n",
      "[I 2024-05-01 19:10:13,549] Trial 112 finished with value: 0.7264589970236759 and parameters: {'learning_rate': 0.05261055591059779, 'max_depth': 2, 'subsample': 0.34129128302212614, 'colsample_bytree': 0.2594795956637973, 'min_child_weight': 3}. Best is trial 105 with value: 0.7829152542372882.\n",
      "[I 2024-05-01 19:10:20,281] Trial 113 finished with value: 0.7388921183871128 and parameters: {'learning_rate': 0.04667220048724087, 'max_depth': 2, 'subsample': 0.2818521047713135, 'colsample_bytree': 0.2741680029656475, 'min_child_weight': 2}. Best is trial 105 with value: 0.7829152542372882.\n",
      "[I 2024-05-01 19:10:27,064] Trial 114 finished with value: 0.7225206806953116 and parameters: {'learning_rate': 0.07093197260326577, 'max_depth': 3, 'subsample': 0.32563535813376226, 'colsample_bytree': 0.469796027236283, 'min_child_weight': 4}. Best is trial 105 with value: 0.7829152542372882.\n",
      "[I 2024-05-01 19:10:33,388] Trial 115 finished with value: 0.7399185218812049 and parameters: {'learning_rate': 0.04310379391395506, 'max_depth': 2, 'subsample': 0.3714091420843076, 'colsample_bytree': 0.22872598176166048, 'min_child_weight': 3}. Best is trial 105 with value: 0.7829152542372882.\n",
      "[I 2024-05-01 19:10:45,844] Trial 116 finished with value: 0.730127982392274 and parameters: {'learning_rate': 0.03660794106352009, 'max_depth': 6, 'subsample': 0.30745296015396645, 'colsample_bytree': 0.3205718042225135, 'min_child_weight': 2}. Best is trial 105 with value: 0.7829152542372882.\n",
      "[I 2024-05-01 19:10:51,591] Trial 117 finished with value: 0.7006462945789492 and parameters: {'learning_rate': 0.06480416660925617, 'max_depth': 2, 'subsample': 0.36616469078352504, 'colsample_bytree': 0.20981236852470286, 'min_child_weight': 4}. Best is trial 105 with value: 0.7829152542372882.\n",
      "[I 2024-05-01 19:10:55,381] Trial 118 finished with value: 0.7309478144727741 and parameters: {'learning_rate': 0.07940178246264316, 'max_depth': 1, 'subsample': 0.44280296111628525, 'colsample_bytree': 0.12765793953379473, 'min_child_weight': 5}. Best is trial 105 with value: 0.7829152542372882.\n",
      "[I 2024-05-01 19:11:04,047] Trial 119 finished with value: 0.6893801302541567 and parameters: {'learning_rate': 0.051126623424465084, 'max_depth': 5, 'subsample': 0.39883720378272214, 'colsample_bytree': 0.16280929970668728, 'min_child_weight': 3}. Best is trial 105 with value: 0.7829152542372882.\n",
      "[I 2024-05-01 19:11:10,775] Trial 120 finished with value: 0.7405853268031725 and parameters: {'learning_rate': 0.09934381486360604, 'max_depth': 3, 'subsample': 0.26447741752969167, 'colsample_bytree': 0.29680662313983475, 'min_child_weight': 5}. Best is trial 105 with value: 0.7829152542372882.\n",
      "[I 2024-05-01 19:11:23,177] Trial 121 finished with value: 0.7181644679152959 and parameters: {'learning_rate': 0.056165133588318844, 'max_depth': 7, 'subsample': 0.32790665151514503, 'colsample_bytree': 0.3251677870669052, 'min_child_weight': 2}. Best is trial 105 with value: 0.7829152542372882.\n",
      "[I 2024-05-01 19:11:29,588] Trial 122 finished with value: 0.705125336889233 and parameters: {'learning_rate': 0.07564211809655, 'max_depth': 6, 'subsample': 0.2858605288014901, 'colsample_bytree': 0.19533811476209736, 'min_child_weight': 6}. Best is trial 105 with value: 0.7829152542372882.\n",
      "[I 2024-05-01 19:11:37,967] Trial 123 finished with value: 0.7219026924738331 and parameters: {'learning_rate': 0.03747146573363274, 'max_depth': 3, 'subsample': 0.3555576422746017, 'colsample_bytree': 0.18214808739265265, 'min_child_weight': 4}. Best is trial 105 with value: 0.7829152542372882.\n",
      "[I 2024-05-01 19:11:47,035] Trial 124 finished with value: 0.7025757592927778 and parameters: {'learning_rate': 0.028115497188918644, 'max_depth': 3, 'subsample': 0.42230774159710954, 'colsample_bytree': 0.24825322476733372, 'min_child_weight': 7}. Best is trial 105 with value: 0.7829152542372882.\n",
      "[I 2024-05-01 19:11:57,621] Trial 125 finished with value: 0.7540114542511236 and parameters: {'learning_rate': 0.03344470102948173, 'max_depth': 4, 'subsample': 0.3854608320281792, 'colsample_bytree': 0.11088691221755415, 'min_child_weight': 5}. Best is trial 105 with value: 0.7829152542372882.\n",
      "[I 2024-05-01 19:12:07,141] Trial 126 finished with value: 0.702045302629798 and parameters: {'learning_rate': 0.0480794658208196, 'max_depth': 4, 'subsample': 0.4821404005572693, 'colsample_bytree': 0.11024201161368388, 'min_child_weight': 5}. Best is trial 105 with value: 0.7829152542372882.\n",
      "[I 2024-05-01 19:12:17,927] Trial 127 finished with value: 0.7406513241174526 and parameters: {'learning_rate': 0.03470150706197476, 'max_depth': 4, 'subsample': 0.39276092435221494, 'colsample_bytree': 0.1433629191079193, 'min_child_weight': 5}. Best is trial 105 with value: 0.7829152542372882.\n",
      "[I 2024-05-01 19:12:28,990] Trial 128 finished with value: 0.7491369969314128 and parameters: {'learning_rate': 0.04226290742367379, 'max_depth': 5, 'subsample': 0.34096583994461205, 'colsample_bytree': 0.13029085443073377, 'min_child_weight': 3}. Best is trial 105 with value: 0.7829152542372882.\n",
      "[I 2024-05-01 19:12:39,493] Trial 129 finished with value: 0.7563439672205851 and parameters: {'learning_rate': 0.04157865081410113, 'max_depth': 5, 'subsample': 0.37689824625625157, 'colsample_bytree': 0.08966530863456662, 'min_child_weight': 3}. Best is trial 105 with value: 0.7829152542372882.\n"
     ]
    },
    {
     "name": "stdout",
     "output_type": "stream",
     "text": [
      "Best hyperparameters: {'learning_rate': 0.042504200621122076, 'max_depth': 5, 'subsample': 0.3981140665749457, 'colsample_bytree': 0.19323995485714823, 'min_child_weight': 5}\n",
      "Best RMSE: 0.7829152542372882\n"
     ]
    }
   ],
   "source": [
    "import optuna\n",
    "\n",
    "def objective(trial):\n",
    "    params = {\n",
    "        \"n_estimators\": 1000,\n",
    "        \"verbosity\": 0,\n",
    "        \"learning_rate\": trial.suggest_float(\"learning_rate\", 1e-3, 0.1, log=True),\n",
    "        \"max_depth\": trial.suggest_int(\"max_depth\", 1, 10),\n",
    "        \"subsample\": trial.suggest_float(\"subsample\", 0.05, 1.0),\n",
    "        \"colsample_bytree\": trial.suggest_float(\"colsample_bytree\", 0.05, 1.0),\n",
    "        \"min_child_weight\": trial.suggest_int(\"min_child_weight\", 1, 20),\n",
    "    }\n",
    "\n",
    "    model = xgb.XGBClassifier(**params)\n",
    "    model.fit(X_train, y_train, verbose=False)\n",
    "    predictions = model.predict(X_test)\n",
    "    conf_matrix = multilabel_confusion_matrix(predictions, y_test)\n",
    "\n",
    "    acc_score = np.mean(bal_acc_score_conf_matrix(conf_matrix))\n",
    "    return acc_score\n",
    "\n",
    "study = optuna.create_study(direction='maximize')\n",
    "study.optimize(objective, n_trials=100)\n",
    "print('Best hyperparameters:', study.best_params)\n",
    "print('Best RMSE:', study.best_value)"
   ]
  },
  {
   "cell_type": "code",
   "execution_count": null,
   "id": "3fdf3181",
   "metadata": {},
   "outputs": [],
   "source": [
    "Best hyperparameters: {'learning_rate': 0.042504200621122076, 'max_depth': 5, 'subsample': 0.3981140665749457, 'colsample_bytree': 0.19323995485714823, 'min_child_weight': 5}"
   ]
  },
  {
   "cell_type": "code",
   "execution_count": 66,
   "id": "9575fa98",
   "metadata": {},
   "outputs": [
    {
     "data": {
      "text/html": [
       "<style>#sk-container-id-7 {color: black;}#sk-container-id-7 pre{padding: 0;}#sk-container-id-7 div.sk-toggleable {background-color: white;}#sk-container-id-7 label.sk-toggleable__label {cursor: pointer;display: block;width: 100%;margin-bottom: 0;padding: 0.3em;box-sizing: border-box;text-align: center;}#sk-container-id-7 label.sk-toggleable__label-arrow:before {content: \"▸\";float: left;margin-right: 0.25em;color: #696969;}#sk-container-id-7 label.sk-toggleable__label-arrow:hover:before {color: black;}#sk-container-id-7 div.sk-estimator:hover label.sk-toggleable__label-arrow:before {color: black;}#sk-container-id-7 div.sk-toggleable__content {max-height: 0;max-width: 0;overflow: hidden;text-align: left;background-color: #f0f8ff;}#sk-container-id-7 div.sk-toggleable__content pre {margin: 0.2em;color: black;border-radius: 0.25em;background-color: #f0f8ff;}#sk-container-id-7 input.sk-toggleable__control:checked~div.sk-toggleable__content {max-height: 200px;max-width: 100%;overflow: auto;}#sk-container-id-7 input.sk-toggleable__control:checked~label.sk-toggleable__label-arrow:before {content: \"▾\";}#sk-container-id-7 div.sk-estimator input.sk-toggleable__control:checked~label.sk-toggleable__label {background-color: #d4ebff;}#sk-container-id-7 div.sk-label input.sk-toggleable__control:checked~label.sk-toggleable__label {background-color: #d4ebff;}#sk-container-id-7 input.sk-hidden--visually {border: 0;clip: rect(1px 1px 1px 1px);clip: rect(1px, 1px, 1px, 1px);height: 1px;margin: -1px;overflow: hidden;padding: 0;position: absolute;width: 1px;}#sk-container-id-7 div.sk-estimator {font-family: monospace;background-color: #f0f8ff;border: 1px dotted black;border-radius: 0.25em;box-sizing: border-box;margin-bottom: 0.5em;}#sk-container-id-7 div.sk-estimator:hover {background-color: #d4ebff;}#sk-container-id-7 div.sk-parallel-item::after {content: \"\";width: 100%;border-bottom: 1px solid gray;flex-grow: 1;}#sk-container-id-7 div.sk-label:hover label.sk-toggleable__label {background-color: #d4ebff;}#sk-container-id-7 div.sk-serial::before {content: \"\";position: absolute;border-left: 1px solid gray;box-sizing: border-box;top: 0;bottom: 0;left: 50%;z-index: 0;}#sk-container-id-7 div.sk-serial {display: flex;flex-direction: column;align-items: center;background-color: white;padding-right: 0.2em;padding-left: 0.2em;position: relative;}#sk-container-id-7 div.sk-item {position: relative;z-index: 1;}#sk-container-id-7 div.sk-parallel {display: flex;align-items: stretch;justify-content: center;background-color: white;position: relative;}#sk-container-id-7 div.sk-item::before, #sk-container-id-7 div.sk-parallel-item::before {content: \"\";position: absolute;border-left: 1px solid gray;box-sizing: border-box;top: 0;bottom: 0;left: 50%;z-index: -1;}#sk-container-id-7 div.sk-parallel-item {display: flex;flex-direction: column;z-index: 1;position: relative;background-color: white;}#sk-container-id-7 div.sk-parallel-item:first-child::after {align-self: flex-end;width: 50%;}#sk-container-id-7 div.sk-parallel-item:last-child::after {align-self: flex-start;width: 50%;}#sk-container-id-7 div.sk-parallel-item:only-child::after {width: 0;}#sk-container-id-7 div.sk-dashed-wrapped {border: 1px dashed gray;margin: 0 0.4em 0.5em 0.4em;box-sizing: border-box;padding-bottom: 0.4em;background-color: white;}#sk-container-id-7 div.sk-label label {font-family: monospace;font-weight: bold;display: inline-block;line-height: 1.2em;}#sk-container-id-7 div.sk-label-container {text-align: center;}#sk-container-id-7 div.sk-container {/* jupyter's `normalize.less` sets `[hidden] { display: none; }` but bootstrap.min.css set `[hidden] { display: none !important; }` so we also need the `!important` here to be able to override the default hidden behavior on the sphinx rendered scikit-learn.org. See: https://github.com/scikit-learn/scikit-learn/issues/21755 */display: inline-block !important;position: relative;}#sk-container-id-7 div.sk-text-repr-fallback {display: none;}</style><div id=\"sk-container-id-7\" class=\"sk-top-container\"><div class=\"sk-text-repr-fallback\"><pre>XGBClassifier(base_score=None, booster=None, callbacks=None,\n",
       "              colsample_bylevel=None, colsample_bynode=None,\n",
       "              colsample_bytree=None, device=None, early_stopping_rounds=None,\n",
       "              enable_categorical=False, eval_metric=None, feature_types=None,\n",
       "              gamma=None, grow_policy=None, importance_type=None,\n",
       "              interaction_constraints=None, learning_rate=None, max_bin=None,\n",
       "              max_cat_threshold=None, max_cat_to_onehot=None,\n",
       "              max_delta_step=None, max_depth=None, max_leaves=None,\n",
       "              min_child_weight=None, missing=nan, monotone_constraints=None,\n",
       "              multi_strategy=None, n_estimators=1000, n_jobs=None,\n",
       "              num_parallel_tree=None, objective=&#x27;multi:softprob&#x27;, ...)</pre><b>In a Jupyter environment, please rerun this cell to show the HTML representation or trust the notebook. <br />On GitHub, the HTML representation is unable to render, please try loading this page with nbviewer.org.</b></div><div class=\"sk-container\" hidden><div class=\"sk-item\"><div class=\"sk-estimator sk-toggleable\"><input class=\"sk-toggleable__control sk-hidden--visually\" id=\"sk-estimator-id-7\" type=\"checkbox\" checked><label for=\"sk-estimator-id-7\" class=\"sk-toggleable__label sk-toggleable__label-arrow\">XGBClassifier</label><div class=\"sk-toggleable__content\"><pre>XGBClassifier(base_score=None, booster=None, callbacks=None,\n",
       "              colsample_bylevel=None, colsample_bynode=None,\n",
       "              colsample_bytree=None, device=None, early_stopping_rounds=None,\n",
       "              enable_categorical=False, eval_metric=None, feature_types=None,\n",
       "              gamma=None, grow_policy=None, importance_type=None,\n",
       "              interaction_constraints=None, learning_rate=None, max_bin=None,\n",
       "              max_cat_threshold=None, max_cat_to_onehot=None,\n",
       "              max_delta_step=None, max_depth=None, max_leaves=None,\n",
       "              min_child_weight=None, missing=nan, monotone_constraints=None,\n",
       "              multi_strategy=None, n_estimators=1000, n_jobs=None,\n",
       "              num_parallel_tree=None, objective=&#x27;multi:softprob&#x27;, ...)</pre></div></div></div></div></div>"
      ],
      "text/plain": [
       "XGBClassifier(base_score=None, booster=None, callbacks=None,\n",
       "              colsample_bylevel=None, colsample_bynode=None,\n",
       "              colsample_bytree=None, device=None, early_stopping_rounds=None,\n",
       "              enable_categorical=False, eval_metric=None, feature_types=None,\n",
       "              gamma=None, grow_policy=None, importance_type=None,\n",
       "              interaction_constraints=None, learning_rate=None, max_bin=None,\n",
       "              max_cat_threshold=None, max_cat_to_onehot=None,\n",
       "              max_delta_step=None, max_depth=None, max_leaves=None,\n",
       "              min_child_weight=None, missing=nan, monotone_constraints=None,\n",
       "              multi_strategy=None, n_estimators=1000, n_jobs=None,\n",
       "              num_parallel_tree=None, objective='multi:softprob', ...)"
      ]
     },
     "execution_count": 66,
     "metadata": {},
     "output_type": "execute_result"
    }
   ],
   "source": [
    "clf_path = xgb.XGBClassifier(n_estimators=1000)\n",
    "clf_path.fit(X_train, y_train.values)"
   ]
  },
  {
   "cell_type": "code",
   "execution_count": 67,
   "id": "e8b3f9ba",
   "metadata": {},
   "outputs": [
    {
     "data": {
      "text/plain": [
       "<Axes: title={'center': 'Feature importance'}, xlabel='F score', ylabel='Features'>"
      ]
     },
     "execution_count": 67,
     "metadata": {},
     "output_type": "execute_result"
    },
    {
     "data": {
      "image/png": "[encoded data removed]",
      "text/plain": [
       "<Figure size 640x480 with 1 Axes>"
      ]
     },
     "metadata": {},
     "output_type": "display_data"
    }
   ],
   "source": [
    "import xgboost as xgb \n",
    "xgb.plot_importance(clf_path, max_num_features=10)"
   ]
  },
  {
   "cell_type": "code",
   "execution_count": 68,
   "id": "887b21ad",
   "metadata": {},
   "outputs": [
    {
     "name": "stdout",
     "output_type": "stream",
     "text": [
      "[0.5        0.4        0.33333333 0.46153846 0.82926829]\n",
      "[0.66343826 0.72407045 0.61660079 0.63557994 0.90638481]\n"
     ]
    }
   ],
   "source": [
    "pred = clf_path.predict(X_test)\n",
    "\n",
    "conf_matrix = multilabel_confusion_matrix(pred, y_test.values)\n",
    "\n",
    "print(F1_score_conf_matrix(conf_matrix))\n",
    "print(bal_acc_score_conf_matrix(conf_matrix))"
   ]
  },
  {
   "cell_type": "code",
   "execution_count": 229,
   "id": "0e2daea9",
   "metadata": {},
   "outputs": [
    {
     "data": {
      "text/plain": [
       "array([4, 0, 2, 0, 0, 1, 3, 3, 4, 1, 4, 1, 3, 0, 3, 1, 0, 0, 2, 2, 2, 4,\n",
       "       3, 4, 4, 4, 1, 3, 4, 0, 4, 2, 0, 4, 3, 4, 3, 3, 2, 0, 0, 3, 3, 1,\n",
       "       3, 4, 4, 4, 4, 2, 4, 2, 3, 4, 3, 3, 2, 4, 0, 4, 0, 0, 0, 0, 1, 0,\n",
       "       3, 0, 0, 3, 0, 0, 4, 2, 4, 1, 4, 1, 4, 0])"
      ]
     },
     "execution_count": 229,
     "metadata": {},
     "output_type": "execute_result"
    }
   ],
   "source": [
    "pred"
   ]
  },
  {
   "cell_type": "code",
   "execution_count": 149,
   "id": "8b903059",
   "metadata": {},
   "outputs": [],
   "source": [
    "file_name = \"clf_path.pkl\"\n",
    "\n",
    "# save\n",
    "pickle.dump(\"clf_path.pkl\", open(file_name, \"wb\"))"
   ]
  },
  {
   "cell_type": "markdown",
   "id": "b2820407",
   "metadata": {},
   "source": [
    "# Activity recognition"
   ]
  },
  {
   "cell_type": "markdown",
   "id": "71e2e2cc",
   "metadata": {},
   "source": [
    "Activities recognition (classification): accelerometer, gyroscope data, 50% overlap window, on windows of around 60 seconds. Classification with XGBOOST after aggregating features\n",
    "* Most are kind of same length"
   ]
  },
  {
   "cell_type": "code",
   "execution_count": 21,
   "id": "bd3eeef6",
   "metadata": {},
   "outputs": [
    {
     "name": "stdout",
     "output_type": "stream",
     "text": [
      "Processed 9 examples\n",
      "Processed 19 examples\n",
      "Processed 29 examples\n",
      "Processed 39 examples\n",
      "Processed 49 examples\n",
      "Processed 59 examples\n",
      "Processed 69 examples\n",
      "Processed 79 examples\n",
      "Processed 89 examples\n",
      "Processed 99 examples\n",
      "Processed 109 examples\n",
      "Processed 119 examples\n",
      "Processed 129 examples\n",
      "Processed 139 examples\n",
      "Processed 149 examples\n",
      "Processed 159 examples\n",
      "Processed 169 examples\n",
      "Processed 179 examples\n",
      "Processed 189 examples\n",
      "Processed 199 examples\n",
      "Processed 209 examples\n",
      "Processed 219 examples\n",
      "Processed 229 examples\n",
      "Processed 239 examples\n",
      "Processed 249 examples\n",
      "Processed 259 examples\n",
      "Processed 269 examples\n",
      "Processed 279 examples\n",
      "Processed 289 examples\n",
      "Processed 299 examples\n",
      "Processed 309 examples\n",
      "Processed 319 examples\n",
      "Processed 329 examples\n",
      "Processed 339 examples\n",
      "Processed 349 examples\n",
      "Processed 359 examples\n",
      "Processed 369 examples\n",
      "Processed 379 examples\n",
      "Processed 389 examples\n"
     ]
    }
   ],
   "source": [
    "path = \"data/train/\"\n",
    "df = get_data(path, wind_length_s = 60, wind_overlap_per = 0.5)\n",
    "steps = df.groupby('Sample').max()[[\"Steps\"]]"
   ]
  },
  {
   "cell_type": "code",
   "execution_count": 26,
   "id": "e49e4c49",
   "metadata": {},
   "outputs": [],
   "source": [
    "# Get labels\n",
    "labels = df.groupby('Sample').sum()[[\"STANDING\", \"WALKING\",\t\"RUNNING\",\t\"CYCLING\"]]\n",
    "labels[labels >= 1] = 1"
   ]
  },
  {
   "cell_type": "code",
   "execution_count": 27,
   "id": "73950f01",
   "metadata": {},
   "outputs": [],
   "source": [
    "# Drop not used features\n",
    "df_filt = df.drop([\"Frequency\", \"path_idx\", \"watch_loc\", \"Steps\", \"Length\", \"STANDING\", \"Timestamps\",\t\"WALKING\",\t\"RUNNING\",\t\"CYCLING\"], axis=1)"
   ]
  },
  {
   "cell_type": "code",
   "execution_count": 28,
   "id": "a24b6741",
   "metadata": {},
   "outputs": [],
   "source": [
    "df_features_samples = features_per_sample(df_filt)"
   ]
  },
  {
   "cell_type": "code",
   "execution_count": 29,
   "id": "67f3be4b",
   "metadata": {},
   "outputs": [],
   "source": [
    "df_final =  pd.concat([df_features_samples, labels[['STANDING', 'WALKING', 'RUNNING', 'CYCLING']], steps[[\"Steps\"]]], axis=1)"
   ]
  },
  {
   "cell_type": "code",
   "execution_count": 30,
   "id": "8c2c06b8",
   "metadata": {},
   "outputs": [],
   "source": [
    "train, test = train_test_split(df_final, test_size=0.2, shuffle=False)\n",
    "train = train.reset_index(drop=True)\n",
    "test = test.reset_index(drop=True)\n",
    "\n",
    "X_train = train.drop(['STANDING', 'WALKING', 'RUNNING', 'CYCLING'], axis =1)\n",
    "y_train = train[['STANDING', 'WALKING', 'RUNNING', 'CYCLING']]\n",
    "X_test = test.drop(['STANDING', 'WALKING', 'RUNNING', 'CYCLING'], axis =1)\n",
    "y_test = test[['STANDING', 'WALKING', 'RUNNING', 'CYCLING']]"
   ]
  },
  {
   "cell_type": "code",
   "execution_count": 31,
   "id": "dc63e139",
   "metadata": {},
   "outputs": [
    {
     "name": "stderr",
     "output_type": "stream",
     "text": [
      "[I 2024-05-01 16:13:18,002] A new study created in memory with name: no-name-be5b1714-2e5f-4e1d-a2f9-099511a16ec8\n",
      "/tmp/ipykernel_162006/1634723069.py:10: RuntimeWarning: invalid value encountered in scalar divide\n",
      "  bal_ac_per_class[i] = ((matrix[1][1])/(matrix[1][1] + matrix[1][0]) + (matrix[0][0])/(matrix[0][0] + matrix[0][1]))/2\n",
      "[W 2024-05-01 16:13:22,163] Trial 0 failed with parameters: {'learning_rate': 0.0011756867772130214, 'max_depth': 10, 'subsample': 0.10091607094206562, 'colsample_bytree': 0.1570073618375117, 'min_child_weight': 11} because of the following error: The value nan is not acceptable.\n",
      "[W 2024-05-01 16:13:22,163] Trial 0 failed with value nan.\n",
      "/tmp/ipykernel_162006/1634723069.py:10: RuntimeWarning: invalid value encountered in scalar divide\n",
      "  bal_ac_per_class[i] = ((matrix[1][1])/(matrix[1][1] + matrix[1][0]) + (matrix[0][0])/(matrix[0][0] + matrix[0][1]))/2\n",
      "[W 2024-05-01 16:13:25,834] Trial 1 failed with parameters: {'learning_rate': 0.009360998924042617, 'max_depth': 4, 'subsample': 0.28282244618114977, 'colsample_bytree': 0.5864900691161351, 'min_child_weight': 19} because of the following error: The value nan is not acceptable.\n",
      "[W 2024-05-01 16:13:25,834] Trial 1 failed with value nan.\n",
      "/tmp/ipykernel_162006/1634723069.py:10: RuntimeWarning: invalid value encountered in scalar divide\n",
      "  bal_ac_per_class[i] = ((matrix[1][1])/(matrix[1][1] + matrix[1][0]) + (matrix[0][0])/(matrix[0][0] + matrix[0][1]))/2\n",
      "[W 2024-05-01 16:13:29,444] Trial 2 failed with parameters: {'learning_rate': 0.013347792121175628, 'max_depth': 1, 'subsample': 0.05811690893053027, 'colsample_bytree': 0.5707824567791464, 'min_child_weight': 6} because of the following error: The value nan is not acceptable.\n",
      "[W 2024-05-01 16:13:29,445] Trial 2 failed with value nan.\n",
      "/tmp/ipykernel_162006/1634723069.py:10: RuntimeWarning: invalid value encountered in scalar divide\n",
      "  bal_ac_per_class[i] = ((matrix[1][1])/(matrix[1][1] + matrix[1][0]) + (matrix[0][0])/(matrix[0][0] + matrix[0][1]))/2\n",
      "[W 2024-05-01 16:13:34,489] Trial 3 failed with parameters: {'learning_rate': 0.0025990053851011503, 'max_depth': 8, 'subsample': 0.7012960584052035, 'colsample_bytree': 0.08632352381694408, 'min_child_weight': 14} because of the following error: The value nan is not acceptable.\n",
      "[W 2024-05-01 16:13:34,489] Trial 3 failed with value nan.\n",
      "/tmp/ipykernel_162006/1634723069.py:10: RuntimeWarning: invalid value encountered in scalar divide\n",
      "  bal_ac_per_class[i] = ((matrix[1][1])/(matrix[1][1] + matrix[1][0]) + (matrix[0][0])/(matrix[0][0] + matrix[0][1]))/2\n",
      "[W 2024-05-01 16:13:38,420] Trial 4 failed with parameters: {'learning_rate': 0.0227758341514404, 'max_depth': 4, 'subsample': 0.9748867456073411, 'colsample_bytree': 0.6377660800546461, 'min_child_weight': 19} because of the following error: The value nan is not acceptable.\n",
      "[W 2024-05-01 16:13:38,421] Trial 4 failed with value nan.\n",
      "/tmp/ipykernel_162006/1634723069.py:10: RuntimeWarning: invalid value encountered in scalar divide\n",
      "  bal_ac_per_class[i] = ((matrix[1][1])/(matrix[1][1] + matrix[1][0]) + (matrix[0][0])/(matrix[0][0] + matrix[0][1]))/2\n",
      "[W 2024-05-01 16:13:41,979] Trial 5 failed with parameters: {'learning_rate': 0.016939608445587978, 'max_depth': 5, 'subsample': 0.3413815962219103, 'colsample_bytree': 0.6047336904072407, 'min_child_weight': 20} because of the following error: The value nan is not acceptable.\n",
      "[W 2024-05-01 16:13:41,980] Trial 5 failed with value nan.\n",
      "[I 2024-05-01 16:13:46,788] Trial 6 finished with value: 0.9624227695137964 and parameters: {'learning_rate': 0.07326919272246263, 'max_depth': 2, 'subsample': 0.9316809575933169, 'colsample_bytree': 0.9040691449824104, 'min_child_weight': 3}. Best is trial 6 with value: 0.9624227695137964.\n",
      "/tmp/ipykernel_162006/1634723069.py:10: RuntimeWarning: invalid value encountered in scalar divide\n",
      "  bal_ac_per_class[i] = ((matrix[1][1])/(matrix[1][1] + matrix[1][0]) + (matrix[0][0])/(matrix[0][0] + matrix[0][1]))/2\n",
      "[W 2024-05-01 16:14:12,002] Trial 7 failed with parameters: {'learning_rate': 0.0018199099429402348, 'max_depth': 7, 'subsample': 0.7090146383032038, 'colsample_bytree': 0.41194526666536524, 'min_child_weight': 1} because of the following error: The value nan is not acceptable.\n",
      "[W 2024-05-01 16:14:12,002] Trial 7 failed with value nan.\n",
      "/tmp/ipykernel_162006/1634723069.py:10: RuntimeWarning: invalid value encountered in scalar divide\n",
      "  bal_ac_per_class[i] = ((matrix[1][1])/(matrix[1][1] + matrix[1][0]) + (matrix[0][0])/(matrix[0][0] + matrix[0][1]))/2\n",
      "[W 2024-05-01 16:14:16,209] Trial 8 failed with parameters: {'learning_rate': 0.01300097097218544, 'max_depth': 5, 'subsample': 0.26459899828491595, 'colsample_bytree': 0.39462137075717635, 'min_child_weight': 5} because of the following error: The value nan is not acceptable.\n",
      "[W 2024-05-01 16:14:16,210] Trial 8 failed with value nan.\n",
      "[I 2024-05-01 16:14:21,402] Trial 9 finished with value: 0.9819922411380625 and parameters: {'learning_rate': 0.04150589953711549, 'max_depth': 2, 'subsample': 0.8845487856365819, 'colsample_bytree': 0.7264307517298395, 'min_child_weight': 1}. Best is trial 9 with value: 0.9819922411380625.\n",
      "/tmp/ipykernel_162006/1634723069.py:10: RuntimeWarning: invalid value encountered in scalar divide\n",
      "  bal_ac_per_class[i] = ((matrix[1][1])/(matrix[1][1] + matrix[1][0]) + (matrix[0][0])/(matrix[0][0] + matrix[0][1]))/2\n",
      "[W 2024-05-01 16:14:24,827] Trial 10 failed with parameters: {'learning_rate': 0.009321759196197169, 'max_depth': 9, 'subsample': 0.6464624573424652, 'colsample_bytree': 0.2606421283875171, 'min_child_weight': 15} because of the following error: The value nan is not acceptable.\n",
      "[W 2024-05-01 16:14:24,829] Trial 10 failed with value nan.\n",
      "/tmp/ipykernel_162006/1634723069.py:10: RuntimeWarning: invalid value encountered in scalar divide\n",
      "  bal_ac_per_class[i] = ((matrix[1][1])/(matrix[1][1] + matrix[1][0]) + (matrix[0][0])/(matrix[0][0] + matrix[0][1]))/2\n",
      "[W 2024-05-01 16:14:28,120] Trial 11 failed with parameters: {'learning_rate': 0.0036302436052339294, 'max_depth': 10, 'subsample': 0.3105629891497737, 'colsample_bytree': 0.630489280880708, 'min_child_weight': 14} because of the following error: The value nan is not acceptable.\n",
      "[W 2024-05-01 16:14:28,121] Trial 11 failed with value nan.\n",
      "/tmp/ipykernel_162006/1634723069.py:10: RuntimeWarning: invalid value encountered in scalar divide\n",
      "  bal_ac_per_class[i] = ((matrix[1][1])/(matrix[1][1] + matrix[1][0]) + (matrix[0][0])/(matrix[0][0] + matrix[0][1]))/2\n",
      "[W 2024-05-01 16:14:34,445] Trial 12 failed with parameters: {'learning_rate': 0.004847005608933897, 'max_depth': 10, 'subsample': 0.40920377619510795, 'colsample_bytree': 0.5183053990721067, 'min_child_weight': 5} because of the following error: The value nan is not acceptable.\n",
      "[W 2024-05-01 16:14:34,446] Trial 12 failed with value nan.\n",
      "/tmp/ipykernel_162006/1634723069.py:10: RuntimeWarning: invalid value encountered in scalar divide\n",
      "  bal_ac_per_class[i] = ((matrix[1][1])/(matrix[1][1] + matrix[1][0]) + (matrix[0][0])/(matrix[0][0] + matrix[0][1]))/2\n",
      "[W 2024-05-01 16:14:37,351] Trial 13 failed with parameters: {'learning_rate': 0.009651786461480408, 'max_depth': 5, 'subsample': 0.24089439240905913, 'colsample_bytree': 0.13478457475957462, 'min_child_weight': 12} because of the following error: The value nan is not acceptable.\n",
      "[W 2024-05-01 16:14:37,352] Trial 13 failed with value nan.\n",
      "/tmp/ipykernel_162006/1634723069.py:10: RuntimeWarning: invalid value encountered in scalar divide\n",
      "  bal_ac_per_class[i] = ((matrix[1][1])/(matrix[1][1] + matrix[1][0]) + (matrix[0][0])/(matrix[0][0] + matrix[0][1]))/2\n",
      "[W 2024-05-01 16:14:40,534] Trial 14 failed with parameters: {'learning_rate': 0.004853159514666986, 'max_depth': 1, 'subsample': 0.8230130949008115, 'colsample_bytree': 0.22648144740771875, 'min_child_weight': 12} because of the following error: The value nan is not acceptable.\n",
      "[W 2024-05-01 16:14:40,535] Trial 14 failed with value nan.\n",
      "/tmp/ipykernel_162006/1634723069.py:10: RuntimeWarning: invalid value encountered in scalar divide\n",
      "  bal_ac_per_class[i] = ((matrix[1][1])/(matrix[1][1] + matrix[1][0]) + (matrix[0][0])/(matrix[0][0] + matrix[0][1]))/2\n",
      "[W 2024-05-01 16:14:45,809] Trial 15 failed with parameters: {'learning_rate': 0.0023178409406853532, 'max_depth': 5, 'subsample': 0.33619721000860464, 'colsample_bytree': 0.3014530535398639, 'min_child_weight': 7} because of the following error: The value nan is not acceptable.\n",
      "[W 2024-05-01 16:14:45,810] Trial 15 failed with value nan.\n",
      "[I 2024-05-01 16:14:50,139] Trial 16 finished with value: 0.9663196764500869 and parameters: {'learning_rate': 0.06787898301924812, 'max_depth': 5, 'subsample': 0.3715893702943856, 'colsample_bytree': 0.8157692453030915, 'min_child_weight': 2}. Best is trial 9 with value: 0.9819922411380625.\n",
      "/tmp/ipykernel_162006/1634723069.py:10: RuntimeWarning: invalid value encountered in scalar divide\n",
      "  bal_ac_per_class[i] = ((matrix[1][1])/(matrix[1][1] + matrix[1][0]) + (matrix[0][0])/(matrix[0][0] + matrix[0][1]))/2\n",
      "[W 2024-05-01 16:14:54,971] Trial 17 failed with parameters: {'learning_rate': 0.006425830759790744, 'max_depth': 5, 'subsample': 0.4744486297312678, 'colsample_bytree': 0.47745786190559497, 'min_child_weight': 8} because of the following error: The value nan is not acceptable.\n",
      "[W 2024-05-01 16:14:54,972] Trial 17 failed with value nan.\n",
      "/tmp/ipykernel_162006/1634723069.py:10: RuntimeWarning: invalid value encountered in scalar divide\n",
      "  bal_ac_per_class[i] = ((matrix[1][1])/(matrix[1][1] + matrix[1][0]) + (matrix[0][0])/(matrix[0][0] + matrix[0][1]))/2\n",
      "[W 2024-05-01 16:14:58,834] Trial 18 failed with parameters: {'learning_rate': 0.0411467508195063, 'max_depth': 1, 'subsample': 0.5273101320671618, 'colsample_bytree': 0.8948899195097835, 'min_child_weight': 8} because of the following error: The value nan is not acceptable.\n",
      "[W 2024-05-01 16:14:58,835] Trial 18 failed with value nan.\n",
      "/tmp/ipykernel_162006/1634723069.py:10: RuntimeWarning: invalid value encountered in scalar divide\n",
      "  bal_ac_per_class[i] = ((matrix[1][1])/(matrix[1][1] + matrix[1][0]) + (matrix[0][0])/(matrix[0][0] + matrix[0][1]))/2\n",
      "[W 2024-05-01 16:15:02,491] Trial 19 failed with parameters: {'learning_rate': 0.021340237293139958, 'max_depth': 8, 'subsample': 0.31128815874304, 'colsample_bytree': 0.5059304556926113, 'min_child_weight': 6} because of the following error: The value nan is not acceptable.\n",
      "[W 2024-05-01 16:15:02,492] Trial 19 failed with value nan.\n",
      "/tmp/ipykernel_162006/1634723069.py:10: RuntimeWarning: invalid value encountered in scalar divide\n",
      "  bal_ac_per_class[i] = ((matrix[1][1])/(matrix[1][1] + matrix[1][0]) + (matrix[0][0])/(matrix[0][0] + matrix[0][1]))/2\n",
      "[W 2024-05-01 16:15:06,809] Trial 20 failed with parameters: {'learning_rate': 0.0028013832958845987, 'max_depth': 5, 'subsample': 0.7278842198305142, 'colsample_bytree': 0.49205135974165487, 'min_child_weight': 18} because of the following error: The value nan is not acceptable.\n",
      "[W 2024-05-01 16:15:06,809] Trial 20 failed with value nan.\n",
      "/tmp/ipykernel_162006/1634723069.py:10: RuntimeWarning: invalid value encountered in scalar divide\n",
      "  bal_ac_per_class[i] = ((matrix[1][1])/(matrix[1][1] + matrix[1][0]) + (matrix[0][0])/(matrix[0][0] + matrix[0][1]))/2\n",
      "[W 2024-05-01 16:15:10,727] Trial 21 failed with parameters: {'learning_rate': 0.05807972503504131, 'max_depth': 6, 'subsample': 0.9118940624642256, 'colsample_bytree': 0.5368944859391561, 'min_child_weight': 14} because of the following error: The value nan is not acceptable.\n",
      "[W 2024-05-01 16:15:10,728] Trial 21 failed with value nan.\n",
      "[I 2024-05-01 16:15:17,468] Trial 22 finished with value: 0.9642875713785982 and parameters: {'learning_rate': 0.016027276426200082, 'max_depth': 3, 'subsample': 0.9996855500618753, 'colsample_bytree': 0.6072174115600768, 'min_child_weight': 4}. Best is trial 9 with value: 0.9819922411380625.\n",
      "/tmp/ipykernel_162006/1634723069.py:10: RuntimeWarning: invalid value encountered in scalar divide\n",
      "  bal_ac_per_class[i] = ((matrix[1][1])/(matrix[1][1] + matrix[1][0]) + (matrix[0][0])/(matrix[0][0] + matrix[0][1]))/2\n",
      "[W 2024-05-01 16:15:20,586] Trial 23 failed with parameters: {'learning_rate': 0.013827479553858352, 'max_depth': 8, 'subsample': 0.44950794680981876, 'colsample_bytree': 0.3989359018997871, 'min_child_weight': 19} because of the following error: The value nan is not acceptable.\n",
      "[W 2024-05-01 16:15:20,586] Trial 23 failed with value nan.\n",
      "/tmp/ipykernel_162006/1634723069.py:10: RuntimeWarning: invalid value encountered in scalar divide\n",
      "  bal_ac_per_class[i] = ((matrix[1][1])/(matrix[1][1] + matrix[1][0]) + (matrix[0][0])/(matrix[0][0] + matrix[0][1]))/2\n",
      "[W 2024-05-01 16:15:24,086] Trial 24 failed with parameters: {'learning_rate': 0.0038855850326139224, 'max_depth': 5, 'subsample': 0.19098423955216826, 'colsample_bytree': 0.4087720196917184, 'min_child_weight': 8} because of the following error: The value nan is not acceptable.\n",
      "[W 2024-05-01 16:15:24,087] Trial 24 failed with value nan.\n",
      "/tmp/ipykernel_162006/1634723069.py:10: RuntimeWarning: invalid value encountered in scalar divide\n",
      "  bal_ac_per_class[i] = ((matrix[1][1])/(matrix[1][1] + matrix[1][0]) + (matrix[0][0])/(matrix[0][0] + matrix[0][1]))/2\n",
      "[W 2024-05-01 16:15:28,848] Trial 25 failed with parameters: {'learning_rate': 0.005026303882730607, 'max_depth': 5, 'subsample': 0.9755888254230136, 'colsample_bytree': 0.5282565418924957, 'min_child_weight': 18} because of the following error: The value nan is not acceptable.\n",
      "[W 2024-05-01 16:15:28,848] Trial 25 failed with value nan.\n",
      "[I 2024-05-01 16:15:33,325] Trial 26 finished with value: 0.9624227695137964 and parameters: {'learning_rate': 0.01133985639906611, 'max_depth': 2, 'subsample': 0.7421338736633499, 'colsample_bytree': 0.22938557671958332, 'min_child_weight': 5}. Best is trial 9 with value: 0.9819922411380625.\n",
      "/tmp/ipykernel_162006/1634723069.py:10: RuntimeWarning: invalid value encountered in scalar divide\n",
      "  bal_ac_per_class[i] = ((matrix[1][1])/(matrix[1][1] + matrix[1][0]) + (matrix[0][0])/(matrix[0][0] + matrix[0][1]))/2\n",
      "[W 2024-05-01 16:15:37,059] Trial 27 failed with parameters: {'learning_rate': 0.006220399684306845, 'max_depth': 5, 'subsample': 0.0701881583489603, 'colsample_bytree': 0.7841066367331705, 'min_child_weight': 16} because of the following error: The value nan is not acceptable.\n",
      "[W 2024-05-01 16:15:37,060] Trial 27 failed with value nan.\n",
      "/tmp/ipykernel_162006/1634723069.py:10: RuntimeWarning: invalid value encountered in scalar divide\n",
      "  bal_ac_per_class[i] = ((matrix[1][1])/(matrix[1][1] + matrix[1][0]) + (matrix[0][0])/(matrix[0][0] + matrix[0][1]))/2\n",
      "[W 2024-05-01 16:15:44,000] Trial 28 failed with parameters: {'learning_rate': 0.004562447541302926, 'max_depth': 7, 'subsample': 0.3945712334826242, 'colsample_bytree': 0.9513078062413782, 'min_child_weight': 5} because of the following error: The value nan is not acceptable.\n",
      "[W 2024-05-01 16:15:44,001] Trial 28 failed with value nan.\n",
      "/tmp/ipykernel_162006/1634723069.py:10: RuntimeWarning: invalid value encountered in scalar divide\n",
      "  bal_ac_per_class[i] = ((matrix[1][1])/(matrix[1][1] + matrix[1][0]) + (matrix[0][0])/(matrix[0][0] + matrix[0][1]))/2\n",
      "[W 2024-05-01 16:15:46,974] Trial 29 failed with parameters: {'learning_rate': 0.014881822176392254, 'max_depth': 1, 'subsample': 0.22967561275071685, 'colsample_bytree': 0.19246888650805288, 'min_child_weight': 9} because of the following error: The value nan is not acceptable.\n",
      "[W 2024-05-01 16:15:46,975] Trial 29 failed with value nan.\n"
     ]
    },
    {
     "name": "stdout",
     "output_type": "stream",
     "text": [
      "Best hyperparameters: {'learning_rate': 0.04150589953711549, 'max_depth': 2, 'subsample': 0.8845487856365819, 'colsample_bytree': 0.7264307517298395, 'min_child_weight': 1}\n",
      "Best RMSE: 0.9819922411380625\n"
     ]
    }
   ],
   "source": [
    "import optuna\n",
    "\n",
    "def objective(trial):\n",
    "    params = {\n",
    "        \"n_estimators\": 1000,\n",
    "        \"verbosity\": 0,\n",
    "        \"learning_rate\": trial.suggest_float(\"learning_rate\", 1e-3, 0.1, log=True),\n",
    "        \"max_depth\": trial.suggest_int(\"max_depth\", 1, 10),\n",
    "        \"subsample\": trial.suggest_float(\"subsample\", 0.05, 1.0),\n",
    "        \"colsample_bytree\": trial.suggest_float(\"colsample_bytree\", 0.05, 1.0),\n",
    "        \"min_child_weight\": trial.suggest_int(\"min_child_weight\", 1, 20),\n",
    "    }\n",
    "\n",
    "    model = xgb.XGBClassifier(**params)\n",
    "    model.fit(X_train, y_train, verbose=False)\n",
    "    predictions = model.predict(X_test)\n",
    "    conf_matrix = multilabel_confusion_matrix(predictions, y_test)\n",
    "\n",
    "    acc_score = np.mean(bal_acc_score_conf_matrix(conf_matrix))\n",
    "    return acc_score\n",
    "\n",
    "study = optuna.create_study(direction='maximize')\n",
    "study.optimize(objective, n_trials=30)\n",
    "print('Best hyperparameters:', study.best_params)\n",
    "print('Best RMSE:', study.best_value)"
   ]
  },
  {
   "cell_type": "code",
   "execution_count": 48,
   "id": "9f1c0ab6",
   "metadata": {},
   "outputs": [
    {
     "data": {
      "text/html": [
       "<style>#sk-container-id-5 {color: black;}#sk-container-id-5 pre{padding: 0;}#sk-container-id-5 div.sk-toggleable {background-color: white;}#sk-container-id-5 label.sk-toggleable__label {cursor: pointer;display: block;width: 100%;margin-bottom: 0;padding: 0.3em;box-sizing: border-box;text-align: center;}#sk-container-id-5 label.sk-toggleable__label-arrow:before {content: \"▸\";float: left;margin-right: 0.25em;color: #696969;}#sk-container-id-5 label.sk-toggleable__label-arrow:hover:before {color: black;}#sk-container-id-5 div.sk-estimator:hover label.sk-toggleable__label-arrow:before {color: black;}#sk-container-id-5 div.sk-toggleable__content {max-height: 0;max-width: 0;overflow: hidden;text-align: left;background-color: #f0f8ff;}#sk-container-id-5 div.sk-toggleable__content pre {margin: 0.2em;color: black;border-radius: 0.25em;background-color: #f0f8ff;}#sk-container-id-5 input.sk-toggleable__control:checked~div.sk-toggleable__content {max-height: 200px;max-width: 100%;overflow: auto;}#sk-container-id-5 input.sk-toggleable__control:checked~label.sk-toggleable__label-arrow:before {content: \"▾\";}#sk-container-id-5 div.sk-estimator input.sk-toggleable__control:checked~label.sk-toggleable__label {background-color: #d4ebff;}#sk-container-id-5 div.sk-label input.sk-toggleable__control:checked~label.sk-toggleable__label {background-color: #d4ebff;}#sk-container-id-5 input.sk-hidden--visually {border: 0;clip: rect(1px 1px 1px 1px);clip: rect(1px, 1px, 1px, 1px);height: 1px;margin: -1px;overflow: hidden;padding: 0;position: absolute;width: 1px;}#sk-container-id-5 div.sk-estimator {font-family: monospace;background-color: #f0f8ff;border: 1px dotted black;border-radius: 0.25em;box-sizing: border-box;margin-bottom: 0.5em;}#sk-container-id-5 div.sk-estimator:hover {background-color: #d4ebff;}#sk-container-id-5 div.sk-parallel-item::after {content: \"\";width: 100%;border-bottom: 1px solid gray;flex-grow: 1;}#sk-container-id-5 div.sk-label:hover label.sk-toggleable__label {background-color: #d4ebff;}#sk-container-id-5 div.sk-serial::before {content: \"\";position: absolute;border-left: 1px solid gray;box-sizing: border-box;top: 0;bottom: 0;left: 50%;z-index: 0;}#sk-container-id-5 div.sk-serial {display: flex;flex-direction: column;align-items: center;background-color: white;padding-right: 0.2em;padding-left: 0.2em;position: relative;}#sk-container-id-5 div.sk-item {position: relative;z-index: 1;}#sk-container-id-5 div.sk-parallel {display: flex;align-items: stretch;justify-content: center;background-color: white;position: relative;}#sk-container-id-5 div.sk-item::before, #sk-container-id-5 div.sk-parallel-item::before {content: \"\";position: absolute;border-left: 1px solid gray;box-sizing: border-box;top: 0;bottom: 0;left: 50%;z-index: -1;}#sk-container-id-5 div.sk-parallel-item {display: flex;flex-direction: column;z-index: 1;position: relative;background-color: white;}#sk-container-id-5 div.sk-parallel-item:first-child::after {align-self: flex-end;width: 50%;}#sk-container-id-5 div.sk-parallel-item:last-child::after {align-self: flex-start;width: 50%;}#sk-container-id-5 div.sk-parallel-item:only-child::after {width: 0;}#sk-container-id-5 div.sk-dashed-wrapped {border: 1px dashed gray;margin: 0 0.4em 0.5em 0.4em;box-sizing: border-box;padding-bottom: 0.4em;background-color: white;}#sk-container-id-5 div.sk-label label {font-family: monospace;font-weight: bold;display: inline-block;line-height: 1.2em;}#sk-container-id-5 div.sk-label-container {text-align: center;}#sk-container-id-5 div.sk-container {/* jupyter's `normalize.less` sets `[hidden] { display: none; }` but bootstrap.min.css set `[hidden] { display: none !important; }` so we also need the `!important` here to be able to override the default hidden behavior on the sphinx rendered scikit-learn.org. See: https://github.com/scikit-learn/scikit-learn/issues/21755 */display: inline-block !important;position: relative;}#sk-container-id-5 div.sk-text-repr-fallback {display: none;}</style><div id=\"sk-container-id-5\" class=\"sk-top-container\"><div class=\"sk-text-repr-fallback\"><pre>XGBClassifier(base_score=None, booster=None, callbacks=None,\n",
       "              colsample_bylevel=None, colsample_bynode=None,\n",
       "              colsample_bytree=None, device=None, early_stopping_rounds=None,\n",
       "              enable_categorical=False, eval_metric=None, feature_types=None,\n",
       "              gamma=None, grow_policy=None, importance_type=None,\n",
       "              interaction_constraints=None, learning_rate=None, max_bin=None,\n",
       "              max_cat_threshold=None, max_cat_to_onehot=None,\n",
       "              max_delta_step=None, max_depth=None, max_leaves=None,\n",
       "              min_child_weight=None, missing=nan, monotone_constraints=None,\n",
       "              multi_strategy=None, n_estimators=1000, n_jobs=None,\n",
       "              num_parallel_tree=None, random_state=None, ...)</pre><b>In a Jupyter environment, please rerun this cell to show the HTML representation or trust the notebook. <br />On GitHub, the HTML representation is unable to render, please try loading this page with nbviewer.org.</b></div><div class=\"sk-container\" hidden><div class=\"sk-item\"><div class=\"sk-estimator sk-toggleable\"><input class=\"sk-toggleable__control sk-hidden--visually\" id=\"sk-estimator-id-5\" type=\"checkbox\" checked><label for=\"sk-estimator-id-5\" class=\"sk-toggleable__label sk-toggleable__label-arrow\">XGBClassifier</label><div class=\"sk-toggleable__content\"><pre>XGBClassifier(base_score=None, booster=None, callbacks=None,\n",
       "              colsample_bylevel=None, colsample_bynode=None,\n",
       "              colsample_bytree=None, device=None, early_stopping_rounds=None,\n",
       "              enable_categorical=False, eval_metric=None, feature_types=None,\n",
       "              gamma=None, grow_policy=None, importance_type=None,\n",
       "              interaction_constraints=None, learning_rate=None, max_bin=None,\n",
       "              max_cat_threshold=None, max_cat_to_onehot=None,\n",
       "              max_delta_step=None, max_depth=None, max_leaves=None,\n",
       "              min_child_weight=None, missing=nan, monotone_constraints=None,\n",
       "              multi_strategy=None, n_estimators=1000, n_jobs=None,\n",
       "              num_parallel_tree=None, random_state=None, ...)</pre></div></div></div></div></div>"
      ],
      "text/plain": [
       "XGBClassifier(base_score=None, booster=None, callbacks=None,\n",
       "              colsample_bylevel=None, colsample_bynode=None,\n",
       "              colsample_bytree=None, device=None, early_stopping_rounds=None,\n",
       "              enable_categorical=False, eval_metric=None, feature_types=None,\n",
       "              gamma=None, grow_policy=None, importance_type=None,\n",
       "              interaction_constraints=None, learning_rate=None, max_bin=None,\n",
       "              max_cat_threshold=None, max_cat_to_onehot=None,\n",
       "              max_delta_step=None, max_depth=None, max_leaves=None,\n",
       "              min_child_weight=None, missing=nan, monotone_constraints=None,\n",
       "              multi_strategy=None, n_estimators=1000, n_jobs=None,\n",
       "              num_parallel_tree=None, random_state=None, ...)"
      ]
     },
     "execution_count": 48,
     "metadata": {},
     "output_type": "execute_result"
    }
   ],
   "source": [
    "clf_activ = xgb.XGBClassifier(n_estimators=1000)\n",
    "clf_activ.fit(X_train, y_train)"
   ]
  },
  {
   "cell_type": "code",
   "execution_count": 49,
   "id": "746ae62c",
   "metadata": {},
   "outputs": [
    {
     "data": {
      "text/plain": [
       "<Axes: title={'center': 'Feature importance'}, xlabel='F score', ylabel='Features'>"
      ]
     },
     "execution_count": 49,
     "metadata": {},
     "output_type": "execute_result"
    },
    {
     "data": {
      "image/png": "[encoded data removed]",
      "text/plain": [
       "<Figure size 640x480 with 1 Axes>"
      ]
     },
     "metadata": {},
     "output_type": "display_data"
    }
   ],
   "source": [
    "import xgboost as xgb \n",
    "xgb.plot_importance(clf_activ, max_num_features=10)"
   ]
  },
  {
   "cell_type": "code",
   "execution_count": 38,
   "id": "fcf6afe6",
   "metadata": {},
   "outputs": [],
   "source": [
    "import pickle\n",
    "clf_activ = pickle.load(open(\"clf_activ.pkl\", \"rb\"))"
   ]
  },
  {
   "cell_type": "code",
   "execution_count": 51,
   "id": "9ef1d000",
   "metadata": {},
   "outputs": [
    {
     "name": "stdout",
     "output_type": "stream",
     "text": [
      "[[0. 1. 0. 0.]\n",
      " [0. 1. 0. 0.]\n",
      " [1. 1. 0. 0.]\n",
      " [0. 1. 0. 0.]\n",
      " [0. 1. 1. 0.]\n",
      " [0. 1. 1. 0.]\n",
      " [0. 1. 0. 0.]\n",
      " [0. 1. 0. 0.]\n",
      " [0. 1. 0. 0.]\n",
      " [0. 1. 0. 0.]\n",
      " [0. 1. 0. 0.]\n",
      " [0. 1. 0. 0.]\n",
      " [1. 1. 0. 0.]\n",
      " [0. 1. 0. 1.]\n",
      " [1. 1. 0. 0.]\n",
      " [0. 1. 0. 0.]\n",
      " [0. 1. 0. 0.]\n",
      " [0. 1. 0. 0.]\n",
      " [0. 1. 0. 0.]\n",
      " [1. 1. 0. 0.]\n",
      " [0. 1. 0. 0.]\n",
      " [0. 1. 0. 0.]\n",
      " [0. 1. 0. 0.]\n",
      " [0. 1. 1. 0.]\n",
      " [0. 1. 0. 1.]\n",
      " [0. 1. 0. 1.]\n",
      " [0. 1. 0. 0.]\n",
      " [0. 1. 0. 0.]\n",
      " [1. 1. 0. 0.]\n",
      " [0. 1. 0. 0.]\n",
      " [1. 1. 0. 0.]\n",
      " [1. 1. 1. 0.]\n",
      " [0. 1. 0. 0.]\n",
      " [0. 1. 0. 0.]\n",
      " [1. 1. 0. 0.]\n",
      " [0. 1. 0. 0.]\n",
      " [1. 1. 0. 0.]\n",
      " [0. 1. 0. 0.]\n",
      " [0. 1. 0. 0.]\n",
      " [0. 1. 0. 0.]\n",
      " [0. 1. 0. 0.]\n",
      " [0. 1. 0. 0.]\n",
      " [1. 1. 0. 0.]\n",
      " [0. 1. 0. 0.]\n",
      " [1. 1. 0. 0.]\n",
      " [0. 1. 0. 1.]\n",
      " [0. 1. 0. 0.]\n",
      " [0. 1. 0. 0.]\n",
      " [1. 1. 1. 0.]\n",
      " [0. 1. 0. 0.]\n",
      " [0. 1. 0. 0.]\n",
      " [1. 1. 1. 0.]\n",
      " [0. 1. 0. 0.]\n",
      " [1. 1. 0. 1.]\n",
      " [1. 1. 1. 0.]\n",
      " [0. 1. 0. 0.]\n",
      " [1. 1. 1. 0.]\n",
      " [0. 1. 0. 0.]\n",
      " [0. 1. 0. 0.]\n",
      " [0. 1. 0. 0.]\n",
      " [1. 1. 1. 0.]\n",
      " [0. 1. 0. 0.]\n",
      " [0. 1. 0. 0.]\n",
      " [0. 1. 1. 0.]\n",
      " [1. 1. 0. 0.]\n",
      " [0. 1. 0. 1.]\n",
      " [0. 1. 1. 0.]\n",
      " [1. 1. 1. 0.]\n",
      " [0. 1. 0. 0.]\n",
      " [0. 1. 1. 0.]\n",
      " [0. 1. 0. 0.]\n",
      " [0. 1. 0. 0.]\n",
      " [1. 1. 0. 1.]\n",
      " [0. 1. 0. 1.]\n",
      " [0. 1. 0. 0.]\n",
      " [1. 1. 1. 0.]\n",
      " [0. 1. 0. 0.]\n",
      " [0. 1. 0. 0.]\n",
      " [0. 1. 0. 0.]\n",
      " [1. 1. 0. 0.]]\n",
      "[0.88372093 0.97435897 0.93333333 0.82352941]\n",
      "[0.9145768         nan 0.98484848 0.92361111]\n"
     ]
    },
    {
     "name": "stderr",
     "output_type": "stream",
     "text": [
      "/tmp/ipykernel_157315/1634723069.py:10: RuntimeWarning: invalid value encountered in scalar divide\n",
      "  bal_ac_per_class[i] = ((matrix[1][1])/(matrix[1][1] + matrix[1][0]) + (matrix[0][0])/(matrix[0][0] + matrix[0][1]))/2\n"
     ]
    }
   ],
   "source": [
    "# Test\n",
    "pred = clf_activ.predict(X_test)\n",
    "\n",
    "conf_matrix = multilabel_confusion_matrix(pred, y_test)\n",
    "\n",
    "print(pred)\n",
    "print(F1_score_conf_matrix(conf_matrix))\n",
    "print(bal_acc_score_conf_matrix(conf_matrix))"
   ]
  },
  {
   "cell_type": "code",
   "execution_count": 52,
   "id": "5d12dccc",
   "metadata": {},
   "outputs": [
    {
     "data": {
      "text/plain": [
       "array([[0., 1., 0., 0.],\n",
       "       [0., 1., 0., 0.],\n",
       "       [1., 1., 0., 0.],\n",
       "       [0., 1., 0., 0.],\n",
       "       [0., 1., 1., 0.],\n",
       "       [0., 1., 1., 0.],\n",
       "       [0., 1., 0., 0.],\n",
       "       [0., 1., 0., 0.],\n",
       "       [0., 1., 0., 0.],\n",
       "       [0., 1., 0., 0.],\n",
       "       [0., 1., 0., 0.],\n",
       "       [0., 1., 0., 0.],\n",
       "       [1., 1., 0., 0.],\n",
       "       [0., 1., 0., 1.],\n",
       "       [1., 1., 0., 0.],\n",
       "       [0., 1., 0., 0.],\n",
       "       [0., 1., 0., 0.],\n",
       "       [0., 1., 0., 0.],\n",
       "       [0., 1., 0., 0.],\n",
       "       [1., 1., 0., 0.],\n",
       "       [0., 1., 0., 0.],\n",
       "       [0., 1., 0., 0.],\n",
       "       [0., 1., 0., 0.],\n",
       "       [0., 1., 1., 0.],\n",
       "       [0., 1., 0., 1.],\n",
       "       [0., 1., 0., 1.],\n",
       "       [0., 1., 0., 0.],\n",
       "       [0., 1., 0., 0.],\n",
       "       [1., 1., 0., 0.],\n",
       "       [0., 1., 0., 0.],\n",
       "       [1., 1., 0., 0.],\n",
       "       [1., 1., 1., 0.],\n",
       "       [0., 1., 0., 0.],\n",
       "       [0., 1., 0., 0.],\n",
       "       [1., 1., 0., 0.],\n",
       "       [0., 1., 0., 0.],\n",
       "       [1., 1., 0., 0.],\n",
       "       [0., 1., 0., 0.],\n",
       "       [0., 1., 0., 0.],\n",
       "       [0., 1., 0., 0.],\n",
       "       [0., 1., 0., 0.],\n",
       "       [0., 1., 0., 0.],\n",
       "       [1., 1., 0., 0.],\n",
       "       [0., 1., 0., 0.],\n",
       "       [1., 1., 0., 0.],\n",
       "       [0., 1., 0., 1.],\n",
       "       [0., 1., 0., 0.],\n",
       "       [0., 1., 0., 0.],\n",
       "       [1., 1., 1., 0.],\n",
       "       [0., 1., 0., 0.],\n",
       "       [0., 1., 0., 0.],\n",
       "       [1., 1., 1., 0.],\n",
       "       [0., 1., 0., 0.],\n",
       "       [1., 1., 0., 1.],\n",
       "       [1., 1., 1., 0.],\n",
       "       [0., 1., 0., 0.],\n",
       "       [1., 1., 1., 0.],\n",
       "       [0., 1., 0., 0.],\n",
       "       [0., 1., 0., 0.],\n",
       "       [0., 1., 0., 0.],\n",
       "       [1., 1., 1., 0.],\n",
       "       [0., 1., 0., 0.],\n",
       "       [0., 1., 0., 0.],\n",
       "       [0., 1., 1., 0.],\n",
       "       [1., 1., 0., 0.],\n",
       "       [0., 1., 0., 1.],\n",
       "       [0., 1., 1., 0.],\n",
       "       [1., 1., 1., 0.],\n",
       "       [0., 1., 0., 0.],\n",
       "       [0., 1., 1., 0.],\n",
       "       [0., 1., 0., 0.],\n",
       "       [0., 1., 0., 0.],\n",
       "       [1., 1., 0., 1.],\n",
       "       [0., 1., 0., 1.],\n",
       "       [0., 1., 0., 0.],\n",
       "       [1., 1., 1., 0.],\n",
       "       [0., 1., 0., 0.],\n",
       "       [0., 1., 0., 0.],\n",
       "       [0., 1., 0., 0.],\n",
       "       [1., 1., 0., 0.]])"
      ]
     },
     "execution_count": 52,
     "metadata": {},
     "output_type": "execute_result"
    }
   ],
   "source": [
    "pred"
   ]
  },
  {
   "cell_type": "code",
   "execution_count": 148,
   "id": "d257ee9e",
   "metadata": {},
   "outputs": [],
   "source": [
    "file_name = \"clf_activ.pkl\"\n",
    "\n",
    "# save\n",
    "pickle.dump(\"clf_activ.pkl\", open(file_name, \"wb\"))"
   ]
  },
  {
   "attachments": {},
   "cell_type": "markdown",
   "id": "d262e1f0",
   "metadata": {
    "papermill": {
     "duration": 0.13585,
     "end_time": "2023-05-08T15:56:29.081451",
     "exception": false,
     "start_time": "2023-05-08T15:56:28.945601",
     "status": "completed"
    },
    "pycharm": {
     "name": "#%% md\n"
    },
    "tags": []
   },
   "source": [
    "# FYI: How Timestamps Are Handled (You Probably Don't Need This)\n",
    "\n",
    "Every time the smartphone receives a package via Bluetooth from the LilyGo smartwatch, up to 16 sensor values are stored at once, together with the current timestamp. Therefore, not every sensor reading has a perfectly defined timestamp that is 100% accurate.\n",
    "\n",
    "Each <code>Trace</code> contains a list of <code>raw_timestamps</code>, which are tuples of the type `(trace index, timestamp)`.\n",
    "\n",
    "The timestamps are standard Unix timestamps in milliseconds.\n",
    "\n",
    "For example, the first two entries indicate \"The 0th value arrived at 1645184293057, the 16th value at 1645184293144.\""
   ]
  },
  {
   "cell_type": "code",
   "execution_count": null,
   "id": "3b5bfa95",
   "metadata": {},
   "outputs": [],
   "source": [
    "recording.data[\"ax\"].raw_timestamps"
   ]
  },
  {
   "cell_type": "code",
   "execution_count": null,
   "id": "5f2ad443",
   "metadata": {
    "execution": {
     "iopub.execute_input": "2023-05-08T15:56:29.350621Z",
     "iopub.status.busy": "2023-05-08T15:56:29.350231Z",
     "iopub.status.idle": "2023-05-08T15:56:29.359794Z",
     "shell.execute_reply": "2023-05-08T15:56:29.358555Z"
    },
    "papermill": {
     "duration": 0.149801,
     "end_time": "2023-05-08T15:56:29.364471",
     "exception": false,
     "start_time": "2023-05-08T15:56:29.214670",
     "status": "completed"
    },
    "pycharm": {
     "is_executing": true,
     "name": "#%%\n"
    },
    "tags": []
   },
   "outputs": [],
   "source": [
    "recording.data['ax'].raw_timestamps[-1][1]-recording.data['ax'].raw_timestamps[0][1]"
   ]
  },
  {
   "attachments": {},
   "cell_type": "markdown",
   "id": "c14e1db3",
   "metadata": {
    "papermill": {
     "duration": 0.134545,
     "end_time": "2023-05-08T15:56:29.633347",
     "exception": false,
     "start_time": "2023-05-08T15:56:29.498802",
     "status": "completed"
    },
    "pycharm": {
     "name": "#%% md\n"
    },
    "tags": []
   },
   "source": [
    "The LilyGo uses a FIFO with a constant sampling rate, so it should be a fair assumption, that the delay between two consecutive readings is always the same.\n",
    "\n",
    "By default the <code>Trace.timestamps</code> array is linearly interpolated between the first and the last timestamp (<code>linspace(0, last_timestamp, num=len(values))</code>)"
   ]
  },
  {
   "cell_type": "code",
   "execution_count": null,
   "id": "edbafdc2",
   "metadata": {
    "execution": {
     "iopub.execute_input": "2023-05-08T15:56:29.908815Z",
     "iopub.status.busy": "2023-05-08T15:56:29.908408Z",
     "iopub.status.idle": "2023-05-08T15:56:29.952091Z",
     "shell.execute_reply": "2023-05-08T15:56:29.950578Z"
    },
    "papermill": {
     "duration": 0.191656,
     "end_time": "2023-05-08T15:56:29.961722",
     "exception": false,
     "start_time": "2023-05-08T15:56:29.770066",
     "status": "completed"
    },
    "pycharm": {
     "is_executing": true,
     "name": "#%%\n"
    },
    "tags": []
   },
   "outputs": [],
   "source": [
    "# Compare \"ideal\" interpolated timestamps against actual received timestamps\n",
    "recording.data['ideal_ts'] = Trace('ideal_ts', \n",
    "                                   [recording.data['timestamp'].values[0], recording.data['timestamp'].values[-1]], \n",
    "                                   [(0,recording.data['timestamp'].values[0]), \n",
    "                                    (len(recording.data['timestamp'].values), recording.data['timestamp'].values[-1])])\n",
    "recording.plot(['timestamp', 'ideal_ts'], labels=['Received timestamps', 'Interpolated Timestamps'], ylabels=['ms'])"
   ]
  }
 ],
 "metadata": {
  "kernelspec": {
   "display_name": "Python 3",
   "language": "python",
   "name": "python3"
  },
  "language_info": {
   "codemirror_mode": {
    "name": "ipython",
    "version": 3
   },
   "file_extension": ".py",
   "mimetype": "text/x-python",
   "name": "python",
   "nbconvert_exporter": "python",
   "pygments_lexer": "ipython3",
   "version": "3.10.13"
  },
  "papermill": {
   "default_parameters": {},
   "duration": 258.995033,
   "end_time": "2023-05-08T15:56:30.420093",
   "environment_variables": {},
   "exception": null,
   "input_path": "__notebook__.ipynb",
   "output_path": "__notebook__.ipynb",
   "parameters": {},
   "start_time": "2023-05-08T15:52:11.425060",
   "version": "2.4.0"
  },
  "widgets": {
   "application/vnd.jupyter.widget-state+json": {
    "state": {
     "00c7b5a4370d440da5741e9019c3a4ee": {
      "model_module": "jupyter-matplotlib",
      "model_module_version": "^0.9.0",
      "model_name": "MPLCanvasModel",
      "state": {
       "_cursor": "pointer",
       "_dom_classes": [],
       "_figure_label": "Figure",
       "_height": 0,
       "_image_mode": "full",
       "_message": "",
       "_model_module": "jupyter-matplotlib",
       "_model_module_version": "^0.9.0",
       "_model_name": "MPLCanvasModel",
       "_rubberband_height": 0,
       "_rubberband_width": 0,
       "_rubberband_x": 0,
       "_rubberband_y": 0,
       "_view_count": null,
       "_view_module": "jupyter-matplotlib",
       "_view_module_version": "^0.9.0",
       "_view_name": "MPLCanvasView",
       "_width": 0,
       "capture_scroll": false,
       "footer_visible": true,
       "header_visible": true,
       "layout": "IPY_MODEL_0ab88a6d6aab47d38df2fe28890a1dd9",
       "resizable": true,
       "toolbar": "IPY_MODEL_6ef7791d616940f9be04ad2d13328df9",
       "toolbar_position": "left",
       "toolbar_visible": true
      }
     },
     "073ecedf4b1f4748aef965cf738a383b": {
      "model_module": "@jupyter-widgets/base",
      "model_module_version": "1.2.0",
      "model_name": "LayoutModel",
      "state": {
       "_model_module": "@jupyter-widgets/base",
       "_model_module_version": "1.2.0",
       "_model_name": "LayoutModel",
       "_view_count": null,
       "_view_module": "@jupyter-widgets/base",
       "_view_module_version": "1.2.0",
       "_view_name": "LayoutView",
       "align_content": null,
       "align_items": null,
       "align_self": null,
       "border": null,
       "bottom": null,
       "display": null,
       "flex": null,
       "flex_flow": null,
       "grid_area": null,
       "grid_auto_columns": null,
       "grid_auto_flow": null,
       "grid_auto_rows": null,
       "grid_column": null,
       "grid_gap": null,
       "grid_row": null,
       "grid_template_areas": null,
       "grid_template_columns": null,
       "grid_template_rows": null,
       "height": null,
       "justify_content": null,
       "justify_items": null,
       "left": null,
       "margin": null,
       "max_height": null,
       "max_width": null,
       "min_height": null,
       "min_width": null,
       "object_fit": null,
       "object_position": null,
       "order": null,
       "overflow": null,
       "overflow_x": null,
       "overflow_y": null,
       "padding": null,
       "right": null,
       "top": null,
       "visibility": null,
       "width": null
      }
     },
     "0a7566c61c9343f6a47be800425600ff": {
      "model_module": "@jupyter-widgets/base",
      "model_module_version": "1.2.0",
      "model_name": "LayoutModel",
      "state": {
       "_model_module": "@jupyter-widgets/base",
       "_model_module_version": "1.2.0",
       "_model_name": "LayoutModel",
       "_view_count": null,
       "_view_module": "@jupyter-widgets/base",
       "_view_module_version": "1.2.0",
       "_view_name": "LayoutView",
       "align_content": null,
       "align_items": null,
       "align_self": null,
       "border": null,
       "bottom": null,
       "display": null,
       "flex": null,
       "flex_flow": null,
       "grid_area": null,
       "grid_auto_columns": null,
       "grid_auto_flow": null,
       "grid_auto_rows": null,
       "grid_column": null,
       "grid_gap": null,
       "grid_row": null,
       "grid_template_areas": null,
       "grid_template_columns": null,
       "grid_template_rows": null,
       "height": null,
       "justify_content": null,
       "justify_items": null,
       "left": null,
       "margin": null,
       "max_height": null,
       "max_width": null,
       "min_height": null,
       "min_width": null,
       "object_fit": null,
       "object_position": null,
       "order": null,
       "overflow": null,
       "overflow_x": null,
       "overflow_y": null,
       "padding": null,
       "right": null,
       "top": null,
       "visibility": null,
       "width": null
      }
     },
     "0ab88a6d6aab47d38df2fe28890a1dd9": {
      "model_module": "@jupyter-widgets/base",
      "model_module_version": "1.2.0",
      "model_name": "LayoutModel",
      "state": {
       "_model_module": "@jupyter-widgets/base",
       "_model_module_version": "1.2.0",
       "_model_name": "LayoutModel",
       "_view_count": null,
       "_view_module": "@jupyter-widgets/base",
       "_view_module_version": "1.2.0",
       "_view_name": "LayoutView",
       "align_content": null,
       "align_items": null,
       "align_self": null,
       "border": null,
       "bottom": null,
       "display": null,
       "flex": null,
       "flex_flow": null,
       "grid_area": null,
       "grid_auto_columns": null,
       "grid_auto_flow": null,
       "grid_auto_rows": null,
       "grid_column": null,
       "grid_gap": null,
       "grid_row": null,
       "grid_template_areas": null,
       "grid_template_columns": null,
       "grid_template_rows": null,
       "height": null,
       "justify_content": null,
       "justify_items": null,
       "left": null,
       "margin": null,
       "max_height": null,
       "max_width": null,
       "min_height": null,
       "min_width": null,
       "object_fit": null,
       "object_position": null,
       "order": null,
       "overflow": null,
       "overflow_x": null,
       "overflow_y": null,
       "padding": null,
       "right": null,
       "top": null,
       "visibility": null,
       "width": null
      }
     },
     "0c81743535ea4007a97860e576982cef": {
      "model_module": "@jupyter-widgets/base",
      "model_module_version": "1.2.0",
      "model_name": "LayoutModel",
      "state": {
       "_model_module": "@jupyter-widgets/base",
       "_model_module_version": "1.2.0",
       "_model_name": "LayoutModel",
       "_view_count": null,
       "_view_module": "@jupyter-widgets/base",
       "_view_module_version": "1.2.0",
       "_view_name": "LayoutView",
       "align_content": null,
       "align_items": null,
       "align_self": null,
       "border": null,
       "bottom": null,
       "display": null,
       "flex": null,
       "flex_flow": null,
       "grid_area": null,
       "grid_auto_columns": null,
       "grid_auto_flow": null,
       "grid_auto_rows": null,
       "grid_column": null,
       "grid_gap": null,
       "grid_row": null,
       "grid_template_areas": null,
       "grid_template_columns": null,
       "grid_template_rows": null,
       "height": null,
       "justify_content": null,
       "justify_items": null,
       "left": null,
       "margin": null,
       "max_height": null,
       "max_width": null,
       "min_height": null,
       "min_width": null,
       "object_fit": null,
       "object_position": null,
       "order": null,
       "overflow": null,
       "overflow_x": null,
       "overflow_y": null,
       "padding": null,
       "right": null,
       "top": null,
       "visibility": null,
       "width": null
      }
     },
     "10a3ead5b29b4c978a24394bbc28fcb5": {
      "model_module": "@jupyter-widgets/base",
      "model_module_version": "1.2.0",
      "model_name": "LayoutModel",
      "state": {
       "_model_module": "@jupyter-widgets/base",
       "_model_module_version": "1.2.0",
       "_model_name": "LayoutModel",
       "_view_count": null,
       "_view_module": "@jupyter-widgets/base",
       "_view_module_version": "1.2.0",
       "_view_name": "LayoutView",
       "align_content": null,
       "align_items": null,
       "align_self": null,
       "border": null,
       "bottom": null,
       "display": null,
       "flex": null,
       "flex_flow": null,
       "grid_area": null,
       "grid_auto_columns": null,
       "grid_auto_flow": null,
       "grid_auto_rows": null,
       "grid_column": null,
       "grid_gap": null,
       "grid_row": null,
       "grid_template_areas": null,
       "grid_template_columns": null,
       "grid_template_rows": null,
       "height": null,
       "justify_content": null,
       "justify_items": null,
       "left": null,
       "margin": null,
       "max_height": null,
       "max_width": null,
       "min_height": null,
       "min_width": null,
       "object_fit": null,
       "object_position": null,
       "order": null,
       "overflow": null,
       "overflow_x": null,
       "overflow_y": null,
       "padding": null,
       "right": null,
       "top": null,
       "visibility": null,
       "width": null
      }
     },
     "15ff8c9ab36b4ea2bee42ce24417b9f6": {
      "model_module": "jupyter-matplotlib",
      "model_module_version": "^0.9.0",
      "model_name": "ToolbarModel",
      "state": {
       "_current_action": "",
       "_dom_classes": [],
       "_model_module": "jupyter-matplotlib",
       "_model_module_version": "^0.9.0",
       "_model_name": "ToolbarModel",
       "_view_count": null,
       "_view_module": "jupyter-matplotlib",
       "_view_module_version": "^0.9.0",
       "_view_name": "ToolbarView",
       "button_style": "",
       "collapsed": true,
       "layout": "IPY_MODEL_f9d6793876ca43a5a9233c09c4decfe4",
       "orientation": "vertical",
       "toolitems": [
        [
         "Home",
         "Reset original view",
         "home",
         "home"
        ],
        [
         "Back",
         "Back to previous view",
         "arrow-left",
         "back"
        ],
        [
         "Forward",
         "Forward to next view",
         "arrow-right",
         "forward"
        ],
        [
         "Pan",
         "Left button pans, Right button zooms\nx/y fixes axis, CTRL fixes aspect",
         "arrows",
         "pan"
        ],
        [
         "Zoom",
         "Zoom to rectangle\nx/y fixes axis",
         "square-o",
         "zoom"
        ],
        [
         "Download",
         "Download plot",
         "floppy-o",
         "save_figure"
        ]
       ]
      }
     },
     "2109b014921747888df94b2928f6a5cc": {
      "model_module": "jupyter-matplotlib",
      "model_module_version": "^0.9.0",
      "model_name": "MPLCanvasModel",
      "state": {
       "_cursor": "pointer",
       "_dom_classes": [],
       "_figure_label": "Figure",
       "_height": 0,
       "_image_mode": "full",
       "_message": "",
       "_model_module": "jupyter-matplotlib",
       "_model_module_version": "^0.9.0",
       "_model_name": "MPLCanvasModel",
       "_rubberband_height": 0,
       "_rubberband_width": 0,
       "_rubberband_x": 0,
       "_rubberband_y": 0,
       "_view_count": null,
       "_view_module": "jupyter-matplotlib",
       "_view_module_version": "^0.9.0",
       "_view_name": "MPLCanvasView",
       "_width": 0,
       "capture_scroll": false,
       "footer_visible": true,
       "header_visible": true,
       "layout": "IPY_MODEL_0c81743535ea4007a97860e576982cef",
       "resizable": true,
       "toolbar": "IPY_MODEL_8bc9cf7592674853a10e264cb0a151f3",
       "toolbar_position": "left",
       "toolbar_visible": true
      }
     },
     "24ebd47b9161484991d095c47eaba4dd": {
      "model_module": "@jupyter-widgets/base",
      "model_module_version": "1.2.0",
      "model_name": "LayoutModel",
      "state": {
       "_model_module": "@jupyter-widgets/base",
       "_model_module_version": "1.2.0",
       "_model_name": "LayoutModel",
       "_view_count": null,
       "_view_module": "@jupyter-widgets/base",
       "_view_module_version": "1.2.0",
       "_view_name": "LayoutView",
       "align_content": null,
       "align_items": null,
       "align_self": null,
       "border": null,
       "bottom": null,
       "display": null,
       "flex": null,
       "flex_flow": null,
       "grid_area": null,
       "grid_auto_columns": null,
       "grid_auto_flow": null,
       "grid_auto_rows": null,
       "grid_column": null,
       "grid_gap": null,
       "grid_row": null,
       "grid_template_areas": null,
       "grid_template_columns": null,
       "grid_template_rows": null,
       "height": null,
       "justify_content": null,
       "justify_items": null,
       "left": null,
       "margin": null,
       "max_height": null,
       "max_width": null,
       "min_height": null,
       "min_width": null,
       "object_fit": null,
       "object_position": null,
       "order": null,
       "overflow": null,
       "overflow_x": null,
       "overflow_y": null,
       "padding": null,
       "right": null,
       "top": null,
       "visibility": null,
       "width": null
      }
     },
     "359a501b81204dcdaf47192f6562a5b4": {
      "model_module": "@jupyter-widgets/base",
      "model_module_version": "1.2.0",
      "model_name": "LayoutModel",
      "state": {
       "_model_module": "@jupyter-widgets/base",
       "_model_module_version": "1.2.0",
       "_model_name": "LayoutModel",
       "_view_count": null,
       "_view_module": "@jupyter-widgets/base",
       "_view_module_version": "1.2.0",
       "_view_name": "LayoutView",
       "align_content": null,
       "align_items": null,
       "align_self": null,
       "border": null,
       "bottom": null,
       "display": null,
       "flex": null,
       "flex_flow": null,
       "grid_area": null,
       "grid_auto_columns": null,
       "grid_auto_flow": null,
       "grid_auto_rows": null,
       "grid_column": null,
       "grid_gap": null,
       "grid_row": null,
       "grid_template_areas": null,
       "grid_template_columns": null,
       "grid_template_rows": null,
       "height": null,
       "justify_content": null,
       "justify_items": null,
       "left": null,
       "margin": null,
       "max_height": null,
       "max_width": null,
       "min_height": null,
       "min_width": null,
       "object_fit": null,
       "object_position": null,
       "order": null,
       "overflow": null,
       "overflow_x": null,
       "overflow_y": null,
       "padding": null,
       "right": null,
       "top": null,
       "visibility": null,
       "width": null
      }
     },
     "3a4b6d3e6feb41ee8f025d3b49e5d62b": {
      "model_module": "jupyter-matplotlib",
      "model_module_version": "^0.9.0",
      "model_name": "MPLCanvasModel",
      "state": {
       "_cursor": "pointer",
       "_dom_classes": [],
       "_figure_label": "Figure",
       "_height": 0,
       "_image_mode": "full",
       "_message": "",
       "_model_module": "jupyter-matplotlib",
       "_model_module_version": "^0.9.0",
       "_model_name": "MPLCanvasModel",
       "_rubberband_height": 0,
       "_rubberband_width": 0,
       "_rubberband_x": 0,
       "_rubberband_y": 0,
       "_view_count": null,
       "_view_module": "jupyter-matplotlib",
       "_view_module_version": "^0.9.0",
       "_view_name": "MPLCanvasView",
       "_width": 0,
       "capture_scroll": false,
       "footer_visible": true,
       "header_visible": true,
       "layout": "IPY_MODEL_10a3ead5b29b4c978a24394bbc28fcb5",
       "resizable": true,
       "toolbar": "IPY_MODEL_ea3329a52d1f4f3bb2debfed2f899680",
       "toolbar_position": "left",
       "toolbar_visible": true
      }
     },
     "3f4afcefb7734989901b33b6449ee377": {
      "model_module": "@jupyter-widgets/base",
      "model_module_version": "1.2.0",
      "model_name": "LayoutModel",
      "state": {
       "_model_module": "@jupyter-widgets/base",
       "_model_module_version": "1.2.0",
       "_model_name": "LayoutModel",
       "_view_count": null,
       "_view_module": "@jupyter-widgets/base",
       "_view_module_version": "1.2.0",
       "_view_name": "LayoutView",
       "align_content": null,
       "align_items": null,
       "align_self": null,
       "border": null,
       "bottom": null,
       "display": null,
       "flex": null,
       "flex_flow": null,
       "grid_area": null,
       "grid_auto_columns": null,
       "grid_auto_flow": null,
       "grid_auto_rows": null,
       "grid_column": null,
       "grid_gap": null,
       "grid_row": null,
       "grid_template_areas": null,
       "grid_template_columns": null,
       "grid_template_rows": null,
       "height": null,
       "justify_content": null,
       "justify_items": null,
       "left": null,
       "margin": null,
       "max_height": null,
       "max_width": null,
       "min_height": null,
       "min_width": null,
       "object_fit": null,
       "object_position": null,
       "order": null,
       "overflow": null,
       "overflow_x": null,
       "overflow_y": null,
       "padding": null,
       "right": null,
       "top": null,
       "visibility": null,
       "width": null
      }
     },
     "50586eba3be94317bd386beb7c9c32fb": {
      "model_module": "jupyter-matplotlib",
      "model_module_version": "^0.9.0",
      "model_name": "MPLCanvasModel",
      "state": {
       "_cursor": "pointer",
       "_dom_classes": [],
       "_figure_label": "Figure",
       "_height": 0,
       "_image_mode": "full",
       "_message": "",
       "_model_module": "jupyter-matplotlib",
       "_model_module_version": "^0.9.0",
       "_model_name": "MPLCanvasModel",
       "_rubberband_height": 0,
       "_rubberband_width": 0,
       "_rubberband_x": 0,
       "_rubberband_y": 0,
       "_view_count": null,
       "_view_module": "jupyter-matplotlib",
       "_view_module_version": "^0.9.0",
       "_view_name": "MPLCanvasView",
       "_width": 0,
       "capture_scroll": false,
       "footer_visible": true,
       "header_visible": true,
       "layout": "IPY_MODEL_0a7566c61c9343f6a47be800425600ff",
       "resizable": true,
       "toolbar": "IPY_MODEL_fd15679d5e8548b8a6463abe17a95a42",
       "toolbar_position": "left",
       "toolbar_visible": true
      }
     },
     "610d9124170345c99d3cd46393909cc3": {
      "model_module": "@jupyter-widgets/base",
      "model_module_version": "1.2.0",
      "model_name": "LayoutModel",
      "state": {
       "_model_module": "@jupyter-widgets/base",
       "_model_module_version": "1.2.0",
       "_model_name": "LayoutModel",
       "_view_count": null,
       "_view_module": "@jupyter-widgets/base",
       "_view_module_version": "1.2.0",
       "_view_name": "LayoutView",
       "align_content": null,
       "align_items": null,
       "align_self": null,
       "border": null,
       "bottom": null,
       "display": null,
       "flex": null,
       "flex_flow": null,
       "grid_area": null,
       "grid_auto_columns": null,
       "grid_auto_flow": null,
       "grid_auto_rows": null,
       "grid_column": null,
       "grid_gap": null,
       "grid_row": null,
       "grid_template_areas": null,
       "grid_template_columns": null,
       "grid_template_rows": null,
       "height": null,
       "justify_content": null,
       "justify_items": null,
       "left": null,
       "margin": null,
       "max_height": null,
       "max_width": null,
       "min_height": null,
       "min_width": null,
       "object_fit": null,
       "object_position": null,
       "order": null,
       "overflow": null,
       "overflow_x": null,
       "overflow_y": null,
       "padding": null,
       "right": null,
       "top": null,
       "visibility": null,
       "width": null
      }
     },
     "64f0d3d5379543f98f1b04ae857fc4f6": {
      "model_module": "jupyter-matplotlib",
      "model_module_version": "^0.9.0",
      "model_name": "ToolbarModel",
      "state": {
       "_current_action": "",
       "_dom_classes": [],
       "_model_module": "jupyter-matplotlib",
       "_model_module_version": "^0.9.0",
       "_model_name": "ToolbarModel",
       "_view_count": null,
       "_view_module": "jupyter-matplotlib",
       "_view_module_version": "^0.9.0",
       "_view_name": "ToolbarView",
       "button_style": "",
       "collapsed": true,
       "layout": "IPY_MODEL_9930da9f3733407c93e6c287d1846c30",
       "orientation": "vertical",
       "toolitems": [
        [
         "Home",
         "Reset original view",
         "home",
         "home"
        ],
        [
         "Back",
         "Back to previous view",
         "arrow-left",
         "back"
        ],
        [
         "Forward",
         "Forward to next view",
         "arrow-right",
         "forward"
        ],
        [
         "Pan",
         "Left button pans, Right button zooms\nx/y fixes axis, CTRL fixes aspect",
         "arrows",
         "pan"
        ],
        [
         "Zoom",
         "Zoom to rectangle\nx/y fixes axis",
         "square-o",
         "zoom"
        ],
        [
         "Download",
         "Download plot",
         "floppy-o",
         "save_figure"
        ]
       ]
      }
     },
     "6ef7791d616940f9be04ad2d13328df9": {
      "model_module": "jupyter-matplotlib",
      "model_module_version": "^0.9.0",
      "model_name": "ToolbarModel",
      "state": {
       "_current_action": "",
       "_dom_classes": [],
       "_model_module": "jupyter-matplotlib",
       "_model_module_version": "^0.9.0",
       "_model_name": "ToolbarModel",
       "_view_count": null,
       "_view_module": "jupyter-matplotlib",
       "_view_module_version": "^0.9.0",
       "_view_name": "ToolbarView",
       "button_style": "",
       "collapsed": true,
       "layout": "IPY_MODEL_073ecedf4b1f4748aef965cf738a383b",
       "orientation": "vertical",
       "toolitems": [
        [
         "Home",
         "Reset original view",
         "home",
         "home"
        ],
        [
         "Back",
         "Back to previous view",
         "arrow-left",
         "back"
        ],
        [
         "Forward",
         "Forward to next view",
         "arrow-right",
         "forward"
        ],
        [
         "Pan",
         "Left button pans, Right button zooms\nx/y fixes axis, CTRL fixes aspect",
         "arrows",
         "pan"
        ],
        [
         "Zoom",
         "Zoom to rectangle\nx/y fixes axis",
         "square-o",
         "zoom"
        ],
        [
         "Download",
         "Download plot",
         "floppy-o",
         "save_figure"
        ]
       ]
      }
     },
     "6ff2dc6b8dd848e3b213166de21a9d57": {
      "model_module": "jupyter-matplotlib",
      "model_module_version": "^0.9.0",
      "model_name": "MPLCanvasModel",
      "state": {
       "_cursor": "pointer",
       "_dom_classes": [],
       "_figure_label": "Figure",
       "_height": 0,
       "_image_mode": "full",
       "_message": "",
       "_model_module": "jupyter-matplotlib",
       "_model_module_version": "^0.9.0",
       "_model_name": "MPLCanvasModel",
       "_rubberband_height": 0,
       "_rubberband_width": 0,
       "_rubberband_x": 0,
       "_rubberband_y": 0,
       "_view_count": null,
       "_view_module": "jupyter-matplotlib",
       "_view_module_version": "^0.9.0",
       "_view_name": "MPLCanvasView",
       "_width": 0,
       "capture_scroll": false,
       "footer_visible": true,
       "header_visible": true,
       "layout": "IPY_MODEL_610d9124170345c99d3cd46393909cc3",
       "resizable": true,
       "toolbar": "IPY_MODEL_15ff8c9ab36b4ea2bee42ce24417b9f6",
       "toolbar_position": "left",
       "toolbar_visible": true
      }
     },
     "8bc9cf7592674853a10e264cb0a151f3": {
      "model_module": "jupyter-matplotlib",
      "model_module_version": "^0.9.0",
      "model_name": "ToolbarModel",
      "state": {
       "_current_action": "",
       "_dom_classes": [],
       "_model_module": "jupyter-matplotlib",
       "_model_module_version": "^0.9.0",
       "_model_name": "ToolbarModel",
       "_view_count": null,
       "_view_module": "jupyter-matplotlib",
       "_view_module_version": "^0.9.0",
       "_view_name": "ToolbarView",
       "button_style": "",
       "collapsed": true,
       "layout": "IPY_MODEL_24ebd47b9161484991d095c47eaba4dd",
       "orientation": "vertical",
       "toolitems": [
        [
         "Home",
         "Reset original view",
         "home",
         "home"
        ],
        [
         "Back",
         "Back to previous view",
         "arrow-left",
         "back"
        ],
        [
         "Forward",
         "Forward to next view",
         "arrow-right",
         "forward"
        ],
        [
         "Pan",
         "Left button pans, Right button zooms\nx/y fixes axis, CTRL fixes aspect",
         "arrows",
         "pan"
        ],
        [
         "Zoom",
         "Zoom to rectangle\nx/y fixes axis",
         "square-o",
         "zoom"
        ],
        [
         "Download",
         "Download plot",
         "floppy-o",
         "save_figure"
        ]
       ]
      }
     },
     "9930da9f3733407c93e6c287d1846c30": {
      "model_module": "@jupyter-widgets/base",
      "model_module_version": "1.2.0",
      "model_name": "LayoutModel",
      "state": {
       "_model_module": "@jupyter-widgets/base",
       "_model_module_version": "1.2.0",
       "_model_name": "LayoutModel",
       "_view_count": null,
       "_view_module": "@jupyter-widgets/base",
       "_view_module_version": "1.2.0",
       "_view_name": "LayoutView",
       "align_content": null,
       "align_items": null,
       "align_self": null,
       "border": null,
       "bottom": null,
       "display": null,
       "flex": null,
       "flex_flow": null,
       "grid_area": null,
       "grid_auto_columns": null,
       "grid_auto_flow": null,
       "grid_auto_rows": null,
       "grid_column": null,
       "grid_gap": null,
       "grid_row": null,
       "grid_template_areas": null,
       "grid_template_columns": null,
       "grid_template_rows": null,
       "height": null,
       "justify_content": null,
       "justify_items": null,
       "left": null,
       "margin": null,
       "max_height": null,
       "max_width": null,
       "min_height": null,
       "min_width": null,
       "object_fit": null,
       "object_position": null,
       "order": null,
       "overflow": null,
       "overflow_x": null,
       "overflow_y": null,
       "padding": null,
       "right": null,
       "top": null,
       "visibility": null,
       "width": null
      }
     },
     "e6c2a9f888954e929f6a2897d982b65d": {
      "model_module": "@jupyter-widgets/base",
      "model_module_version": "1.2.0",
      "model_name": "LayoutModel",
      "state": {
       "_model_module": "@jupyter-widgets/base",
       "_model_module_version": "1.2.0",
       "_model_name": "LayoutModel",
       "_view_count": null,
       "_view_module": "@jupyter-widgets/base",
       "_view_module_version": "1.2.0",
       "_view_name": "LayoutView",
       "align_content": null,
       "align_items": null,
       "align_self": null,
       "border": null,
       "bottom": null,
       "display": null,
       "flex": null,
       "flex_flow": null,
       "grid_area": null,
       "grid_auto_columns": null,
       "grid_auto_flow": null,
       "grid_auto_rows": null,
       "grid_column": null,
       "grid_gap": null,
       "grid_row": null,
       "grid_template_areas": null,
       "grid_template_columns": null,
       "grid_template_rows": null,
       "height": null,
       "justify_content": null,
       "justify_items": null,
       "left": null,
       "margin": null,
       "max_height": null,
       "max_width": null,
       "min_height": null,
       "min_width": null,
       "object_fit": null,
       "object_position": null,
       "order": null,
       "overflow": null,
       "overflow_x": null,
       "overflow_y": null,
       "padding": null,
       "right": null,
       "top": null,
       "visibility": null,
       "width": null
      }
     },
     "ea3329a52d1f4f3bb2debfed2f899680": {
      "model_module": "jupyter-matplotlib",
      "model_module_version": "^0.9.0",
      "model_name": "ToolbarModel",
      "state": {
       "_current_action": "",
       "_dom_classes": [],
       "_model_module": "jupyter-matplotlib",
       "_model_module_version": "^0.9.0",
       "_model_name": "ToolbarModel",
       "_view_count": null,
       "_view_module": "jupyter-matplotlib",
       "_view_module_version": "^0.9.0",
       "_view_name": "ToolbarView",
       "button_style": "",
       "collapsed": true,
       "layout": "IPY_MODEL_359a501b81204dcdaf47192f6562a5b4",
       "orientation": "vertical",
       "toolitems": [
        [
         "Home",
         "Reset original view",
         "home",
         "home"
        ],
        [
         "Back",
         "Back to previous view",
         "arrow-left",
         "back"
        ],
        [
         "Forward",
         "Forward to next view",
         "arrow-right",
         "forward"
        ],
        [
         "Pan",
         "Left button pans, Right button zooms\nx/y fixes axis, CTRL fixes aspect",
         "arrows",
         "pan"
        ],
        [
         "Zoom",
         "Zoom to rectangle\nx/y fixes axis",
         "square-o",
         "zoom"
        ],
        [
         "Download",
         "Download plot",
         "floppy-o",
         "save_figure"
        ]
       ]
      }
     },
     "f9d6793876ca43a5a9233c09c4decfe4": {
      "model_module": "@jupyter-widgets/base",
      "model_module_version": "1.2.0",
      "model_name": "LayoutModel",
      "state": {
       "_model_module": "@jupyter-widgets/base",
       "_model_module_version": "1.2.0",
       "_model_name": "LayoutModel",
       "_view_count": null,
       "_view_module": "@jupyter-widgets/base",
       "_view_module_version": "1.2.0",
       "_view_name": "LayoutView",
       "align_content": null,
       "align_items": null,
       "align_self": null,
       "border": null,
       "bottom": null,
       "display": null,
       "flex": null,
       "flex_flow": null,
       "grid_area": null,
       "grid_auto_columns": null,
       "grid_auto_flow": null,
       "grid_auto_rows": null,
       "grid_column": null,
       "grid_gap": null,
       "grid_row": null,
       "grid_template_areas": null,
       "grid_template_columns": null,
       "grid_template_rows": null,
       "height": null,
       "justify_content": null,
       "justify_items": null,
       "left": null,
       "margin": null,
       "max_height": null,
       "max_width": null,
       "min_height": null,
       "min_width": null,
       "object_fit": null,
       "object_position": null,
       "order": null,
       "overflow": null,
       "overflow_x": null,
       "overflow_y": null,
       "padding": null,
       "right": null,
       "top": null,
       "visibility": null,
       "width": null
      }
     },
     "fd15679d5e8548b8a6463abe17a95a42": {
      "model_module": "jupyter-matplotlib",
      "model_module_version": "^0.9.0",
      "model_name": "ToolbarModel",
      "state": {
       "_current_action": "",
       "_dom_classes": [],
       "_model_module": "jupyter-matplotlib",
       "_model_module_version": "^0.9.0",
       "_model_name": "ToolbarModel",
       "_view_count": null,
       "_view_module": "jupyter-matplotlib",
       "_view_module_version": "^0.9.0",
       "_view_name": "ToolbarView",
       "button_style": "",
       "collapsed": true,
       "layout": "IPY_MODEL_3f4afcefb7734989901b33b6449ee377",
       "orientation": "vertical",
       "toolitems": [
        [
         "Home",
         "Reset original view",
         "home",
         "home"
        ],
        [
         "Back",
         "Back to previous view",
         "arrow-left",
         "back"
        ],
        [
         "Forward",
         "Forward to next view",
         "arrow-right",
         "forward"
        ],
        [
         "Pan",
         "Left button pans, Right button zooms\nx/y fixes axis, CTRL fixes aspect",
         "arrows",
         "pan"
        ],
        [
         "Zoom",
         "Zoom to rectangle\nx/y fixes axis",
         "square-o",
         "zoom"
        ],
        [
         "Download",
         "Download plot",
         "floppy-o",
         "save_figure"
        ]
       ]
      }
     },
     "ff3ac944ad4240d4ba926e9700e01463": {
      "model_module": "jupyter-matplotlib",
      "model_module_version": "^0.9.0",
      "model_name": "MPLCanvasModel",
      "state": {
       "_cursor": "pointer",
       "_dom_classes": [],
       "_figure_label": "Figure",
       "_height": 0,
       "_image_mode": "full",
       "_message": "",
       "_model_module": "jupyter-matplotlib",
       "_model_module_version": "^0.9.0",
       "_model_name": "MPLCanvasModel",
       "_rubberband_height": 0,
       "_rubberband_width": 0,
       "_rubberband_x": 0,
       "_rubberband_y": 0,
       "_view_count": null,
       "_view_module": "jupyter-matplotlib",
       "_view_module_version": "^0.9.0",
       "_view_name": "MPLCanvasView",
       "_width": 0,
       "capture_scroll": false,
       "footer_visible": true,
       "header_visible": true,
       "layout": "IPY_MODEL_e6c2a9f888954e929f6a2897d982b65d",
       "resizable": true,
       "toolbar": "IPY_MODEL_64f0d3d5379543f98f1b04ae857fc4f6",
       "toolbar_position": "left",
       "toolbar_visible": true
      }
     }
    },
    "version_major": 2,
    "version_minor": 0
   }
  }
 },
 "nbformat": 4,
 "nbformat_minor": 5
}
